{
 "cells": [
  {
   "cell_type": "markdown",
   "id": "d2370905-e5a3-4abe-ba40-ddb419562c0d",
   "metadata": {},
   "source": [
    "# Sample Summary Tables"
   ]
  },
  {
   "cell_type": "code",
   "execution_count": 12,
   "id": "3eea7e39-6e26-4b27-81a2-6e8e23419535",
   "metadata": {},
   "outputs": [],
   "source": [
    "library(dplyr)\n",
    "library(tidyverse)\n",
    "library(ggplot2)\n",
    "library(tidyr)\n",
    "library(purrr)\n",
    "library(stringr)"
   ]
  },
  {
   "cell_type": "markdown",
   "id": "1c82684c-14a9-499f-aed6-64a5f6fb32fa",
   "metadata": {},
   "source": [
    "## SCTLD\n",
    "- bks sample set (see CBC_Metagenomics repo for more)"
   ]
  },
  {
   "cell_type": "code",
   "execution_count": 13,
   "id": "203d15c9-9b40-41af-bf5a-2eab15c92e13",
   "metadata": {},
   "outputs": [
    {
     "data": {
      "text/html": [
       "'/Users/brookesienkiewicz/Documents/Code_notebook/Data_Summaries'"
      ],
      "text/latex": [
       "'/Users/brookesienkiewicz/Documents/Code\\_notebook/Data\\_Summaries'"
      ],
      "text/markdown": [
       "'/Users/brookesienkiewicz/Documents/Code_notebook/Data_Summaries'"
      ],
      "text/plain": [
       "[1] \"/Users/brookesienkiewicz/Documents/Code_notebook/Data_Summaries\""
      ]
     },
     "metadata": {},
     "output_type": "display_data"
    }
   ],
   "source": [
    "getwd()"
   ]
  },
  {
   "cell_type": "code",
   "execution_count": 14,
   "id": "b0a22103-3c12-4cab-a2ae-fff1b08ac3cc",
   "metadata": {},
   "outputs": [],
   "source": [
    "# upload sequence list and rename col \n",
    "samplelist<-read.table('../inputs/genohublist_sctld2024.txt', header = FALSE)"
   ]
  },
  {
   "cell_type": "code",
   "execution_count": 15,
   "id": "20e26ff0-8a13-4823-bac9-0cf59732a575",
   "metadata": {},
   "outputs": [
    {
     "data": {
      "text/html": [
       "222"
      ],
      "text/latex": [
       "222"
      ],
      "text/markdown": [
       "222"
      ],
      "text/plain": [
       "[1] 222"
      ]
     },
     "metadata": {},
     "output_type": "display_data"
    }
   ],
   "source": [
    "nrow(samplelist)"
   ]
  },
  {
   "cell_type": "code",
   "execution_count": 16,
   "id": "20e13ed8-76aa-41fe-a1ec-8fcc581de210",
   "metadata": {},
   "outputs": [
    {
     "name": "stderr",
     "output_type": "stream",
     "text": [
      "\u001b[1m\u001b[22mNew names:\n",
      "\u001b[36m•\u001b[39m `` -> `...1`\n"
     ]
    }
   ],
   "source": [
    "# upload colony and sample data\n",
    "colony <- read_csv(\"/Users/brookesienkiewicz/Documents/sctld/SCTLD_samples/Sample_Data/CBC_ColonyData.csv\", show_col_types = FALSE)\n",
    "sctld_samples <- read.csv(\"/Users/brookesienkiewicz/Documents/sctld/SCTLD_samples/Sample_Data/CBC_samples.csv\")"
   ]
  },
  {
   "cell_type": "code",
   "execution_count": 17,
   "id": "94cbf82c-1a18-4ba1-b5a1-7d9ec7ec393e",
   "metadata": {},
   "outputs": [
    {
     "data": {
      "text/html": [
       "2529"
      ],
      "text/latex": [
       "2529"
      ],
      "text/markdown": [
       "2529"
      ],
      "text/plain": [
       "[1] 2529"
      ]
     },
     "metadata": {},
     "output_type": "display_data"
    }
   ],
   "source": [
    "nrow(sctld_samples)"
   ]
  },
  {
   "cell_type": "code",
   "execution_count": 18,
   "id": "97365d33-d196-419c-80d4-d05959eeb4f4",
   "metadata": {},
   "outputs": [],
   "source": [
    "# add colony ids to all dfs\n",
    "add_colonyid <- function(df) {\n",
    "    # get transect # \n",
    "    df$transect_id <- paste0('T',df$TransectNum)\n",
    "    # make colony id \n",
    "    df$colony_id <- paste(df$transect_id, df$NewTagNum, df$Species,\n",
    "                                 sep = \"_\")\n",
    "    return(df)\n",
    "}\n",
    "\n",
    "# apply \n",
    "sctld_samples<-add_colonyid(sctld_samples)\n",
    "colony <- add_colonyid(colony)"
   ]
  },
  {
   "cell_type": "code",
   "execution_count": 19,
   "id": "a3900668-e719-4f70-a2b8-c519345fc97c",
   "metadata": {},
   "outputs": [
    {
     "data": {
      "text/html": [
       "<table class=\"dataframe\">\n",
       "<caption>A data.frame: 6 × 22</caption>\n",
       "<thead>\n",
       "\t<tr><th></th><th scope=col>Month_year</th><th scope=col>Country</th><th scope=col>Location</th><th scope=col>CollectionDate</th><th scope=col>Transect</th><th scope=col>TransectNum</th><th scope=col>OldTagNum</th><th scope=col>NewTagNum</th><th scope=col>Species</th><th scope=col>Time_sampled</th><th scope=col>⋯</th><th scope=col>SampleNum</th><th scope=col>Health_status</th><th scope=col>Sampling_notes</th><th scope=col>Tubelabel_species</th><th scope=col>Sample_physical_location</th><th scope=col>Extraction_physical_location</th><th scope=col>Date_sequenced</th><th scope=col>Notes</th><th scope=col>transect_id</th><th scope=col>colony_id</th></tr>\n",
       "\t<tr><th></th><th scope=col>&lt;int&gt;</th><th scope=col>&lt;chr&gt;</th><th scope=col>&lt;chr&gt;</th><th scope=col>&lt;chr&gt;</th><th scope=col>&lt;chr&gt;</th><th scope=col>&lt;int&gt;</th><th scope=col>&lt;chr&gt;</th><th scope=col>&lt;chr&gt;</th><th scope=col>&lt;chr&gt;</th><th scope=col>&lt;chr&gt;</th><th scope=col>⋯</th><th scope=col>&lt;chr&gt;</th><th scope=col>&lt;chr&gt;</th><th scope=col>&lt;chr&gt;</th><th scope=col>&lt;chr&gt;</th><th scope=col>&lt;chr&gt;</th><th scope=col>&lt;chr&gt;</th><th scope=col>&lt;chr&gt;</th><th scope=col>&lt;chr&gt;</th><th scope=col>&lt;chr&gt;</th><th scope=col>&lt;chr&gt;</th></tr>\n",
       "</thead>\n",
       "<tbody>\n",
       "\t<tr><th scope=row>1</th><td>122022</td><td>BEL</td><td>CBC</td><td>12/5/22</td><td>CURLEW</td><td>4</td><td></td><td>77</td><td>OFAV</td><td></td><td>⋯</td><td>18 </td><td>Healthy        </td><td>                            </td><td>122022_BEL_CBC_T4_18_OFAV </td><td>                  </td><td>                  </td><td></td><td>                      </td><td>T4</td><td>T4_77_OFAV</td></tr>\n",
       "\t<tr><th scope=row>2</th><td> 92023</td><td>BEL</td><td>CBC</td><td>9/27/23</td><td>CBC30N</td><td>1</td><td></td><td>1 </td><td>SSID</td><td></td><td>⋯</td><td>185</td><td>Diseased_Margin</td><td>only margin sample available</td><td>092023_BEL_CBC_T1_185_SSID</td><td>UML_NARWHAL_R1_B10</td><td>                  </td><td></td><td>                      </td><td>T1</td><td>T1_1_SSID </td></tr>\n",
       "\t<tr><th scope=row>3</th><td> 92023</td><td>BEL</td><td>CBC</td><td>9/25/23</td><td>CBC30N</td><td>1</td><td></td><td>2 </td><td>PAST</td><td></td><td>⋯</td><td>171</td><td>Healthy        </td><td>CLP 90%                     </td><td>092023_BEL_CBC_T1_171_PAST</td><td>UML_NARWHAL_R1_B10</td><td>UML_NARWHAL_R2_B12</td><td></td><td>                      </td><td>T1</td><td>T1_2_PAST </td></tr>\n",
       "\t<tr><th scope=row>4</th><td> 92023</td><td>BEL</td><td>CBC</td><td>9/25/23</td><td>CBC30N</td><td>1</td><td></td><td>3 </td><td>SSID</td><td></td><td>⋯</td><td>173</td><td>Healthy        </td><td>CLP 80%; DC 20%             </td><td>092023_BEL_CBC_T1_173_SSID</td><td>UML_NARWHAL_R1_B10</td><td>UML_NARWHAL_R2_B12</td><td></td><td>                      </td><td>T1</td><td>T1_3_SSID </td></tr>\n",
       "\t<tr><th scope=row>5</th><td> 92023</td><td>BEL</td><td>CBC</td><td>9/25/23</td><td>CBC30N</td><td>1</td><td></td><td>12</td><td>PSTR</td><td></td><td>⋯</td><td>177</td><td>Healthy        </td><td>No CL                       </td><td>092023_BEL_CBC_T1_177_PSTR</td><td>UML_NARWHAL_R1_B10</td><td>UML_NARWHAL_R2_B12</td><td></td><td>                      </td><td>T1</td><td>T1_12_PSTR</td></tr>\n",
       "\t<tr><th scope=row>6</th><td> 92023</td><td>BEL</td><td>CBC</td><td>9/25/23</td><td>CBC30N</td><td>1</td><td></td><td>13</td><td>PAST</td><td></td><td>⋯</td><td>175</td><td>Healthy        </td><td>No CL                       </td><td>092023_BEL_CBC_T1_175_PAST</td><td>UML_NARWHAL_R1_B10</td><td>UML_NARWHAL_R2_B12</td><td></td><td>R2_B15 EXTRACTED TWICE</td><td>T1</td><td>T1_13_PAST</td></tr>\n",
       "</tbody>\n",
       "</table>\n"
      ],
      "text/latex": [
       "A data.frame: 6 × 22\n",
       "\\begin{tabular}{r|lllllllllllllllllllll}\n",
       "  & Month\\_year & Country & Location & CollectionDate & Transect & TransectNum & OldTagNum & NewTagNum & Species & Time\\_sampled & ⋯ & SampleNum & Health\\_status & Sampling\\_notes & Tubelabel\\_species & Sample\\_physical\\_location & Extraction\\_physical\\_location & Date\\_sequenced & Notes & transect\\_id & colony\\_id\\\\\n",
       "  & <int> & <chr> & <chr> & <chr> & <chr> & <int> & <chr> & <chr> & <chr> & <chr> & ⋯ & <chr> & <chr> & <chr> & <chr> & <chr> & <chr> & <chr> & <chr> & <chr> & <chr>\\\\\n",
       "\\hline\n",
       "\t1 & 122022 & BEL & CBC & 12/5/22 & CURLEW & 4 &  & 77 & OFAV &  & ⋯ & 18  & Healthy         &                              & 122022\\_BEL\\_CBC\\_T4\\_18\\_OFAV  &                    &                    &  &                        & T4 & T4\\_77\\_OFAV\\\\\n",
       "\t2 &  92023 & BEL & CBC & 9/27/23 & CBC30N & 1 &  & 1  & SSID &  & ⋯ & 185 & Diseased\\_Margin & only margin sample available & 092023\\_BEL\\_CBC\\_T1\\_185\\_SSID & UML\\_NARWHAL\\_R1\\_B10 &                    &  &                        & T1 & T1\\_1\\_SSID \\\\\n",
       "\t3 &  92023 & BEL & CBC & 9/25/23 & CBC30N & 1 &  & 2  & PAST &  & ⋯ & 171 & Healthy         & CLP 90\\%                      & 092023\\_BEL\\_CBC\\_T1\\_171\\_PAST & UML\\_NARWHAL\\_R1\\_B10 & UML\\_NARWHAL\\_R2\\_B12 &  &                        & T1 & T1\\_2\\_PAST \\\\\n",
       "\t4 &  92023 & BEL & CBC & 9/25/23 & CBC30N & 1 &  & 3  & SSID &  & ⋯ & 173 & Healthy         & CLP 80\\%; DC 20\\%              & 092023\\_BEL\\_CBC\\_T1\\_173\\_SSID & UML\\_NARWHAL\\_R1\\_B10 & UML\\_NARWHAL\\_R2\\_B12 &  &                        & T1 & T1\\_3\\_SSID \\\\\n",
       "\t5 &  92023 & BEL & CBC & 9/25/23 & CBC30N & 1 &  & 12 & PSTR &  & ⋯ & 177 & Healthy         & No CL                        & 092023\\_BEL\\_CBC\\_T1\\_177\\_PSTR & UML\\_NARWHAL\\_R1\\_B10 & UML\\_NARWHAL\\_R2\\_B12 &  &                        & T1 & T1\\_12\\_PSTR\\\\\n",
       "\t6 &  92023 & BEL & CBC & 9/25/23 & CBC30N & 1 &  & 13 & PAST &  & ⋯ & 175 & Healthy         & No CL                        & 092023\\_BEL\\_CBC\\_T1\\_175\\_PAST & UML\\_NARWHAL\\_R1\\_B10 & UML\\_NARWHAL\\_R2\\_B12 &  & R2\\_B15 EXTRACTED TWICE & T1 & T1\\_13\\_PAST\\\\\n",
       "\\end{tabular}\n"
      ],
      "text/markdown": [
       "\n",
       "A data.frame: 6 × 22\n",
       "\n",
       "| <!--/--> | Month_year &lt;int&gt; | Country &lt;chr&gt; | Location &lt;chr&gt; | CollectionDate &lt;chr&gt; | Transect &lt;chr&gt; | TransectNum &lt;int&gt; | OldTagNum &lt;chr&gt; | NewTagNum &lt;chr&gt; | Species &lt;chr&gt; | Time_sampled &lt;chr&gt; | ⋯ ⋯ | SampleNum &lt;chr&gt; | Health_status &lt;chr&gt; | Sampling_notes &lt;chr&gt; | Tubelabel_species &lt;chr&gt; | Sample_physical_location &lt;chr&gt; | Extraction_physical_location &lt;chr&gt; | Date_sequenced &lt;chr&gt; | Notes &lt;chr&gt; | transect_id &lt;chr&gt; | colony_id &lt;chr&gt; |\n",
       "|---|---|---|---|---|---|---|---|---|---|---|---|---|---|---|---|---|---|---|---|---|---|\n",
       "| 1 | 122022 | BEL | CBC | 12/5/22 | CURLEW | 4 | <!----> | 77 | OFAV | <!----> | ⋯ | 18  | Healthy         | <!----> | 122022_BEL_CBC_T4_18_OFAV  | <!----> | <!----> | <!----> | <!----> | T4 | T4_77_OFAV |\n",
       "| 2 |  92023 | BEL | CBC | 9/27/23 | CBC30N | 1 | <!----> | 1  | SSID | <!----> | ⋯ | 185 | Diseased_Margin | only margin sample available | 092023_BEL_CBC_T1_185_SSID | UML_NARWHAL_R1_B10 | <!----> | <!----> | <!----> | T1 | T1_1_SSID  |\n",
       "| 3 |  92023 | BEL | CBC | 9/25/23 | CBC30N | 1 | <!----> | 2  | PAST | <!----> | ⋯ | 171 | Healthy         | CLP 90%                      | 092023_BEL_CBC_T1_171_PAST | UML_NARWHAL_R1_B10 | UML_NARWHAL_R2_B12 | <!----> | <!----> | T1 | T1_2_PAST  |\n",
       "| 4 |  92023 | BEL | CBC | 9/25/23 | CBC30N | 1 | <!----> | 3  | SSID | <!----> | ⋯ | 173 | Healthy         | CLP 80%; DC 20%              | 092023_BEL_CBC_T1_173_SSID | UML_NARWHAL_R1_B10 | UML_NARWHAL_R2_B12 | <!----> | <!----> | T1 | T1_3_SSID  |\n",
       "| 5 |  92023 | BEL | CBC | 9/25/23 | CBC30N | 1 | <!----> | 12 | PSTR | <!----> | ⋯ | 177 | Healthy         | No CL                        | 092023_BEL_CBC_T1_177_PSTR | UML_NARWHAL_R1_B10 | UML_NARWHAL_R2_B12 | <!----> | <!----> | T1 | T1_12_PSTR |\n",
       "| 6 |  92023 | BEL | CBC | 9/25/23 | CBC30N | 1 | <!----> | 13 | PAST | <!----> | ⋯ | 175 | Healthy         | No CL                        | 092023_BEL_CBC_T1_175_PAST | UML_NARWHAL_R1_B10 | UML_NARWHAL_R2_B12 | <!----> | R2_B15 EXTRACTED TWICE | T1 | T1_13_PAST |\n",
       "\n"
      ],
      "text/plain": [
       "  Month_year Country Location CollectionDate Transect TransectNum OldTagNum\n",
       "1 122022     BEL     CBC      12/5/22        CURLEW   4                    \n",
       "2  92023     BEL     CBC      9/27/23        CBC30N   1                    \n",
       "3  92023     BEL     CBC      9/25/23        CBC30N   1                    \n",
       "4  92023     BEL     CBC      9/25/23        CBC30N   1                    \n",
       "5  92023     BEL     CBC      9/25/23        CBC30N   1                    \n",
       "6  92023     BEL     CBC      9/25/23        CBC30N   1                    \n",
       "  NewTagNum Species Time_sampled ⋯ SampleNum Health_status  \n",
       "1 77        OFAV                 ⋯ 18        Healthy        \n",
       "2 1         SSID                 ⋯ 185       Diseased_Margin\n",
       "3 2         PAST                 ⋯ 171       Healthy        \n",
       "4 3         SSID                 ⋯ 173       Healthy        \n",
       "5 12        PSTR                 ⋯ 177       Healthy        \n",
       "6 13        PAST                 ⋯ 175       Healthy        \n",
       "  Sampling_notes               Tubelabel_species         \n",
       "1                              122022_BEL_CBC_T4_18_OFAV \n",
       "2 only margin sample available 092023_BEL_CBC_T1_185_SSID\n",
       "3 CLP 90%                      092023_BEL_CBC_T1_171_PAST\n",
       "4 CLP 80%; DC 20%              092023_BEL_CBC_T1_173_SSID\n",
       "5 No CL                        092023_BEL_CBC_T1_177_PSTR\n",
       "6 No CL                        092023_BEL_CBC_T1_175_PAST\n",
       "  Sample_physical_location Extraction_physical_location Date_sequenced\n",
       "1                                                                     \n",
       "2 UML_NARWHAL_R1_B10                                                  \n",
       "3 UML_NARWHAL_R1_B10       UML_NARWHAL_R2_B12                         \n",
       "4 UML_NARWHAL_R1_B10       UML_NARWHAL_R2_B12                         \n",
       "5 UML_NARWHAL_R1_B10       UML_NARWHAL_R2_B12                         \n",
       "6 UML_NARWHAL_R1_B10       UML_NARWHAL_R2_B12                         \n",
       "  Notes                  transect_id colony_id \n",
       "1                        T4          T4_77_OFAV\n",
       "2                        T1          T1_1_SSID \n",
       "3                        T1          T1_2_PAST \n",
       "4                        T1          T1_3_SSID \n",
       "5                        T1          T1_12_PSTR\n",
       "6 R2_B15 EXTRACTED TWICE T1          T1_13_PAST"
      ]
     },
     "metadata": {},
     "output_type": "display_data"
    }
   ],
   "source": [
    "head(sctld_samples)"
   ]
  },
  {
   "cell_type": "code",
   "execution_count": 20,
   "id": "d5f2def8-38e2-4683-8b10-54468c8f02d3",
   "metadata": {},
   "outputs": [
    {
     "data": {
      "text/html": [
       "220"
      ],
      "text/latex": [
       "220"
      ],
      "text/markdown": [
       "220"
      ],
      "text/plain": [
       "[1] 220"
      ]
     },
     "metadata": {},
     "output_type": "display_data"
    },
    {
     "data": {
      "text/html": [
       "113"
      ],
      "text/latex": [
       "113"
      ],
      "text/markdown": [
       "113"
      ],
      "text/plain": [
       "[1] 113"
      ]
     },
     "metadata": {},
     "output_type": "display_data"
    }
   ],
   "source": [
    "#filter sample data to match sequence list \n",
    "sctld_samples<-sctld_samples %>%\n",
    "    filter(Sample_type == 'Core_EtOH') %>%\n",
    "    filter(Tubelabel_species %in% samplelist$V1)\n",
    "nrow(sctld_samples)\n",
    "# filter colony data to match sequence list \n",
    "sctld_colony <- colony %>%\n",
    "    filter(colony_id %in% sctld_samples$colony_id)\n",
    "length(unique(sctld_colony$colony_id))\n",
    "# 113 unique colonies - 220 total samples "
   ]
  },
  {
   "cell_type": "code",
   "execution_count": 21,
   "id": "7b56affa-11c3-461b-9abd-4bbbfbc50b2e",
   "metadata": {},
   "outputs": [
    {
     "data": {
      "text/html": [
       "<table class=\"dataframe\">\n",
       "<caption>A tibble: 1 × 6</caption>\n",
       "<thead>\n",
       "\t<tr><th scope=col>MCAV</th><th scope=col>MMEA</th><th scope=col>OANN</th><th scope=col>OFAV</th><th scope=col>PAST</th><th scope=col>PSTR</th></tr>\n",
       "\t<tr><th scope=col>&lt;int&gt;</th><th scope=col>&lt;int&gt;</th><th scope=col>&lt;int&gt;</th><th scope=col>&lt;int&gt;</th><th scope=col>&lt;int&gt;</th><th scope=col>&lt;int&gt;</th></tr>\n",
       "</thead>\n",
       "<tbody>\n",
       "\t<tr><td>31</td><td>13</td><td>7</td><td>11</td><td>20</td><td>31</td></tr>\n",
       "</tbody>\n",
       "</table>\n"
      ],
      "text/latex": [
       "A tibble: 1 × 6\n",
       "\\begin{tabular}{llllll}\n",
       " MCAV & MMEA & OANN & OFAV & PAST & PSTR\\\\\n",
       " <int> & <int> & <int> & <int> & <int> & <int>\\\\\n",
       "\\hline\n",
       "\t 31 & 13 & 7 & 11 & 20 & 31\\\\\n",
       "\\end{tabular}\n"
      ],
      "text/markdown": [
       "\n",
       "A tibble: 1 × 6\n",
       "\n",
       "| MCAV &lt;int&gt; | MMEA &lt;int&gt; | OANN &lt;int&gt; | OFAV &lt;int&gt; | PAST &lt;int&gt; | PSTR &lt;int&gt; |\n",
       "|---|---|---|---|---|---|\n",
       "| 31 | 13 | 7 | 11 | 20 | 31 |\n",
       "\n"
      ],
      "text/plain": [
       "  MCAV MMEA OANN OFAV PAST PSTR\n",
       "1 31   13   7    11   20   31  "
      ]
     },
     "metadata": {},
     "output_type": "display_data"
    }
   ],
   "source": [
    "# colony summary \n",
    "summary_sctld <- sctld_colony %>%\n",
    "  group_by(Species) %>%\n",
    "  summarise(n = n(), .groups = \"drop\") %>%\n",
    "  pivot_wider(names_from = Species, values_from = n, values_fill = 0)\n",
    "summary_sctld"
   ]
  },
  {
   "cell_type": "code",
   "execution_count": 22,
   "id": "24d547e2-7f1a-4382-b3cb-59631bbf07b7",
   "metadata": {},
   "outputs": [
    {
     "data": {
      "text/html": [
       "<table class=\"dataframe\">\n",
       "<caption>A tibble: 1 × 6</caption>\n",
       "<thead>\n",
       "\t<tr><th scope=col>MCAV</th><th scope=col>MMEA</th><th scope=col>OANN</th><th scope=col>OFAV</th><th scope=col>PAST</th><th scope=col>PSTR</th></tr>\n",
       "\t<tr><th scope=col>&lt;int&gt;</th><th scope=col>&lt;int&gt;</th><th scope=col>&lt;int&gt;</th><th scope=col>&lt;int&gt;</th><th scope=col>&lt;int&gt;</th><th scope=col>&lt;int&gt;</th></tr>\n",
       "</thead>\n",
       "<tbody>\n",
       "\t<tr><td>68</td><td>13</td><td>14</td><td>18</td><td>53</td><td>54</td></tr>\n",
       "</tbody>\n",
       "</table>\n"
      ],
      "text/latex": [
       "A tibble: 1 × 6\n",
       "\\begin{tabular}{llllll}\n",
       " MCAV & MMEA & OANN & OFAV & PAST & PSTR\\\\\n",
       " <int> & <int> & <int> & <int> & <int> & <int>\\\\\n",
       "\\hline\n",
       "\t 68 & 13 & 14 & 18 & 53 & 54\\\\\n",
       "\\end{tabular}\n"
      ],
      "text/markdown": [
       "\n",
       "A tibble: 1 × 6\n",
       "\n",
       "| MCAV &lt;int&gt; | MMEA &lt;int&gt; | OANN &lt;int&gt; | OFAV &lt;int&gt; | PAST &lt;int&gt; | PSTR &lt;int&gt; |\n",
       "|---|---|---|---|---|---|\n",
       "| 68 | 13 | 14 | 18 | 53 | 54 |\n",
       "\n"
      ],
      "text/plain": [
       "  MCAV MMEA OANN OFAV PAST PSTR\n",
       "1 68   13   14   18   53   54  "
      ]
     },
     "metadata": {},
     "output_type": "display_data"
    }
   ],
   "source": [
    "# sample summary \n",
    "total_samples <- sctld_samples %>%\n",
    "  group_by(Species) %>%\n",
    "  summarise(n = n(), .groups = \"drop\") %>%\n",
    "  pivot_wider(names_from = Species, values_from = n, values_fill = 0)\n",
    "total_samples"
   ]
  },
  {
   "cell_type": "code",
   "execution_count": 34,
   "id": "607bfabb-01f0-47a8-8f2e-e984997a20ab",
   "metadata": {},
   "outputs": [
    {
     "data": {
      "text/html": [
       "<style>\n",
       ".list-inline {list-style: none; margin:0; padding: 0}\n",
       ".list-inline>li {display: inline-block}\n",
       ".list-inline>li:not(:last-child)::after {content: \"\\00b7\"; padding: 0 .5ex}\n",
       "</style>\n",
       "<ol class=list-inline><li>'Dec 2022'</li><li>'May 2022'</li><li>'Jun 2019'</li></ol>\n"
      ],
      "text/latex": [
       "\\begin{enumerate*}\n",
       "\\item 'Dec 2022'\n",
       "\\item 'May 2022'\n",
       "\\item 'Jun 2019'\n",
       "\\end{enumerate*}\n"
      ],
      "text/markdown": [
       "1. 'Dec 2022'\n",
       "2. 'May 2022'\n",
       "3. 'Jun 2019'\n",
       "\n",
       "\n"
      ],
      "text/plain": [
       "[1] \"Dec 2022\" \"May 2022\" \"Jun 2019\""
      ]
     },
     "metadata": {},
     "output_type": "display_data"
    }
   ],
   "source": [
    "# convert collection date to date format \n",
    "\n",
    "sctld_samples$dates <- as.Date(sctld_samples$CollectionDate, format = \"%m/%d/%y\")\n",
    "\n",
    "# convert to mmyyyy and make separate column for written month year \n",
    "sctld_samples$Month_year <- format(sctld_samples$dates, \"%b %Y\")\n",
    "\n",
    "# make all 2019 same month for simplicity \n",
    "sctld_samples[sctld_samples$Month_year=='Oct 2019',\"Month_year\"]='Jun 2019'\n",
    "unique(sctld_samples$Month_year)\n",
    "\n",
    "# arrange in chronological order \n",
    "sctld_samples$Month_year<-factor(sctld_samples$Month_year, levels = c(\"Jun 2019\",\"May 2022\",\"Dec 2022\")) "
   ]
  },
  {
   "cell_type": "code",
   "execution_count": null,
   "id": "7e47667d-6ad8-44bc-861e-72a064ec59b2",
   "metadata": {},
   "outputs": [],
   "source": [
    "# make sample table - test one species first \n",
    "# for mcav: \n",
    "    # how many unique colonies were sampled each year \n",
    "## can use sample data - unique colony id per sample date?\n",
    "    # how many samples were taken each year "
   ]
  },
  {
   "cell_type": "code",
   "execution_count": 61,
   "id": "49fbcb33-0791-4fe2-b2f9-130b3e7598d5",
   "metadata": {},
   "outputs": [],
   "source": [
    "# filter for mcav - to test a subset first \n",
    "test_mcav <- sctld_samples %>%\n",
    "    filter(Species == 'MCAV') %>%\n",
    "    select(c('Month_year','Health_status','Tubelabel_species','colony_id'))\n",
    "# arrange in chronological order \n",
    "test_mcav$Month_year<-factor(test_mcav$Month_year, levels = c(\"Jun 2019\",\"May 2022\",\"Dec 2022\")) "
   ]
  },
  {
   "cell_type": "code",
   "execution_count": 79,
   "id": "f4828ed3-3db6-448e-ba9b-bc473f00f197",
   "metadata": {},
   "outputs": [
    {
     "data": {
      "text/html": [
       "<table class=\"dataframe\">\n",
       "<caption>A data.frame: 6 × 4</caption>\n",
       "<thead>\n",
       "\t<tr><th></th><th scope=col>Month_year</th><th scope=col>Health_status</th><th scope=col>Tubelabel_species</th><th scope=col>colony_id</th></tr>\n",
       "\t<tr><th></th><th scope=col>&lt;fct&gt;</th><th scope=col>&lt;chr&gt;</th><th scope=col>&lt;chr&gt;</th><th scope=col>&lt;chr&gt;</th></tr>\n",
       "</thead>\n",
       "<tbody>\n",
       "\t<tr><th scope=row>1</th><td>Dec 2022</td><td>Diseased_Tissue</td><td>122022_BEL_CBC_T1_144_MCAV</td><td>T1_8_MCAV </td></tr>\n",
       "\t<tr><th scope=row>2</th><td>Dec 2022</td><td>Healthy        </td><td>122022_BEL_CBC_T1_151_MCAV</td><td>T1_24_MCAV</td></tr>\n",
       "\t<tr><th scope=row>3</th><td>Dec 2022</td><td>Healthy        </td><td>122022_BEL_CBC_T1_153_MCAV</td><td>T1_7_MCAV </td></tr>\n",
       "\t<tr><th scope=row>4</th><td>Dec 2022</td><td>Healthy        </td><td>122022_BEL_CBC_T2_85_MCAV </td><td>T2_59_MCAV</td></tr>\n",
       "\t<tr><th scope=row>5</th><td>Dec 2022</td><td>Healthy        </td><td>122022_BEL_CBC_T2_86_MCAV </td><td>T2_60_MCAV</td></tr>\n",
       "\t<tr><th scope=row>6</th><td>Dec 2022</td><td>Healthy        </td><td>122022_BEL_CBC_T2_88_MCAV </td><td>T2_55_MCAV</td></tr>\n",
       "</tbody>\n",
       "</table>\n"
      ],
      "text/latex": [
       "A data.frame: 6 × 4\n",
       "\\begin{tabular}{r|llll}\n",
       "  & Month\\_year & Health\\_status & Tubelabel\\_species & colony\\_id\\\\\n",
       "  & <fct> & <chr> & <chr> & <chr>\\\\\n",
       "\\hline\n",
       "\t1 & Dec 2022 & Diseased\\_Tissue & 122022\\_BEL\\_CBC\\_T1\\_144\\_MCAV & T1\\_8\\_MCAV \\\\\n",
       "\t2 & Dec 2022 & Healthy         & 122022\\_BEL\\_CBC\\_T1\\_151\\_MCAV & T1\\_24\\_MCAV\\\\\n",
       "\t3 & Dec 2022 & Healthy         & 122022\\_BEL\\_CBC\\_T1\\_153\\_MCAV & T1\\_7\\_MCAV \\\\\n",
       "\t4 & Dec 2022 & Healthy         & 122022\\_BEL\\_CBC\\_T2\\_85\\_MCAV  & T2\\_59\\_MCAV\\\\\n",
       "\t5 & Dec 2022 & Healthy         & 122022\\_BEL\\_CBC\\_T2\\_86\\_MCAV  & T2\\_60\\_MCAV\\\\\n",
       "\t6 & Dec 2022 & Healthy         & 122022\\_BEL\\_CBC\\_T2\\_88\\_MCAV  & T2\\_55\\_MCAV\\\\\n",
       "\\end{tabular}\n"
      ],
      "text/markdown": [
       "\n",
       "A data.frame: 6 × 4\n",
       "\n",
       "| <!--/--> | Month_year &lt;fct&gt; | Health_status &lt;chr&gt; | Tubelabel_species &lt;chr&gt; | colony_id &lt;chr&gt; |\n",
       "|---|---|---|---|---|\n",
       "| 1 | Dec 2022 | Diseased_Tissue | 122022_BEL_CBC_T1_144_MCAV | T1_8_MCAV  |\n",
       "| 2 | Dec 2022 | Healthy         | 122022_BEL_CBC_T1_151_MCAV | T1_24_MCAV |\n",
       "| 3 | Dec 2022 | Healthy         | 122022_BEL_CBC_T1_153_MCAV | T1_7_MCAV  |\n",
       "| 4 | Dec 2022 | Healthy         | 122022_BEL_CBC_T2_85_MCAV  | T2_59_MCAV |\n",
       "| 5 | Dec 2022 | Healthy         | 122022_BEL_CBC_T2_86_MCAV  | T2_60_MCAV |\n",
       "| 6 | Dec 2022 | Healthy         | 122022_BEL_CBC_T2_88_MCAV  | T2_55_MCAV |\n",
       "\n"
      ],
      "text/plain": [
       "  Month_year Health_status   Tubelabel_species          colony_id \n",
       "1 Dec 2022   Diseased_Tissue 122022_BEL_CBC_T1_144_MCAV T1_8_MCAV \n",
       "2 Dec 2022   Healthy         122022_BEL_CBC_T1_151_MCAV T1_24_MCAV\n",
       "3 Dec 2022   Healthy         122022_BEL_CBC_T1_153_MCAV T1_7_MCAV \n",
       "4 Dec 2022   Healthy         122022_BEL_CBC_T2_85_MCAV  T2_59_MCAV\n",
       "5 Dec 2022   Healthy         122022_BEL_CBC_T2_86_MCAV  T2_60_MCAV\n",
       "6 Dec 2022   Healthy         122022_BEL_CBC_T2_88_MCAV  T2_55_MCAV"
      ]
     },
     "metadata": {},
     "output_type": "display_data"
    }
   ],
   "source": [
    "head(test_mcav)"
   ]
  },
  {
   "cell_type": "code",
   "execution_count": 70,
   "id": "5771dbdb-eeb7-4517-b356-fbd80248626d",
   "metadata": {},
   "outputs": [
    {
     "data": {
      "text/html": [
       "<table class=\"dataframe\">\n",
       "<caption>A tibble: 6 × 5</caption>\n",
       "<thead>\n",
       "\t<tr><th scope=col>Tubelabel_species</th><th scope=col>colony_id</th><th scope=col>Jun 2019</th><th scope=col>May 2022</th><th scope=col>Dec 2022</th></tr>\n",
       "\t<tr><th scope=col>&lt;chr&gt;</th><th scope=col>&lt;chr&gt;</th><th scope=col>&lt;chr&gt;</th><th scope=col>&lt;chr&gt;</th><th scope=col>&lt;chr&gt;</th></tr>\n",
       "</thead>\n",
       "<tbody>\n",
       "\t<tr><td>052022_BEL_CBC_T1_39_MCAV</td><td>T1_14_MCAV</td><td>NA     </td><td>Diseased_Margin</td><td>NA</td></tr>\n",
       "\t<tr><td>052022_BEL_CBC_T1_60_MCAV</td><td>T1_14_MCAV</td><td>NA     </td><td>Diseased_Tissue</td><td>NA</td></tr>\n",
       "\t<tr><td>062019_BEL_CBC_T1_17_MCAV</td><td>T1_14_MCAV</td><td>Healthy</td><td>NA             </td><td>NA</td></tr>\n",
       "\t<tr><td>052022_BEL_CBC_T1_40_MCAV</td><td>T1_15_MCAV</td><td>NA     </td><td>Diseased_Margin</td><td>NA</td></tr>\n",
       "\t<tr><td>052022_BEL_CBC_T1_70_MCAV</td><td>T1_15_MCAV</td><td>NA     </td><td>Diseased_Tissue</td><td>NA</td></tr>\n",
       "\t<tr><td>062019_BEL_CBC_T1_24_MCAV</td><td>T1_15_MCAV</td><td>Healthy</td><td>NA             </td><td>NA</td></tr>\n",
       "</tbody>\n",
       "</table>\n"
      ],
      "text/latex": [
       "A tibble: 6 × 5\n",
       "\\begin{tabular}{lllll}\n",
       " Tubelabel\\_species & colony\\_id & Jun 2019 & May 2022 & Dec 2022\\\\\n",
       " <chr> & <chr> & <chr> & <chr> & <chr>\\\\\n",
       "\\hline\n",
       "\t 052022\\_BEL\\_CBC\\_T1\\_39\\_MCAV & T1\\_14\\_MCAV & NA      & Diseased\\_Margin & NA\\\\\n",
       "\t 052022\\_BEL\\_CBC\\_T1\\_60\\_MCAV & T1\\_14\\_MCAV & NA      & Diseased\\_Tissue & NA\\\\\n",
       "\t 062019\\_BEL\\_CBC\\_T1\\_17\\_MCAV & T1\\_14\\_MCAV & Healthy & NA              & NA\\\\\n",
       "\t 052022\\_BEL\\_CBC\\_T1\\_40\\_MCAV & T1\\_15\\_MCAV & NA      & Diseased\\_Margin & NA\\\\\n",
       "\t 052022\\_BEL\\_CBC\\_T1\\_70\\_MCAV & T1\\_15\\_MCAV & NA      & Diseased\\_Tissue & NA\\\\\n",
       "\t 062019\\_BEL\\_CBC\\_T1\\_24\\_MCAV & T1\\_15\\_MCAV & Healthy & NA              & NA\\\\\n",
       "\\end{tabular}\n"
      ],
      "text/markdown": [
       "\n",
       "A tibble: 6 × 5\n",
       "\n",
       "| Tubelabel_species &lt;chr&gt; | colony_id &lt;chr&gt; | Jun 2019 &lt;chr&gt; | May 2022 &lt;chr&gt; | Dec 2022 &lt;chr&gt; |\n",
       "|---|---|---|---|---|\n",
       "| 052022_BEL_CBC_T1_39_MCAV | T1_14_MCAV | NA      | Diseased_Margin | NA |\n",
       "| 052022_BEL_CBC_T1_60_MCAV | T1_14_MCAV | NA      | Diseased_Tissue | NA |\n",
       "| 062019_BEL_CBC_T1_17_MCAV | T1_14_MCAV | Healthy | NA              | NA |\n",
       "| 052022_BEL_CBC_T1_40_MCAV | T1_15_MCAV | NA      | Diseased_Margin | NA |\n",
       "| 052022_BEL_CBC_T1_70_MCAV | T1_15_MCAV | NA      | Diseased_Tissue | NA |\n",
       "| 062019_BEL_CBC_T1_24_MCAV | T1_15_MCAV | Healthy | NA              | NA |\n",
       "\n"
      ],
      "text/plain": [
       "  Tubelabel_species         colony_id  Jun 2019 May 2022        Dec 2022\n",
       "1 052022_BEL_CBC_T1_39_MCAV T1_14_MCAV NA       Diseased_Margin NA      \n",
       "2 052022_BEL_CBC_T1_60_MCAV T1_14_MCAV NA       Diseased_Tissue NA      \n",
       "3 062019_BEL_CBC_T1_17_MCAV T1_14_MCAV Healthy  NA              NA      \n",
       "4 052022_BEL_CBC_T1_40_MCAV T1_15_MCAV NA       Diseased_Margin NA      \n",
       "5 052022_BEL_CBC_T1_70_MCAV T1_15_MCAV NA       Diseased_Tissue NA      \n",
       "6 062019_BEL_CBC_T1_24_MCAV T1_15_MCAV Healthy  NA              NA      "
      ]
     },
     "metadata": {},
     "output_type": "display_data"
    }
   ],
   "source": [
    "# each row is a unique sample - 68 samples total \n",
    "# unique num of colonies at each sample date... pivot first? \n",
    "sorted_mcav<-test_mcav %>%\n",
    "    pivot_wider(names_from = Month_year,\n",
    "               values_from = Health_status,\n",
    "               names_sort = TRUE) %>%\n",
    "    arrange(colony_id)\n",
    "head(sorted_mcav)"
   ]
  },
  {
   "cell_type": "code",
   "execution_count": 78,
   "id": "6b53b7ba-0686-4609-bf1c-bc55374968bf",
   "metadata": {},
   "outputs": [
    {
     "data": {
      "text/html": [
       "24"
      ],
      "text/latex": [
       "24"
      ],
      "text/markdown": [
       "24"
      ],
      "text/plain": [
       "[1] 24"
      ]
     },
     "metadata": {},
     "output_type": "display_data"
    },
    {
     "data": {
      "text/html": [
       "22"
      ],
      "text/latex": [
       "22"
      ],
      "text/markdown": [
       "22"
      ],
      "text/plain": [
       "[1] 22"
      ]
     },
     "metadata": {},
     "output_type": "display_data"
    },
    {
     "data": {
      "text/html": [
       "22"
      ],
      "text/latex": [
       "22"
      ],
      "text/markdown": [
       "22"
      ],
      "text/plain": [
       "[1] 22"
      ]
     },
     "metadata": {},
     "output_type": "display_data"
    }
   ],
   "source": [
    "sum(!is.na(sorted_mcav$`Jun 2019`))\n",
    "sum(!is.na(sorted_mcav$`May 2022`))\n",
    "sum(!is.na(sorted_mcav$`Dec 2022`))"
   ]
  },
  {
   "cell_type": "code",
   "execution_count": 88,
   "id": "0064e4c2-1493-49c7-a059-6dd0765d3212",
   "metadata": {},
   "outputs": [
    {
     "data": {
      "text/html": [
       "<table class=\"dataframe\">\n",
       "<caption>A tibble: 3 × 5</caption>\n",
       "<thead>\n",
       "\t<tr><th scope=col>Tubelabel_species</th><th scope=col>colony_id</th><th scope=col>Jun 2019</th><th scope=col>May 2022</th><th scope=col>Dec 2022</th></tr>\n",
       "\t<tr><th scope=col>&lt;chr&gt;</th><th scope=col>&lt;chr&gt;</th><th scope=col>&lt;chr&gt;</th><th scope=col>&lt;chr&gt;</th><th scope=col>&lt;chr&gt;</th></tr>\n",
       "</thead>\n",
       "<tbody>\n",
       "\t<tr><td>052022_BEL_CBC_T1_39_MCAV</td><td>T1_14_MCAV</td><td>NA     </td><td>Diseased_Margin</td><td>NA</td></tr>\n",
       "\t<tr><td>052022_BEL_CBC_T1_60_MCAV</td><td>T1_14_MCAV</td><td>NA     </td><td>Diseased_Tissue</td><td>NA</td></tr>\n",
       "\t<tr><td>062019_BEL_CBC_T1_17_MCAV</td><td>T1_14_MCAV</td><td>Healthy</td><td>NA             </td><td>NA</td></tr>\n",
       "</tbody>\n",
       "</table>\n"
      ],
      "text/latex": [
       "A tibble: 3 × 5\n",
       "\\begin{tabular}{lllll}\n",
       " Tubelabel\\_species & colony\\_id & Jun 2019 & May 2022 & Dec 2022\\\\\n",
       " <chr> & <chr> & <chr> & <chr> & <chr>\\\\\n",
       "\\hline\n",
       "\t 052022\\_BEL\\_CBC\\_T1\\_39\\_MCAV & T1\\_14\\_MCAV & NA      & Diseased\\_Margin & NA\\\\\n",
       "\t 052022\\_BEL\\_CBC\\_T1\\_60\\_MCAV & T1\\_14\\_MCAV & NA      & Diseased\\_Tissue & NA\\\\\n",
       "\t 062019\\_BEL\\_CBC\\_T1\\_17\\_MCAV & T1\\_14\\_MCAV & Healthy & NA              & NA\\\\\n",
       "\\end{tabular}\n"
      ],
      "text/markdown": [
       "\n",
       "A tibble: 3 × 5\n",
       "\n",
       "| Tubelabel_species &lt;chr&gt; | colony_id &lt;chr&gt; | Jun 2019 &lt;chr&gt; | May 2022 &lt;chr&gt; | Dec 2022 &lt;chr&gt; |\n",
       "|---|---|---|---|---|\n",
       "| 052022_BEL_CBC_T1_39_MCAV | T1_14_MCAV | NA      | Diseased_Margin | NA |\n",
       "| 052022_BEL_CBC_T1_60_MCAV | T1_14_MCAV | NA      | Diseased_Tissue | NA |\n",
       "| 062019_BEL_CBC_T1_17_MCAV | T1_14_MCAV | Healthy | NA              | NA |\n",
       "\n"
      ],
      "text/plain": [
       "  Tubelabel_species         colony_id  Jun 2019 May 2022        Dec 2022\n",
       "1 052022_BEL_CBC_T1_39_MCAV T1_14_MCAV NA       Diseased_Margin NA      \n",
       "2 052022_BEL_CBC_T1_60_MCAV T1_14_MCAV NA       Diseased_Tissue NA      \n",
       "3 062019_BEL_CBC_T1_17_MCAV T1_14_MCAV Healthy  NA              NA      "
      ]
     },
     "metadata": {},
     "output_type": "display_data"
    }
   ],
   "source": [
    "sorted_mcav[sorted_mcav$colony_id=='T1_14_MCAV',]"
   ]
  },
  {
   "cell_type": "code",
   "execution_count": 84,
   "id": "ce31e646-9f3f-431d-8dbc-44daaf1f2246",
   "metadata": {},
   "outputs": [
    {
     "name": "stdout",
     "output_type": "stream",
     "text": [
      " [1] \"T1_14_MCAV\"  \"T1_15_MCAV\"  \"T1_24_MCAV\"  \"T1_329_MCAV\" \"T1_333_MCAV\"\n",
      " [6] \"T1_342_MCAV\" \"T1_355_MCAV\" \"T1_7_MCAV\"   \"T1_8_MCAV\"   \"T2_53_MCAV\" \n",
      "[11] \"T2_55_MCAV\"  \"T2_56_MCAV\"  \"T2_59_MCAV\"  \"T2_60_MCAV\"  \"T2_61_MCAV\" \n",
      "[16] \"T2_69_MCAV\"  \"T3_12_MCAV\"  \"T3_14_MCAV\"  \"T3_15_MCAV\"  \"T3_17_MCAV\" \n",
      "[21] \"T3_21_MCAV\"  \"T3_22_MCAV\"  \"T3_2_MCAV\"   \"T3_67_MCAV\"  \"T3_71_MCAV\" \n",
      "[26] \"T3_9_MCAV\"   \"T4_28_MCAV\"  \"T4_30_MCAV\"  \"T4_76_MCAV\"  \"T4_94_MCAV\" \n",
      "[31] \"T4_95_MCAV\" \n"
     ]
    },
    {
     "name": "stderr",
     "output_type": "stream",
     "text": [
      "Warning message in sorted_mcav$colony_id == colony:\n",
      "“longer object length is not a multiple of shorter object length”\n"
     ]
    }
   ],
   "source": [
    "# how many colonies do we have pre and post samples for? \n",
    "for (colony in list(unique(sorted_mcav$colony_id))){\n",
    "    print(colony)\n",
    "    df<-sorted_mcav[sorted_mcav$colony_id==colony,]\n",
    "    mutate(Pre = case_when(\n",
    "        !is.na(`Jun 2019`) ~ Healthy \n",
    "    )\n",
    "    }"
   ]
  },
  {
   "cell_type": "code",
   "execution_count": null,
   "id": "32701ec7-c675-48c7-ad9c-6f6fc8502923",
   "metadata": {},
   "outputs": [],
   "source": [
    "# sankay plot for which colonies we have samples for??? "
   ]
  },
  {
   "cell_type": "code",
   "execution_count": null,
   "id": "dd911c20-94b2-4462-b158-e98df5ade5d8",
   "metadata": {},
   "outputs": [],
   "source": [
    "# repeat for colony data \n"
   ]
  },
  {
   "cell_type": "code",
   "execution_count": 79,
   "id": "84b5c396-adc7-420e-a7a1-5eaa4aef5055",
   "metadata": {},
   "outputs": [
    {
     "data": {
      "text/html": [
       "<style>\n",
       ".list-inline {list-style: none; margin:0; padding: 0}\n",
       ".list-inline>li {display: inline-block}\n",
       ".list-inline>li:not(:last-child)::after {content: \"\\00b7\"; padding: 0 .5ex}\n",
       "</style>\n",
       "<ol class=list-inline><li>'...1'</li><li>'Date_InitialTag'</li><li>'Transect'</li><li>'TransectNum'</li><li>'OldTagNum'</li><li>'NewTagNum'</li><li>'Species'</li><li>'Meter'</li><li>'Meters_90'</li><li>'Direction'</li><li>'Size_Class'</li><li>'MaxDiameter'</li><li>'Height'</li><li>'Date_DocumentedDisease'</li><li>'Date_DocumentedMortality'</li><li>'Notes_062019'</li><li>'062019_Condition'</li><li>'062019_Percentage'</li><li>'Notes_052022'</li><li>'052022_Condition'</li><li>'052022_Percentage'</li><li>'Notes_122022'</li><li>'122022_Condition'</li><li>'122022_Percentage'</li><li>'Notes_092023'</li><li>'092023_Condition'</li><li>'092023_Percentage'</li><li>'Notes_112023'</li><li>'112023_Condition'</li><li>'112023_Percentage'</li><li>'Notes_122023'</li><li>'122023_Condition'</li><li>'122023_Percentage'</li><li>'Notes_012024'</li><li>'012024_Condition'</li><li>'012024_Percentage'</li><li>'Notes_022024'</li><li>'022024_Condition'</li><li>'022024_Percentage'</li><li>'Notes_042024'</li><li>'042024_Condition'</li><li>'042024_Percentage'</li><li>'062024_Condition'</li><li>'062024_Percentage'</li><li>'Notes_062024'</li><li>'082024_Condition'</li><li>'082024_Percentage'</li><li>'Notes_082024'</li><li>'122024_Condition'</li><li>'122024_Percentage'</li><li>'Notes_122024'</li><li>'062025_Condition'</li><li>'062025_Percentage'</li><li>'Notes_062025'</li><li>'immune_y/n'</li><li>'checked_colonies'</li><li>'transect_id'</li><li>'colony_id'</li></ol>\n"
      ],
      "text/latex": [
       "\\begin{enumerate*}\n",
       "\\item '...1'\n",
       "\\item 'Date\\_InitialTag'\n",
       "\\item 'Transect'\n",
       "\\item 'TransectNum'\n",
       "\\item 'OldTagNum'\n",
       "\\item 'NewTagNum'\n",
       "\\item 'Species'\n",
       "\\item 'Meter'\n",
       "\\item 'Meters\\_90'\n",
       "\\item 'Direction'\n",
       "\\item 'Size\\_Class'\n",
       "\\item 'MaxDiameter'\n",
       "\\item 'Height'\n",
       "\\item 'Date\\_DocumentedDisease'\n",
       "\\item 'Date\\_DocumentedMortality'\n",
       "\\item 'Notes\\_062019'\n",
       "\\item '062019\\_Condition'\n",
       "\\item '062019\\_Percentage'\n",
       "\\item 'Notes\\_052022'\n",
       "\\item '052022\\_Condition'\n",
       "\\item '052022\\_Percentage'\n",
       "\\item 'Notes\\_122022'\n",
       "\\item '122022\\_Condition'\n",
       "\\item '122022\\_Percentage'\n",
       "\\item 'Notes\\_092023'\n",
       "\\item '092023\\_Condition'\n",
       "\\item '092023\\_Percentage'\n",
       "\\item 'Notes\\_112023'\n",
       "\\item '112023\\_Condition'\n",
       "\\item '112023\\_Percentage'\n",
       "\\item 'Notes\\_122023'\n",
       "\\item '122023\\_Condition'\n",
       "\\item '122023\\_Percentage'\n",
       "\\item 'Notes\\_012024'\n",
       "\\item '012024\\_Condition'\n",
       "\\item '012024\\_Percentage'\n",
       "\\item 'Notes\\_022024'\n",
       "\\item '022024\\_Condition'\n",
       "\\item '022024\\_Percentage'\n",
       "\\item 'Notes\\_042024'\n",
       "\\item '042024\\_Condition'\n",
       "\\item '042024\\_Percentage'\n",
       "\\item '062024\\_Condition'\n",
       "\\item '062024\\_Percentage'\n",
       "\\item 'Notes\\_062024'\n",
       "\\item '082024\\_Condition'\n",
       "\\item '082024\\_Percentage'\n",
       "\\item 'Notes\\_082024'\n",
       "\\item '122024\\_Condition'\n",
       "\\item '122024\\_Percentage'\n",
       "\\item 'Notes\\_122024'\n",
       "\\item '062025\\_Condition'\n",
       "\\item '062025\\_Percentage'\n",
       "\\item 'Notes\\_062025'\n",
       "\\item 'immune\\_y/n'\n",
       "\\item 'checked\\_colonies'\n",
       "\\item 'transect\\_id'\n",
       "\\item 'colony\\_id'\n",
       "\\end{enumerate*}\n"
      ],
      "text/markdown": [
       "1. '...1'\n",
       "2. 'Date_InitialTag'\n",
       "3. 'Transect'\n",
       "4. 'TransectNum'\n",
       "5. 'OldTagNum'\n",
       "6. 'NewTagNum'\n",
       "7. 'Species'\n",
       "8. 'Meter'\n",
       "9. 'Meters_90'\n",
       "10. 'Direction'\n",
       "11. 'Size_Class'\n",
       "12. 'MaxDiameter'\n",
       "13. 'Height'\n",
       "14. 'Date_DocumentedDisease'\n",
       "15. 'Date_DocumentedMortality'\n",
       "16. 'Notes_062019'\n",
       "17. '062019_Condition'\n",
       "18. '062019_Percentage'\n",
       "19. 'Notes_052022'\n",
       "20. '052022_Condition'\n",
       "21. '052022_Percentage'\n",
       "22. 'Notes_122022'\n",
       "23. '122022_Condition'\n",
       "24. '122022_Percentage'\n",
       "25. 'Notes_092023'\n",
       "26. '092023_Condition'\n",
       "27. '092023_Percentage'\n",
       "28. 'Notes_112023'\n",
       "29. '112023_Condition'\n",
       "30. '112023_Percentage'\n",
       "31. 'Notes_122023'\n",
       "32. '122023_Condition'\n",
       "33. '122023_Percentage'\n",
       "34. 'Notes_012024'\n",
       "35. '012024_Condition'\n",
       "36. '012024_Percentage'\n",
       "37. 'Notes_022024'\n",
       "38. '022024_Condition'\n",
       "39. '022024_Percentage'\n",
       "40. 'Notes_042024'\n",
       "41. '042024_Condition'\n",
       "42. '042024_Percentage'\n",
       "43. '062024_Condition'\n",
       "44. '062024_Percentage'\n",
       "45. 'Notes_062024'\n",
       "46. '082024_Condition'\n",
       "47. '082024_Percentage'\n",
       "48. 'Notes_082024'\n",
       "49. '122024_Condition'\n",
       "50. '122024_Percentage'\n",
       "51. 'Notes_122024'\n",
       "52. '062025_Condition'\n",
       "53. '062025_Percentage'\n",
       "54. 'Notes_062025'\n",
       "55. 'immune_y/n'\n",
       "56. 'checked_colonies'\n",
       "57. 'transect_id'\n",
       "58. 'colony_id'\n",
       "\n",
       "\n"
      ],
      "text/plain": [
       " [1] \"...1\"                     \"Date_InitialTag\"         \n",
       " [3] \"Transect\"                 \"TransectNum\"             \n",
       " [5] \"OldTagNum\"                \"NewTagNum\"               \n",
       " [7] \"Species\"                  \"Meter\"                   \n",
       " [9] \"Meters_90\"                \"Direction\"               \n",
       "[11] \"Size_Class\"               \"MaxDiameter\"             \n",
       "[13] \"Height\"                   \"Date_DocumentedDisease\"  \n",
       "[15] \"Date_DocumentedMortality\" \"Notes_062019\"            \n",
       "[17] \"062019_Condition\"         \"062019_Percentage\"       \n",
       "[19] \"Notes_052022\"             \"052022_Condition\"        \n",
       "[21] \"052022_Percentage\"        \"Notes_122022\"            \n",
       "[23] \"122022_Condition\"         \"122022_Percentage\"       \n",
       "[25] \"Notes_092023\"             \"092023_Condition\"        \n",
       "[27] \"092023_Percentage\"        \"Notes_112023\"            \n",
       "[29] \"112023_Condition\"         \"112023_Percentage\"       \n",
       "[31] \"Notes_122023\"             \"122023_Condition\"        \n",
       "[33] \"122023_Percentage\"        \"Notes_012024\"            \n",
       "[35] \"012024_Condition\"         \"012024_Percentage\"       \n",
       "[37] \"Notes_022024\"             \"022024_Condition\"        \n",
       "[39] \"022024_Percentage\"        \"Notes_042024\"            \n",
       "[41] \"042024_Condition\"         \"042024_Percentage\"       \n",
       "[43] \"062024_Condition\"         \"062024_Percentage\"       \n",
       "[45] \"Notes_062024\"             \"082024_Condition\"        \n",
       "[47] \"082024_Percentage\"        \"Notes_082024\"            \n",
       "[49] \"122024_Condition\"         \"122024_Percentage\"       \n",
       "[51] \"Notes_122024\"             \"062025_Condition\"        \n",
       "[53] \"062025_Percentage\"        \"Notes_062025\"            \n",
       "[55] \"immune_y/n\"               \"checked_colonies\"        \n",
       "[57] \"transect_id\"              \"colony_id\"               "
      ]
     },
     "metadata": {},
     "output_type": "display_data"
    }
   ],
   "source": [
    "colnames(sctld_colony)\n",
    "# pivot "
   ]
  }
 ],
 "metadata": {
  "kernelspec": {
   "display_name": "R",
   "language": "R",
   "name": "ir"
  },
  "language_info": {
   "codemirror_mode": "r",
   "file_extension": ".r",
   "mimetype": "text/x-r-source",
   "name": "R",
   "pygments_lexer": "r",
   "version": "4.3.3"
  }
 },
 "nbformat": 4,
 "nbformat_minor": 5
}
