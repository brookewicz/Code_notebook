{
 "cells": [
  {
   "cell_type": "markdown",
   "id": "55f65f78-c62f-49f0-947d-555e16be0c1e",
   "metadata": {},
   "source": [
    "# Sample Summaries  "
   ]
  },
  {
   "cell_type": "markdown",
   "id": "878fa65d-725c-47eb-a5bb-8d76ae3cb3c4",
   "metadata": {},
   "source": [
    "## Tagged Colony Summaries "
   ]
  },
  {
   "cell_type": "code",
   "execution_count": 1,
   "id": "a7976910-f4d8-43d7-8ec8-8d3f467afba3",
   "metadata": {
    "scrolled": true
   },
   "outputs": [
    {
     "name": "stderr",
     "output_type": "stream",
     "text": [
      "\n",
      "Attaching package: ‘dplyr’\n",
      "\n",
      "\n",
      "The following objects are masked from ‘package:stats’:\n",
      "\n",
      "    filter, lag\n",
      "\n",
      "\n",
      "The following objects are masked from ‘package:base’:\n",
      "\n",
      "    intersect, setdiff, setequal, union\n",
      "\n",
      "\n",
      "── \u001b[1mAttaching core tidyverse packages\u001b[22m ──────────────────────── tidyverse 2.0.0 ──\n",
      "\u001b[32m✔\u001b[39m \u001b[34mforcats  \u001b[39m 1.0.0     \u001b[32m✔\u001b[39m \u001b[34mreadr    \u001b[39m 2.1.5\n",
      "\u001b[32m✔\u001b[39m \u001b[34mggplot2  \u001b[39m 3.5.2     \u001b[32m✔\u001b[39m \u001b[34mstringr  \u001b[39m 1.5.1\n",
      "\u001b[32m✔\u001b[39m \u001b[34mlubridate\u001b[39m 1.9.4     \u001b[32m✔\u001b[39m \u001b[34mtibble   \u001b[39m 3.2.1\n",
      "\u001b[32m✔\u001b[39m \u001b[34mpurrr    \u001b[39m 1.0.4     \u001b[32m✔\u001b[39m \u001b[34mtidyr    \u001b[39m 1.3.1\n",
      "── \u001b[1mConflicts\u001b[22m ────────────────────────────────────────── tidyverse_conflicts() ──\n",
      "\u001b[31m✖\u001b[39m \u001b[34mdplyr\u001b[39m::\u001b[32mfilter()\u001b[39m masks \u001b[34mstats\u001b[39m::filter()\n",
      "\u001b[31m✖\u001b[39m \u001b[34mdplyr\u001b[39m::\u001b[32mlag()\u001b[39m    masks \u001b[34mstats\u001b[39m::lag()\n",
      "\u001b[36mℹ\u001b[39m Use the conflicted package (\u001b[3m\u001b[34m<http://conflicted.r-lib.org/>\u001b[39m\u001b[23m) to force all conflicts to become errors\n"
     ]
    }
   ],
   "source": [
    "library(dplyr)\n",
    "library(tidyverse)\n",
    "library(ggplot2)\n",
    "library(tidyr)\n",
    "library(purrr)\n",
    "library(stringr)"
   ]
  },
  {
   "cell_type": "code",
   "execution_count": 2,
   "id": "907c3337-d9ea-40b2-8fe6-37f6d20c6df1",
   "metadata": {},
   "outputs": [
    {
     "name": "stderr",
     "output_type": "stream",
     "text": [
      "\u001b[1m\u001b[22mNew names:\n",
      "\u001b[36m•\u001b[39m `` -> `...1`\n"
     ]
    }
   ],
   "source": [
    "colony <- read_csv(\"/Users/brookesienkiewicz/Documents/sctld/SCTLD_samples/Sample_Data/CBC_ColonyData.csv\", show_col_types = FALSE)"
   ]
  },
  {
   "cell_type": "code",
   "execution_count": 3,
   "id": "a2033809-2d5e-49c0-a998-4c319e85b72a",
   "metadata": {},
   "outputs": [
    {
     "data": {
      "text/html": [
       "<style>\n",
       ".list-inline {list-style: none; margin:0; padding: 0}\n",
       ".list-inline>li {display: inline-block}\n",
       ".list-inline>li:not(:last-child)::after {content: \"\\00b7\"; padding: 0 .5ex}\n",
       "</style>\n",
       "<ol class=list-inline><li>'SSID'</li><li>'PAST'</li><li>'PSTR'</li><li>'MCAV'</li><li>'OANN'</li><li>'ORBI'</li><li>'DLAB'</li><li>'MMEA'</li><li>'OFAV'</li><li>'CNAT'</li></ol>\n"
      ],
      "text/latex": [
       "\\begin{enumerate*}\n",
       "\\item 'SSID'\n",
       "\\item 'PAST'\n",
       "\\item 'PSTR'\n",
       "\\item 'MCAV'\n",
       "\\item 'OANN'\n",
       "\\item 'ORBI'\n",
       "\\item 'DLAB'\n",
       "\\item 'MMEA'\n",
       "\\item 'OFAV'\n",
       "\\item 'CNAT'\n",
       "\\end{enumerate*}\n"
      ],
      "text/markdown": [
       "1. 'SSID'\n",
       "2. 'PAST'\n",
       "3. 'PSTR'\n",
       "4. 'MCAV'\n",
       "5. 'OANN'\n",
       "6. 'ORBI'\n",
       "7. 'DLAB'\n",
       "8. 'MMEA'\n",
       "9. 'OFAV'\n",
       "10. 'CNAT'\n",
       "\n",
       "\n"
      ],
      "text/plain": [
       " [1] \"SSID\" \"PAST\" \"PSTR\" \"MCAV\" \"OANN\" \"ORBI\" \"DLAB\" \"MMEA\" \"OFAV\" \"CNAT\""
      ]
     },
     "metadata": {},
     "output_type": "display_data"
    },
    {
     "data": {
      "text/html": [
       "<style>\n",
       ".list-inline {list-style: none; margin:0; padding: 0}\n",
       ".list-inline>li {display: inline-block}\n",
       ".list-inline>li:not(:last-child)::after {content: \"\\00b7\"; padding: 0 .5ex}\n",
       "</style>\n",
       "<ol class=list-inline><li>'SSID'</li><li>'PAST'</li><li>'PSTR'</li><li>'MCAV'</li><li>'OANN'</li><li>'OFAV'</li><li>'DLAB'</li><li>'MMEA'</li><li>'CNAT'</li></ol>\n"
      ],
      "text/latex": [
       "\\begin{enumerate*}\n",
       "\\item 'SSID'\n",
       "\\item 'PAST'\n",
       "\\item 'PSTR'\n",
       "\\item 'MCAV'\n",
       "\\item 'OANN'\n",
       "\\item 'OFAV'\n",
       "\\item 'DLAB'\n",
       "\\item 'MMEA'\n",
       "\\item 'CNAT'\n",
       "\\end{enumerate*}\n"
      ],
      "text/markdown": [
       "1. 'SSID'\n",
       "2. 'PAST'\n",
       "3. 'PSTR'\n",
       "4. 'MCAV'\n",
       "5. 'OANN'\n",
       "6. 'OFAV'\n",
       "7. 'DLAB'\n",
       "8. 'MMEA'\n",
       "9. 'CNAT'\n",
       "\n",
       "\n"
      ],
      "text/plain": [
       "[1] \"SSID\" \"PAST\" \"PSTR\" \"MCAV\" \"OANN\" \"OFAV\" \"DLAB\" \"MMEA\" \"CNAT\""
      ]
     },
     "metadata": {},
     "output_type": "display_data"
    }
   ],
   "source": [
    "# change orbi rapid colony to ofav for now \n",
    "unique(colony$Species)\n",
    "colony[colony$Species=='ORBI','Species']<- \"OFAV\"\n",
    "unique(colony$Species)"
   ]
  },
  {
   "cell_type": "code",
   "execution_count": 4,
   "id": "249fc231-4149-459a-9571-619ea3ab9fb2",
   "metadata": {},
   "outputs": [
    {
     "data": {
      "text/html": [
       "<table class=\"dataframe\">\n",
       "<caption>A tibble: 7 × 11</caption>\n",
       "<thead>\n",
       "\t<tr><th scope=col>Transect</th><th scope=col>MCAV</th><th scope=col>OANN</th><th scope=col>OFAV</th><th scope=col>PAST</th><th scope=col>PSTR</th><th scope=col>SSID</th><th scope=col>DLAB</th><th scope=col>MMEA</th><th scope=col>CNAT</th><th scope=col>Total</th></tr>\n",
       "\t<tr><th scope=col>&lt;chr&gt;</th><th scope=col>&lt;int&gt;</th><th scope=col>&lt;int&gt;</th><th scope=col>&lt;int&gt;</th><th scope=col>&lt;int&gt;</th><th scope=col>&lt;int&gt;</th><th scope=col>&lt;int&gt;</th><th scope=col>&lt;int&gt;</th><th scope=col>&lt;int&gt;</th><th scope=col>&lt;int&gt;</th><th scope=col>&lt;dbl&gt;</th></tr>\n",
       "</thead>\n",
       "<tbody>\n",
       "\t<tr><td>BB     </td><td> 6</td><td> 7</td><td> 6</td><td> 6</td><td> 6</td><td> 6</td><td>0</td><td> 0</td><td>0</td><td> 37</td></tr>\n",
       "\t<tr><td>CBC30N </td><td> 9</td><td> 2</td><td> 1</td><td> 5</td><td> 7</td><td> 8</td><td>2</td><td> 2</td><td>0</td><td> 36</td></tr>\n",
       "\t<tr><td>CURLEW </td><td> 5</td><td> 1</td><td> 4</td><td> 0</td><td> 5</td><td> 0</td><td>2</td><td> 0</td><td>0</td><td> 17</td></tr>\n",
       "\t<tr><td>HANGMAN</td><td> 5</td><td> 5</td><td> 5</td><td> 5</td><td> 6</td><td> 5</td><td>0</td><td> 0</td><td>0</td><td> 31</td></tr>\n",
       "\t<tr><td>LAGOON </td><td>10</td><td> 2</td><td> 3</td><td> 9</td><td>10</td><td>10</td><td>2</td><td> 5</td><td>0</td><td> 51</td></tr>\n",
       "\t<tr><td>SR30N  </td><td> 7</td><td> 2</td><td> 4</td><td> 6</td><td> 9</td><td>11</td><td>2</td><td> 6</td><td>1</td><td> 48</td></tr>\n",
       "\t<tr><td>Total  </td><td>42</td><td>19</td><td>23</td><td>31</td><td>43</td><td>40</td><td>8</td><td>13</td><td>1</td><td>220</td></tr>\n",
       "</tbody>\n",
       "</table>\n"
      ],
      "text/latex": [
       "A tibble: 7 × 11\n",
       "\\begin{tabular}{lllllllllll}\n",
       " Transect & MCAV & OANN & OFAV & PAST & PSTR & SSID & DLAB & MMEA & CNAT & Total\\\\\n",
       " <chr> & <int> & <int> & <int> & <int> & <int> & <int> & <int> & <int> & <int> & <dbl>\\\\\n",
       "\\hline\n",
       "\t BB      &  6 &  7 &  6 &  6 &  6 &  6 & 0 &  0 & 0 &  37\\\\\n",
       "\t CBC30N  &  9 &  2 &  1 &  5 &  7 &  8 & 2 &  2 & 0 &  36\\\\\n",
       "\t CURLEW  &  5 &  1 &  4 &  0 &  5 &  0 & 2 &  0 & 0 &  17\\\\\n",
       "\t HANGMAN &  5 &  5 &  5 &  5 &  6 &  5 & 0 &  0 & 0 &  31\\\\\n",
       "\t LAGOON  & 10 &  2 &  3 &  9 & 10 & 10 & 2 &  5 & 0 &  51\\\\\n",
       "\t SR30N   &  7 &  2 &  4 &  6 &  9 & 11 & 2 &  6 & 1 &  48\\\\\n",
       "\t Total   & 42 & 19 & 23 & 31 & 43 & 40 & 8 & 13 & 1 & 220\\\\\n",
       "\\end{tabular}\n"
      ],
      "text/markdown": [
       "\n",
       "A tibble: 7 × 11\n",
       "\n",
       "| Transect &lt;chr&gt; | MCAV &lt;int&gt; | OANN &lt;int&gt; | OFAV &lt;int&gt; | PAST &lt;int&gt; | PSTR &lt;int&gt; | SSID &lt;int&gt; | DLAB &lt;int&gt; | MMEA &lt;int&gt; | CNAT &lt;int&gt; | Total &lt;dbl&gt; |\n",
       "|---|---|---|---|---|---|---|---|---|---|---|\n",
       "| BB      |  6 |  7 |  6 |  6 |  6 |  6 | 0 |  0 | 0 |  37 |\n",
       "| CBC30N  |  9 |  2 |  1 |  5 |  7 |  8 | 2 |  2 | 0 |  36 |\n",
       "| CURLEW  |  5 |  1 |  4 |  0 |  5 |  0 | 2 |  0 | 0 |  17 |\n",
       "| HANGMAN |  5 |  5 |  5 |  5 |  6 |  5 | 0 |  0 | 0 |  31 |\n",
       "| LAGOON  | 10 |  2 |  3 |  9 | 10 | 10 | 2 |  5 | 0 |  51 |\n",
       "| SR30N   |  7 |  2 |  4 |  6 |  9 | 11 | 2 |  6 | 1 |  48 |\n",
       "| Total   | 42 | 19 | 23 | 31 | 43 | 40 | 8 | 13 | 1 | 220 |\n",
       "\n"
      ],
      "text/plain": [
       "  Transect MCAV OANN OFAV PAST PSTR SSID DLAB MMEA CNAT Total\n",
       "1 BB        6    7    6    6    6    6   0     0   0     37  \n",
       "2 CBC30N    9    2    1    5    7    8   2     2   0     36  \n",
       "3 CURLEW    5    1    4    0    5    0   2     0   0     17  \n",
       "4 HANGMAN   5    5    5    5    6    5   0     0   0     31  \n",
       "5 LAGOON   10    2    3    9   10   10   2     5   0     51  \n",
       "6 SR30N     7    2    4    6    9   11   2     6   1     48  \n",
       "7 Total    42   19   23   31   43   40   8    13   1    220  "
      ]
     },
     "metadata": {},
     "output_type": "display_data"
    }
   ],
   "source": [
    "# summary of tagged colonies \n",
    "tagged_summarytable<-colony %>%\n",
    "  group_by(Transect, Species) %>%\n",
    "  summarise(n = n(), .groups = \"drop\") %>%\n",
    "  pivot_wider(names_from = Species, values_from = n, values_fill = 0)\n",
    "\n",
    "    # Add row totals\n",
    "    tagged_summarytable <- tagged_summarytable %>%\n",
    "      mutate(Total = rowSums(select(., -Transect)))\n",
    "    \n",
    "    # Add column totals\n",
    "    totals_row <- tagged_summarytable %>%\n",
    "      select(-Transect) %>%\n",
    "      summarise(across(everything(), sum)) %>%\n",
    "      mutate(Transect = \"Total\") %>%\n",
    "      select(Transect, everything())\n",
    "    \n",
    "    # Combine\n",
    "    tagged_summarytable <- bind_rows(tagged_summarytable, totals_row)\n",
    "    tagged_summarytable"
   ]
  },
  {
   "cell_type": "code",
   "execution_count": 5,
   "id": "c4e97527-ed39-400d-9621-f2e03870295d",
   "metadata": {},
   "outputs": [
    {
     "data": {
      "text/html": [
       "<table class=\"dataframe\">\n",
       "<caption>A tibble: 5 × 7</caption>\n",
       "<thead>\n",
       "\t<tr><th scope=col>Transect</th><th scope=col>MCAV</th><th scope=col>OFAV</th><th scope=col>PAST</th><th scope=col>PSTR</th><th scope=col>SSID</th><th scope=col>Total</th></tr>\n",
       "\t<tr><th scope=col>&lt;chr&gt;</th><th scope=col>&lt;int&gt;</th><th scope=col>&lt;int&gt;</th><th scope=col>&lt;int&gt;</th><th scope=col>&lt;int&gt;</th><th scope=col>&lt;int&gt;</th><th scope=col>&lt;dbl&gt;</th></tr>\n",
       "</thead>\n",
       "<tbody>\n",
       "\t<tr><td>CBC30N</td><td> 1</td><td>1</td><td>3</td><td>1</td><td>1</td><td> 7</td></tr>\n",
       "\t<tr><td>CURLEW</td><td> 3</td><td>1</td><td>0</td><td>2</td><td>0</td><td> 6</td></tr>\n",
       "\t<tr><td>LAGOON</td><td> 3</td><td>3</td><td>3</td><td>2</td><td>2</td><td>13</td></tr>\n",
       "\t<tr><td>SR30N </td><td> 3</td><td>2</td><td>3</td><td>0</td><td>3</td><td>11</td></tr>\n",
       "\t<tr><td>Total </td><td>10</td><td>7</td><td>9</td><td>5</td><td>6</td><td>37</td></tr>\n",
       "</tbody>\n",
       "</table>\n"
      ],
      "text/latex": [
       "A tibble: 5 × 7\n",
       "\\begin{tabular}{lllllll}\n",
       " Transect & MCAV & OFAV & PAST & PSTR & SSID & Total\\\\\n",
       " <chr> & <int> & <int> & <int> & <int> & <int> & <dbl>\\\\\n",
       "\\hline\n",
       "\t CBC30N &  1 & 1 & 3 & 1 & 1 &  7\\\\\n",
       "\t CURLEW &  3 & 1 & 0 & 2 & 0 &  6\\\\\n",
       "\t LAGOON &  3 & 3 & 3 & 2 & 2 & 13\\\\\n",
       "\t SR30N  &  3 & 2 & 3 & 0 & 3 & 11\\\\\n",
       "\t Total  & 10 & 7 & 9 & 5 & 6 & 37\\\\\n",
       "\\end{tabular}\n"
      ],
      "text/markdown": [
       "\n",
       "A tibble: 5 × 7\n",
       "\n",
       "| Transect &lt;chr&gt; | MCAV &lt;int&gt; | OFAV &lt;int&gt; | PAST &lt;int&gt; | PSTR &lt;int&gt; | SSID &lt;int&gt; | Total &lt;dbl&gt; |\n",
       "|---|---|---|---|---|---|---|\n",
       "| CBC30N |  1 | 1 | 3 | 1 | 1 |  7 |\n",
       "| CURLEW |  3 | 1 | 0 | 2 | 0 |  6 |\n",
       "| LAGOON |  3 | 3 | 3 | 2 | 2 | 13 |\n",
       "| SR30N  |  3 | 2 | 3 | 0 | 3 | 11 |\n",
       "| Total  | 10 | 7 | 9 | 5 | 6 | 37 |\n",
       "\n"
      ],
      "text/plain": [
       "  Transect MCAV OFAV PAST PSTR SSID Total\n",
       "1 CBC30N    1   1    3    1    1     7   \n",
       "2 CURLEW    3   1    0    2    0     6   \n",
       "3 LAGOON    3   3    3    2    2    13   \n",
       "4 SR30N     3   2    3    0    3    11   \n",
       "5 Total    10   7    9    5    6    37   "
      ]
     },
     "metadata": {},
     "output_type": "display_data"
    }
   ],
   "source": [
    "# summary of immune tagged colonies \n",
    "immune_summarytable<-colony %>%\n",
    "  filter(`immune_y/n`=='y') %>%\n",
    "  group_by(Transect, Species) %>%\n",
    "  summarise(n = n(), .groups = \"drop\") %>%\n",
    "  pivot_wider(names_from = Species, values_from = n, values_fill = 0)\n",
    "\n",
    "    # Add row totals\n",
    "    immune_summarytable <- immune_summarytable %>%\n",
    "      mutate(Total = rowSums(select(., -Transect)))\n",
    "    \n",
    "    # Add column totals\n",
    "    totals_row <- immune_summarytable %>%\n",
    "      select(-Transect) %>%\n",
    "      summarise(across(everything(), sum)) %>%\n",
    "      mutate(Transect = \"Total\") %>%\n",
    "      select(Transect, everything())\n",
    "    \n",
    "    # Combine\n",
    "    immune_summarytable <- bind_rows(immune_summarytable, totals_row)\n",
    "    immune_summarytable"
   ]
  },
  {
   "cell_type": "markdown",
   "id": "235b2349-8893-4cf7-9e15-242332933eeb",
   "metadata": {},
   "source": [
    "### Bleached"
   ]
  },
  {
   "cell_type": "code",
   "execution_count": 10,
   "id": "aba85283-3726-47d8-ac0b-29914af18a44",
   "metadata": {},
   "outputs": [
    {
     "data": {
      "text/html": [
       "<table class=\"dataframe\">\n",
       "<caption>A tibble: 15 × 12</caption>\n",
       "<thead>\n",
       "\t<tr><th scope=col>Transect</th><th scope=col>Status</th><th scope=col>MCAV</th><th scope=col>OANN</th><th scope=col>OFAV</th><th scope=col>PAST</th><th scope=col>PSTR</th><th scope=col>SSID</th><th scope=col>DLAB</th><th scope=col>MMEA</th><th scope=col>CNAT</th><th scope=col>Total</th></tr>\n",
       "\t<tr><th scope=col>&lt;chr&gt;</th><th scope=col>&lt;chr&gt;</th><th scope=col>&lt;int&gt;</th><th scope=col>&lt;int&gt;</th><th scope=col>&lt;int&gt;</th><th scope=col>&lt;int&gt;</th><th scope=col>&lt;int&gt;</th><th scope=col>&lt;int&gt;</th><th scope=col>&lt;int&gt;</th><th scope=col>&lt;int&gt;</th><th scope=col>&lt;int&gt;</th><th scope=col>&lt;dbl&gt;</th></tr>\n",
       "</thead>\n",
       "<tbody>\n",
       "\t<tr><td>BB     </td><td>Bleached    </td><td> 4</td><td> 7</td><td> 6</td><td> 6</td><td> 4</td><td> 0</td><td>0</td><td> 0</td><td>0</td><td> 27</td></tr>\n",
       "\t<tr><td>BB     </td><td>Not Bleached</td><td> 2</td><td> 0</td><td> 0</td><td> 0</td><td> 2</td><td> 6</td><td>0</td><td> 0</td><td>0</td><td> 10</td></tr>\n",
       "\t<tr><td>CBC30N </td><td>Bleached    </td><td> 2</td><td> 2</td><td> 1</td><td> 5</td><td> 1</td><td> 2</td><td>1</td><td> 0</td><td>0</td><td> 14</td></tr>\n",
       "\t<tr><td>CBC30N </td><td>Not Bleached</td><td> 7</td><td> 0</td><td> 0</td><td> 0</td><td> 6</td><td> 6</td><td>1</td><td> 2</td><td>0</td><td> 22</td></tr>\n",
       "\t<tr><td>CURLEW </td><td>Bleached    </td><td> 2</td><td> 0</td><td> 2</td><td> 0</td><td> 2</td><td> 0</td><td>1</td><td> 0</td><td>0</td><td>  7</td></tr>\n",
       "\t<tr><td>CURLEW </td><td>Not Bleached</td><td> 3</td><td> 1</td><td> 2</td><td> 0</td><td> 3</td><td> 0</td><td>1</td><td> 0</td><td>0</td><td> 10</td></tr>\n",
       "\t<tr><td>HANGMAN</td><td>Bleached    </td><td> 3</td><td> 4</td><td> 3</td><td> 1</td><td> 6</td><td> 1</td><td>0</td><td> 0</td><td>0</td><td> 18</td></tr>\n",
       "\t<tr><td>HANGMAN</td><td>Not Bleached</td><td> 2</td><td> 1</td><td> 2</td><td> 4</td><td> 0</td><td> 4</td><td>0</td><td> 0</td><td>0</td><td> 13</td></tr>\n",
       "\t<tr><td>LAGOON </td><td>Bleached    </td><td> 3</td><td> 2</td><td> 0</td><td> 7</td><td> 4</td><td> 3</td><td>2</td><td> 0</td><td>0</td><td> 21</td></tr>\n",
       "\t<tr><td>LAGOON </td><td>Not Bleached</td><td> 7</td><td> 0</td><td> 3</td><td> 2</td><td> 6</td><td> 7</td><td>0</td><td> 5</td><td>0</td><td> 30</td></tr>\n",
       "\t<tr><td>SR30N  </td><td>Bleached    </td><td> 4</td><td> 2</td><td> 3</td><td> 2</td><td> 2</td><td> 9</td><td>1</td><td> 0</td><td>1</td><td> 24</td></tr>\n",
       "\t<tr><td>SR30N  </td><td>Not Bleached</td><td> 3</td><td> 0</td><td> 1</td><td> 4</td><td> 7</td><td> 2</td><td>1</td><td> 6</td><td>0</td><td> 24</td></tr>\n",
       "\t<tr><td>Total  </td><td>Bleached    </td><td>18</td><td>17</td><td>15</td><td>21</td><td>19</td><td>15</td><td>5</td><td> 0</td><td>1</td><td>111</td></tr>\n",
       "\t<tr><td>Total  </td><td>Not Bleached</td><td>24</td><td> 2</td><td> 8</td><td>10</td><td>24</td><td>25</td><td>3</td><td>13</td><td>0</td><td>109</td></tr>\n",
       "\t<tr><td>Total  </td><td>Total       </td><td>42</td><td>19</td><td>23</td><td>31</td><td>43</td><td>40</td><td>8</td><td>13</td><td>1</td><td>220</td></tr>\n",
       "</tbody>\n",
       "</table>\n"
      ],
      "text/latex": [
       "A tibble: 15 × 12\n",
       "\\begin{tabular}{llllllllllll}\n",
       " Transect & Status & MCAV & OANN & OFAV & PAST & PSTR & SSID & DLAB & MMEA & CNAT & Total\\\\\n",
       " <chr> & <chr> & <int> & <int> & <int> & <int> & <int> & <int> & <int> & <int> & <int> & <dbl>\\\\\n",
       "\\hline\n",
       "\t BB      & Bleached     &  4 &  7 &  6 &  6 &  4 &  0 & 0 &  0 & 0 &  27\\\\\n",
       "\t BB      & Not Bleached &  2 &  0 &  0 &  0 &  2 &  6 & 0 &  0 & 0 &  10\\\\\n",
       "\t CBC30N  & Bleached     &  2 &  2 &  1 &  5 &  1 &  2 & 1 &  0 & 0 &  14\\\\\n",
       "\t CBC30N  & Not Bleached &  7 &  0 &  0 &  0 &  6 &  6 & 1 &  2 & 0 &  22\\\\\n",
       "\t CURLEW  & Bleached     &  2 &  0 &  2 &  0 &  2 &  0 & 1 &  0 & 0 &   7\\\\\n",
       "\t CURLEW  & Not Bleached &  3 &  1 &  2 &  0 &  3 &  0 & 1 &  0 & 0 &  10\\\\\n",
       "\t HANGMAN & Bleached     &  3 &  4 &  3 &  1 &  6 &  1 & 0 &  0 & 0 &  18\\\\\n",
       "\t HANGMAN & Not Bleached &  2 &  1 &  2 &  4 &  0 &  4 & 0 &  0 & 0 &  13\\\\\n",
       "\t LAGOON  & Bleached     &  3 &  2 &  0 &  7 &  4 &  3 & 2 &  0 & 0 &  21\\\\\n",
       "\t LAGOON  & Not Bleached &  7 &  0 &  3 &  2 &  6 &  7 & 0 &  5 & 0 &  30\\\\\n",
       "\t SR30N   & Bleached     &  4 &  2 &  3 &  2 &  2 &  9 & 1 &  0 & 1 &  24\\\\\n",
       "\t SR30N   & Not Bleached &  3 &  0 &  1 &  4 &  7 &  2 & 1 &  6 & 0 &  24\\\\\n",
       "\t Total   & Bleached     & 18 & 17 & 15 & 21 & 19 & 15 & 5 &  0 & 1 & 111\\\\\n",
       "\t Total   & Not Bleached & 24 &  2 &  8 & 10 & 24 & 25 & 3 & 13 & 0 & 109\\\\\n",
       "\t Total   & Total        & 42 & 19 & 23 & 31 & 43 & 40 & 8 & 13 & 1 & 220\\\\\n",
       "\\end{tabular}\n"
      ],
      "text/markdown": [
       "\n",
       "A tibble: 15 × 12\n",
       "\n",
       "| Transect &lt;chr&gt; | Status &lt;chr&gt; | MCAV &lt;int&gt; | OANN &lt;int&gt; | OFAV &lt;int&gt; | PAST &lt;int&gt; | PSTR &lt;int&gt; | SSID &lt;int&gt; | DLAB &lt;int&gt; | MMEA &lt;int&gt; | CNAT &lt;int&gt; | Total &lt;dbl&gt; |\n",
       "|---|---|---|---|---|---|---|---|---|---|---|---|\n",
       "| BB      | Bleached     |  4 |  7 |  6 |  6 |  4 |  0 | 0 |  0 | 0 |  27 |\n",
       "| BB      | Not Bleached |  2 |  0 |  0 |  0 |  2 |  6 | 0 |  0 | 0 |  10 |\n",
       "| CBC30N  | Bleached     |  2 |  2 |  1 |  5 |  1 |  2 | 1 |  0 | 0 |  14 |\n",
       "| CBC30N  | Not Bleached |  7 |  0 |  0 |  0 |  6 |  6 | 1 |  2 | 0 |  22 |\n",
       "| CURLEW  | Bleached     |  2 |  0 |  2 |  0 |  2 |  0 | 1 |  0 | 0 |   7 |\n",
       "| CURLEW  | Not Bleached |  3 |  1 |  2 |  0 |  3 |  0 | 1 |  0 | 0 |  10 |\n",
       "| HANGMAN | Bleached     |  3 |  4 |  3 |  1 |  6 |  1 | 0 |  0 | 0 |  18 |\n",
       "| HANGMAN | Not Bleached |  2 |  1 |  2 |  4 |  0 |  4 | 0 |  0 | 0 |  13 |\n",
       "| LAGOON  | Bleached     |  3 |  2 |  0 |  7 |  4 |  3 | 2 |  0 | 0 |  21 |\n",
       "| LAGOON  | Not Bleached |  7 |  0 |  3 |  2 |  6 |  7 | 0 |  5 | 0 |  30 |\n",
       "| SR30N   | Bleached     |  4 |  2 |  3 |  2 |  2 |  9 | 1 |  0 | 1 |  24 |\n",
       "| SR30N   | Not Bleached |  3 |  0 |  1 |  4 |  7 |  2 | 1 |  6 | 0 |  24 |\n",
       "| Total   | Bleached     | 18 | 17 | 15 | 21 | 19 | 15 | 5 |  0 | 1 | 111 |\n",
       "| Total   | Not Bleached | 24 |  2 |  8 | 10 | 24 | 25 | 3 | 13 | 0 | 109 |\n",
       "| Total   | Total        | 42 | 19 | 23 | 31 | 43 | 40 | 8 | 13 | 1 | 220 |\n",
       "\n"
      ],
      "text/plain": [
       "   Transect Status       MCAV OANN OFAV PAST PSTR SSID DLAB MMEA CNAT Total\n",
       "1  BB       Bleached      4    7    6    6    4    0   0     0   0     27  \n",
       "2  BB       Not Bleached  2    0    0    0    2    6   0     0   0     10  \n",
       "3  CBC30N   Bleached      2    2    1    5    1    2   1     0   0     14  \n",
       "4  CBC30N   Not Bleached  7    0    0    0    6    6   1     2   0     22  \n",
       "5  CURLEW   Bleached      2    0    2    0    2    0   1     0   0      7  \n",
       "6  CURLEW   Not Bleached  3    1    2    0    3    0   1     0   0     10  \n",
       "7  HANGMAN  Bleached      3    4    3    1    6    1   0     0   0     18  \n",
       "8  HANGMAN  Not Bleached  2    1    2    4    0    4   0     0   0     13  \n",
       "9  LAGOON   Bleached      3    2    0    7    4    3   2     0   0     21  \n",
       "10 LAGOON   Not Bleached  7    0    3    2    6    7   0     5   0     30  \n",
       "11 SR30N    Bleached      4    2    3    2    2    9   1     0   1     24  \n",
       "12 SR30N    Not Bleached  3    0    1    4    7    2   1     6   0     24  \n",
       "13 Total    Bleached     18   17   15   21   19   15   5     0   1    111  \n",
       "14 Total    Not Bleached 24    2    8   10   24   25   3    13   0    109  \n",
       "15 Total    Total        42   19   23   31   43   40   8    13   1    220  "
      ]
     },
     "metadata": {},
     "output_type": "display_data"
    }
   ],
   "source": [
    "# Add bleach status column\n",
    "clb_summary <- colony %>%\n",
    "  mutate(\n",
    "    clb_y_n = if_any(everything(), ~ str_detect(., \"CLB|CLP\")),\n",
    "    Status = case_when(\n",
    "    clb_y_n ~ \"Bleached\",\n",
    "    is.na(clb_y_n) ~ \"Not Bleached\", \n",
    "    TRUE ~ \"Not Bleached\"\n",
    "    ))\n",
    "      \n",
    "# Count by Transect, Species, and Status\n",
    "summary_tbl <- clb_summary %>%\n",
    "  group_by(Transect, Species, Status) %>%\n",
    "  summarise(n = n(), .groups = \"drop\") %>%\n",
    "  pivot_wider(names_from = Species, values_from = n, values_fill = 0) %>%\n",
    "  mutate(Total = rowSums(across(-c(Transect, Status))))\n",
    "\n",
    "# Add row totals per Status\n",
    "status_totals <- summary_tbl %>%\n",
    "  select(-Transect) %>%\n",
    "  group_by(Status) %>%\n",
    "  summarise(across(everything(), sum)) %>%\n",
    "  mutate(Transect = \"Total\") %>%\n",
    "  select(Transect, everything())\n",
    "\n",
    "# Add grand total row\n",
    "grand_total <- summary_tbl %>%\n",
    "  select(-c(Transect, Status)) %>%\n",
    "  summarise(across(everything(), sum)) %>%\n",
    "  mutate(Transect = \"Total\", Status = \"Total\") %>%\n",
    "  select(Transect, Status, everything())\n",
    "\n",
    "# Combine\n",
    "clb_summarytable <- bind_rows(summary_tbl, status_totals, grand_total) %>%\n",
    "  arrange(Transect, Status)\n",
    "\n",
    "clb_summarytable"
   ]
  },
  {
   "cell_type": "code",
   "execution_count": 11,
   "id": "b04d85e6-41f2-478d-a8dd-cc787a016184",
   "metadata": {},
   "outputs": [
    {
     "data": {
      "text/html": [
       "<table class=\"dataframe\">\n",
       "<caption>A tibble: 10 × 8</caption>\n",
       "<thead>\n",
       "\t<tr><th scope=col>Transect</th><th scope=col>Status</th><th scope=col>MCAV</th><th scope=col>OFAV</th><th scope=col>PAST</th><th scope=col>PSTR</th><th scope=col>SSID</th><th scope=col>Total</th></tr>\n",
       "\t<tr><th scope=col>&lt;chr&gt;</th><th scope=col>&lt;chr&gt;</th><th scope=col>&lt;int&gt;</th><th scope=col>&lt;int&gt;</th><th scope=col>&lt;int&gt;</th><th scope=col>&lt;int&gt;</th><th scope=col>&lt;int&gt;</th><th scope=col>&lt;dbl&gt;</th></tr>\n",
       "</thead>\n",
       "<tbody>\n",
       "\t<tr><td>CBC30N</td><td>Bleached    </td><td> 1</td><td>1</td><td>3</td><td>1</td><td>1</td><td> 7</td></tr>\n",
       "\t<tr><td>CURLEW</td><td>Bleached    </td><td> 2</td><td>1</td><td>0</td><td>2</td><td>0</td><td> 5</td></tr>\n",
       "\t<tr><td>CURLEW</td><td>Not Bleached</td><td> 1</td><td>0</td><td>0</td><td>0</td><td>0</td><td> 1</td></tr>\n",
       "\t<tr><td>LAGOON</td><td>Bleached    </td><td> 3</td><td>0</td><td>3</td><td>2</td><td>2</td><td>10</td></tr>\n",
       "\t<tr><td>LAGOON</td><td>Not Bleached</td><td> 0</td><td>3</td><td>0</td><td>0</td><td>0</td><td> 3</td></tr>\n",
       "\t<tr><td>SR30N </td><td>Bleached    </td><td> 3</td><td>1</td><td>2</td><td>0</td><td>3</td><td> 9</td></tr>\n",
       "\t<tr><td>SR30N </td><td>Not Bleached</td><td> 0</td><td>1</td><td>1</td><td>0</td><td>0</td><td> 2</td></tr>\n",
       "\t<tr><td>Total </td><td>Bleached    </td><td> 9</td><td>3</td><td>8</td><td>5</td><td>6</td><td>31</td></tr>\n",
       "\t<tr><td>Total </td><td>Not Bleached</td><td> 1</td><td>4</td><td>1</td><td>0</td><td>0</td><td> 6</td></tr>\n",
       "\t<tr><td>Total </td><td>Total       </td><td>10</td><td>7</td><td>9</td><td>5</td><td>6</td><td>37</td></tr>\n",
       "</tbody>\n",
       "</table>\n"
      ],
      "text/latex": [
       "A tibble: 10 × 8\n",
       "\\begin{tabular}{llllllll}\n",
       " Transect & Status & MCAV & OFAV & PAST & PSTR & SSID & Total\\\\\n",
       " <chr> & <chr> & <int> & <int> & <int> & <int> & <int> & <dbl>\\\\\n",
       "\\hline\n",
       "\t CBC30N & Bleached     &  1 & 1 & 3 & 1 & 1 &  7\\\\\n",
       "\t CURLEW & Bleached     &  2 & 1 & 0 & 2 & 0 &  5\\\\\n",
       "\t CURLEW & Not Bleached &  1 & 0 & 0 & 0 & 0 &  1\\\\\n",
       "\t LAGOON & Bleached     &  3 & 0 & 3 & 2 & 2 & 10\\\\\n",
       "\t LAGOON & Not Bleached &  0 & 3 & 0 & 0 & 0 &  3\\\\\n",
       "\t SR30N  & Bleached     &  3 & 1 & 2 & 0 & 3 &  9\\\\\n",
       "\t SR30N  & Not Bleached &  0 & 1 & 1 & 0 & 0 &  2\\\\\n",
       "\t Total  & Bleached     &  9 & 3 & 8 & 5 & 6 & 31\\\\\n",
       "\t Total  & Not Bleached &  1 & 4 & 1 & 0 & 0 &  6\\\\\n",
       "\t Total  & Total        & 10 & 7 & 9 & 5 & 6 & 37\\\\\n",
       "\\end{tabular}\n"
      ],
      "text/markdown": [
       "\n",
       "A tibble: 10 × 8\n",
       "\n",
       "| Transect &lt;chr&gt; | Status &lt;chr&gt; | MCAV &lt;int&gt; | OFAV &lt;int&gt; | PAST &lt;int&gt; | PSTR &lt;int&gt; | SSID &lt;int&gt; | Total &lt;dbl&gt; |\n",
       "|---|---|---|---|---|---|---|---|\n",
       "| CBC30N | Bleached     |  1 | 1 | 3 | 1 | 1 |  7 |\n",
       "| CURLEW | Bleached     |  2 | 1 | 0 | 2 | 0 |  5 |\n",
       "| CURLEW | Not Bleached |  1 | 0 | 0 | 0 | 0 |  1 |\n",
       "| LAGOON | Bleached     |  3 | 0 | 3 | 2 | 2 | 10 |\n",
       "| LAGOON | Not Bleached |  0 | 3 | 0 | 0 | 0 |  3 |\n",
       "| SR30N  | Bleached     |  3 | 1 | 2 | 0 | 3 |  9 |\n",
       "| SR30N  | Not Bleached |  0 | 1 | 1 | 0 | 0 |  2 |\n",
       "| Total  | Bleached     |  9 | 3 | 8 | 5 | 6 | 31 |\n",
       "| Total  | Not Bleached |  1 | 4 | 1 | 0 | 0 |  6 |\n",
       "| Total  | Total        | 10 | 7 | 9 | 5 | 6 | 37 |\n",
       "\n"
      ],
      "text/plain": [
       "   Transect Status       MCAV OFAV PAST PSTR SSID Total\n",
       "1  CBC30N   Bleached      1   1    3    1    1     7   \n",
       "2  CURLEW   Bleached      2   1    0    2    0     5   \n",
       "3  CURLEW   Not Bleached  1   0    0    0    0     1   \n",
       "4  LAGOON   Bleached      3   0    3    2    2    10   \n",
       "5  LAGOON   Not Bleached  0   3    0    0    0     3   \n",
       "6  SR30N    Bleached      3   1    2    0    3     9   \n",
       "7  SR30N    Not Bleached  0   1    1    0    0     2   \n",
       "8  Total    Bleached      9   3    8    5    6    31   \n",
       "9  Total    Not Bleached  1   4    1    0    0     6   \n",
       "10 Total    Total        10   7    9    5    6    37   "
      ]
     },
     "metadata": {},
     "output_type": "display_data"
    }
   ],
   "source": [
    "# repeat for immune \n",
    "immune <-clb_summary %>%\n",
    "  filter(`immune_y/n`=='y')\n",
    "      \n",
    "# Count by Transect, Species, and Status\n",
    "summary_tbl <- immune %>%\n",
    "  group_by(Transect, Species, Status) %>%\n",
    "  summarise(n = n(), .groups = \"drop\") %>%\n",
    "  pivot_wider(names_from = Species, values_from = n, values_fill = 0) %>%\n",
    "  mutate(Total = rowSums(across(-c(Transect, Status))))\n",
    "\n",
    "# Add row totals per Status\n",
    "status_totals <- summary_tbl %>%\n",
    "  select(-Transect) %>%\n",
    "  group_by(Status) %>%\n",
    "  summarise(across(everything(), sum)) %>%\n",
    "  mutate(Transect = \"Total\") %>%\n",
    "  select(Transect, everything())\n",
    "\n",
    "# Add grand total row\n",
    "grand_total <- summary_tbl %>%\n",
    "  select(-c(Transect, Status)) %>%\n",
    "  summarise(across(everything(), sum)) %>%\n",
    "  mutate(Transect = \"Total\", Status = \"Total\") %>%\n",
    "  select(Transect, Status, everything())\n",
    "\n",
    "# Combine\n",
    "clb_immunesummary <- bind_rows(summary_tbl, status_totals, grand_total) %>%\n",
    "  arrange(Transect, Status)\n",
    "\n",
    "clb_immunesummary"
   ]
  },
  {
   "cell_type": "code",
   "execution_count": null,
   "id": "ee7342b2-d218-41ca-aff4-fc5cfe09041a",
   "metadata": {},
   "outputs": [],
   "source": [
    "# export \n",
    "write.csv(immune_summarytable, 'tables/immune_summarytable.csv')\n",
    "write.csv(tagged_summarytable, 'tables/tagged_summarytable.csv')\n",
    "write.csv(clb_summarytable, 'tables/clb_taggedsummary.csv')\n",
    "write.csv(clb_immunesummary, 'tables/clb_immunesummary.csv')"
   ]
  }
 ],
 "metadata": {
  "kernelspec": {
   "display_name": "R",
   "language": "R",
   "name": "ir"
  },
  "language_info": {
   "codemirror_mode": "r",
   "file_extension": ".r",
   "mimetype": "text/x-r-source",
   "name": "R",
   "pygments_lexer": "r",
   "version": "4.3.3"
  }
 },
 "nbformat": 4,
 "nbformat_minor": 5
}
