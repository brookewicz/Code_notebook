{
 "cells": [
  {
   "cell_type": "markdown",
   "id": "55f65f78-c62f-49f0-947d-555e16be0c1e",
   "metadata": {},
   "source": [
    "# Sample Summaries  "
   ]
  },
  {
   "cell_type": "markdown",
   "id": "878fa65d-725c-47eb-a5bb-8d76ae3cb3c4",
   "metadata": {},
   "source": [
    "## Tagged Colony Summaries "
   ]
  },
  {
   "cell_type": "code",
   "execution_count": 1,
   "id": "a7976910-f4d8-43d7-8ec8-8d3f467afba3",
   "metadata": {
    "scrolled": true
   },
   "outputs": [
    {
     "name": "stderr",
     "output_type": "stream",
     "text": [
      "\n",
      "Attaching package: ‘dplyr’\n",
      "\n",
      "\n",
      "The following objects are masked from ‘package:stats’:\n",
      "\n",
      "    filter, lag\n",
      "\n",
      "\n",
      "The following objects are masked from ‘package:base’:\n",
      "\n",
      "    intersect, setdiff, setequal, union\n",
      "\n",
      "\n",
      "── \u001b[1mAttaching core tidyverse packages\u001b[22m ──────────────────────── tidyverse 2.0.0 ──\n",
      "\u001b[32m✔\u001b[39m \u001b[34mforcats  \u001b[39m 1.0.0     \u001b[32m✔\u001b[39m \u001b[34mreadr    \u001b[39m 2.1.5\n",
      "\u001b[32m✔\u001b[39m \u001b[34mggplot2  \u001b[39m 3.5.2     \u001b[32m✔\u001b[39m \u001b[34mstringr  \u001b[39m 1.5.1\n",
      "\u001b[32m✔\u001b[39m \u001b[34mlubridate\u001b[39m 1.9.4     \u001b[32m✔\u001b[39m \u001b[34mtibble   \u001b[39m 3.2.1\n",
      "\u001b[32m✔\u001b[39m \u001b[34mpurrr    \u001b[39m 1.0.4     \u001b[32m✔\u001b[39m \u001b[34mtidyr    \u001b[39m 1.3.1\n",
      "── \u001b[1mConflicts\u001b[22m ────────────────────────────────────────── tidyverse_conflicts() ──\n",
      "\u001b[31m✖\u001b[39m \u001b[34mdplyr\u001b[39m::\u001b[32mfilter()\u001b[39m masks \u001b[34mstats\u001b[39m::filter()\n",
      "\u001b[31m✖\u001b[39m \u001b[34mdplyr\u001b[39m::\u001b[32mlag()\u001b[39m    masks \u001b[34mstats\u001b[39m::lag()\n",
      "\u001b[36mℹ\u001b[39m Use the conflicted package (\u001b[3m\u001b[34m<http://conflicted.r-lib.org/>\u001b[39m\u001b[23m) to force all conflicts to become errors\n"
     ]
    }
   ],
   "source": [
    "library(dplyr)\n",
    "library(tidyverse)\n",
    "library(ggplot2)\n",
    "library(tidyr)\n",
    "library(purrr)\n",
    "library(stringr)"
   ]
  },
  {
   "cell_type": "code",
   "execution_count": 2,
   "id": "907c3337-d9ea-40b2-8fe6-37f6d20c6df1",
   "metadata": {},
   "outputs": [
    {
     "name": "stderr",
     "output_type": "stream",
     "text": [
      "\u001b[1m\u001b[22mNew names:\n",
      "\u001b[36m•\u001b[39m `` -> `...1`\n"
     ]
    }
   ],
   "source": [
    "colony <- read_csv(\"/Users/brookesienkiewicz/Documents/sctld/SCTLD_samples/Sample_Data/CBC_ColonyData.csv\", show_col_types = FALSE)"
   ]
  },
  {
   "cell_type": "code",
   "execution_count": 3,
   "id": "a2033809-2d5e-49c0-a998-4c319e85b72a",
   "metadata": {},
   "outputs": [
    {
     "data": {
      "text/html": [
       "<style>\n",
       ".list-inline {list-style: none; margin:0; padding: 0}\n",
       ".list-inline>li {display: inline-block}\n",
       ".list-inline>li:not(:last-child)::after {content: \"\\00b7\"; padding: 0 .5ex}\n",
       "</style>\n",
       "<ol class=list-inline><li>'SSID'</li><li>'PAST'</li><li>'PSTR'</li><li>'MCAV'</li><li>'OANN'</li><li>'ORBI'</li><li>'DLAB'</li><li>'MMEA'</li><li>'OFAV'</li><li>'CNAT'</li></ol>\n"
      ],
      "text/latex": [
       "\\begin{enumerate*}\n",
       "\\item 'SSID'\n",
       "\\item 'PAST'\n",
       "\\item 'PSTR'\n",
       "\\item 'MCAV'\n",
       "\\item 'OANN'\n",
       "\\item 'ORBI'\n",
       "\\item 'DLAB'\n",
       "\\item 'MMEA'\n",
       "\\item 'OFAV'\n",
       "\\item 'CNAT'\n",
       "\\end{enumerate*}\n"
      ],
      "text/markdown": [
       "1. 'SSID'\n",
       "2. 'PAST'\n",
       "3. 'PSTR'\n",
       "4. 'MCAV'\n",
       "5. 'OANN'\n",
       "6. 'ORBI'\n",
       "7. 'DLAB'\n",
       "8. 'MMEA'\n",
       "9. 'OFAV'\n",
       "10. 'CNAT'\n",
       "\n",
       "\n"
      ],
      "text/plain": [
       " [1] \"SSID\" \"PAST\" \"PSTR\" \"MCAV\" \"OANN\" \"ORBI\" \"DLAB\" \"MMEA\" \"OFAV\" \"CNAT\""
      ]
     },
     "metadata": {},
     "output_type": "display_data"
    },
    {
     "data": {
      "text/html": [
       "<style>\n",
       ".list-inline {list-style: none; margin:0; padding: 0}\n",
       ".list-inline>li {display: inline-block}\n",
       ".list-inline>li:not(:last-child)::after {content: \"\\00b7\"; padding: 0 .5ex}\n",
       "</style>\n",
       "<ol class=list-inline><li>'SSID'</li><li>'PAST'</li><li>'PSTR'</li><li>'MCAV'</li><li>'OANN'</li><li>'OFAV'</li><li>'DLAB'</li><li>'MMEA'</li><li>'CNAT'</li></ol>\n"
      ],
      "text/latex": [
       "\\begin{enumerate*}\n",
       "\\item 'SSID'\n",
       "\\item 'PAST'\n",
       "\\item 'PSTR'\n",
       "\\item 'MCAV'\n",
       "\\item 'OANN'\n",
       "\\item 'OFAV'\n",
       "\\item 'DLAB'\n",
       "\\item 'MMEA'\n",
       "\\item 'CNAT'\n",
       "\\end{enumerate*}\n"
      ],
      "text/markdown": [
       "1. 'SSID'\n",
       "2. 'PAST'\n",
       "3. 'PSTR'\n",
       "4. 'MCAV'\n",
       "5. 'OANN'\n",
       "6. 'OFAV'\n",
       "7. 'DLAB'\n",
       "8. 'MMEA'\n",
       "9. 'CNAT'\n",
       "\n",
       "\n"
      ],
      "text/plain": [
       "[1] \"SSID\" \"PAST\" \"PSTR\" \"MCAV\" \"OANN\" \"OFAV\" \"DLAB\" \"MMEA\" \"CNAT\""
      ]
     },
     "metadata": {},
     "output_type": "display_data"
    }
   ],
   "source": [
    "# change orbi rapid colony to ofav for now \n",
    "unique(colony$Species)\n",
    "colony[colony$Species=='ORBI','Species']<- \"OFAV\"\n",
    "unique(colony$Species)"
   ]
  },
  {
   "cell_type": "code",
   "execution_count": 4,
   "id": "249fc231-4149-459a-9571-619ea3ab9fb2",
   "metadata": {},
   "outputs": [
    {
     "data": {
      "text/html": [
       "<table class=\"dataframe\">\n",
       "<caption>A tibble: 7 × 11</caption>\n",
       "<thead>\n",
       "\t<tr><th scope=col>Transect</th><th scope=col>MCAV</th><th scope=col>OANN</th><th scope=col>OFAV</th><th scope=col>PAST</th><th scope=col>PSTR</th><th scope=col>SSID</th><th scope=col>DLAB</th><th scope=col>MMEA</th><th scope=col>CNAT</th><th scope=col>Total</th></tr>\n",
       "\t<tr><th scope=col>&lt;chr&gt;</th><th scope=col>&lt;int&gt;</th><th scope=col>&lt;int&gt;</th><th scope=col>&lt;int&gt;</th><th scope=col>&lt;int&gt;</th><th scope=col>&lt;int&gt;</th><th scope=col>&lt;int&gt;</th><th scope=col>&lt;int&gt;</th><th scope=col>&lt;int&gt;</th><th scope=col>&lt;int&gt;</th><th scope=col>&lt;dbl&gt;</th></tr>\n",
       "</thead>\n",
       "<tbody>\n",
       "\t<tr><td>BB     </td><td> 6</td><td> 7</td><td> 6</td><td> 6</td><td> 6</td><td> 6</td><td>0</td><td> 0</td><td>0</td><td> 37</td></tr>\n",
       "\t<tr><td>CBC30N </td><td> 9</td><td> 2</td><td> 1</td><td> 5</td><td> 7</td><td> 8</td><td>2</td><td> 2</td><td>0</td><td> 36</td></tr>\n",
       "\t<tr><td>CURLEW </td><td> 5</td><td> 1</td><td> 4</td><td> 0</td><td> 5</td><td> 0</td><td>2</td><td> 0</td><td>0</td><td> 17</td></tr>\n",
       "\t<tr><td>HANGMAN</td><td> 5</td><td> 5</td><td> 5</td><td> 5</td><td> 6</td><td> 5</td><td>0</td><td> 0</td><td>0</td><td> 31</td></tr>\n",
       "\t<tr><td>LAGOON </td><td>10</td><td> 2</td><td> 3</td><td> 9</td><td>10</td><td>10</td><td>2</td><td> 5</td><td>0</td><td> 51</td></tr>\n",
       "\t<tr><td>SR30N  </td><td> 7</td><td> 2</td><td> 4</td><td> 6</td><td> 9</td><td>11</td><td>2</td><td> 6</td><td>1</td><td> 48</td></tr>\n",
       "\t<tr><td>Total  </td><td>42</td><td>19</td><td>23</td><td>31</td><td>43</td><td>40</td><td>8</td><td>13</td><td>1</td><td>220</td></tr>\n",
       "</tbody>\n",
       "</table>\n"
      ],
      "text/latex": [
       "A tibble: 7 × 11\n",
       "\\begin{tabular}{lllllllllll}\n",
       " Transect & MCAV & OANN & OFAV & PAST & PSTR & SSID & DLAB & MMEA & CNAT & Total\\\\\n",
       " <chr> & <int> & <int> & <int> & <int> & <int> & <int> & <int> & <int> & <int> & <dbl>\\\\\n",
       "\\hline\n",
       "\t BB      &  6 &  7 &  6 &  6 &  6 &  6 & 0 &  0 & 0 &  37\\\\\n",
       "\t CBC30N  &  9 &  2 &  1 &  5 &  7 &  8 & 2 &  2 & 0 &  36\\\\\n",
       "\t CURLEW  &  5 &  1 &  4 &  0 &  5 &  0 & 2 &  0 & 0 &  17\\\\\n",
       "\t HANGMAN &  5 &  5 &  5 &  5 &  6 &  5 & 0 &  0 & 0 &  31\\\\\n",
       "\t LAGOON  & 10 &  2 &  3 &  9 & 10 & 10 & 2 &  5 & 0 &  51\\\\\n",
       "\t SR30N   &  7 &  2 &  4 &  6 &  9 & 11 & 2 &  6 & 1 &  48\\\\\n",
       "\t Total   & 42 & 19 & 23 & 31 & 43 & 40 & 8 & 13 & 1 & 220\\\\\n",
       "\\end{tabular}\n"
      ],
      "text/markdown": [
       "\n",
       "A tibble: 7 × 11\n",
       "\n",
       "| Transect &lt;chr&gt; | MCAV &lt;int&gt; | OANN &lt;int&gt; | OFAV &lt;int&gt; | PAST &lt;int&gt; | PSTR &lt;int&gt; | SSID &lt;int&gt; | DLAB &lt;int&gt; | MMEA &lt;int&gt; | CNAT &lt;int&gt; | Total &lt;dbl&gt; |\n",
       "|---|---|---|---|---|---|---|---|---|---|---|\n",
       "| BB      |  6 |  7 |  6 |  6 |  6 |  6 | 0 |  0 | 0 |  37 |\n",
       "| CBC30N  |  9 |  2 |  1 |  5 |  7 |  8 | 2 |  2 | 0 |  36 |\n",
       "| CURLEW  |  5 |  1 |  4 |  0 |  5 |  0 | 2 |  0 | 0 |  17 |\n",
       "| HANGMAN |  5 |  5 |  5 |  5 |  6 |  5 | 0 |  0 | 0 |  31 |\n",
       "| LAGOON  | 10 |  2 |  3 |  9 | 10 | 10 | 2 |  5 | 0 |  51 |\n",
       "| SR30N   |  7 |  2 |  4 |  6 |  9 | 11 | 2 |  6 | 1 |  48 |\n",
       "| Total   | 42 | 19 | 23 | 31 | 43 | 40 | 8 | 13 | 1 | 220 |\n",
       "\n"
      ],
      "text/plain": [
       "  Transect MCAV OANN OFAV PAST PSTR SSID DLAB MMEA CNAT Total\n",
       "1 BB        6    7    6    6    6    6   0     0   0     37  \n",
       "2 CBC30N    9    2    1    5    7    8   2     2   0     36  \n",
       "3 CURLEW    5    1    4    0    5    0   2     0   0     17  \n",
       "4 HANGMAN   5    5    5    5    6    5   0     0   0     31  \n",
       "5 LAGOON   10    2    3    9   10   10   2     5   0     51  \n",
       "6 SR30N     7    2    4    6    9   11   2     6   1     48  \n",
       "7 Total    42   19   23   31   43   40   8    13   1    220  "
      ]
     },
     "metadata": {},
     "output_type": "display_data"
    }
   ],
   "source": [
    "# summary of tagged colonies \n",
    "tagged_summarytable<-colony %>%\n",
    "  group_by(Transect, Species) %>%\n",
    "  summarise(n = n(), .groups = \"drop\") %>%\n",
    "  pivot_wider(names_from = Species, values_from = n, values_fill = 0)\n",
    "\n",
    "    # Add row totals\n",
    "    tagged_summarytable <- tagged_summarytable %>%\n",
    "      mutate(Total = rowSums(select(., -Transect)))\n",
    "    \n",
    "    # Add column totals\n",
    "    totals_row <- tagged_summarytable %>%\n",
    "      select(-Transect) %>%\n",
    "      summarise(across(everything(), sum)) %>%\n",
    "      mutate(Transect = \"Total\") %>%\n",
    "      select(Transect, everything())\n",
    "    \n",
    "    # Combine\n",
    "    tagged_summarytable <- bind_rows(tagged_summarytable, totals_row)\n",
    "    tagged_summarytable"
   ]
  },
  {
   "cell_type": "code",
   "execution_count": 5,
   "id": "c4e97527-ed39-400d-9621-f2e03870295d",
   "metadata": {},
   "outputs": [
    {
     "data": {
      "text/html": [
       "<table class=\"dataframe\">\n",
       "<caption>A tibble: 5 × 7</caption>\n",
       "<thead>\n",
       "\t<tr><th scope=col>Transect</th><th scope=col>MCAV</th><th scope=col>OFAV</th><th scope=col>PAST</th><th scope=col>PSTR</th><th scope=col>SSID</th><th scope=col>Total</th></tr>\n",
       "\t<tr><th scope=col>&lt;chr&gt;</th><th scope=col>&lt;int&gt;</th><th scope=col>&lt;int&gt;</th><th scope=col>&lt;int&gt;</th><th scope=col>&lt;int&gt;</th><th scope=col>&lt;int&gt;</th><th scope=col>&lt;dbl&gt;</th></tr>\n",
       "</thead>\n",
       "<tbody>\n",
       "\t<tr><td>CBC30N</td><td> 1</td><td>1</td><td>3</td><td>1</td><td>1</td><td> 7</td></tr>\n",
       "\t<tr><td>CURLEW</td><td> 3</td><td>1</td><td>0</td><td>2</td><td>0</td><td> 6</td></tr>\n",
       "\t<tr><td>LAGOON</td><td> 3</td><td>3</td><td>3</td><td>2</td><td>2</td><td>13</td></tr>\n",
       "\t<tr><td>SR30N </td><td> 3</td><td>2</td><td>3</td><td>0</td><td>3</td><td>11</td></tr>\n",
       "\t<tr><td>Total </td><td>10</td><td>7</td><td>9</td><td>5</td><td>6</td><td>37</td></tr>\n",
       "</tbody>\n",
       "</table>\n"
      ],
      "text/latex": [
       "A tibble: 5 × 7\n",
       "\\begin{tabular}{lllllll}\n",
       " Transect & MCAV & OFAV & PAST & PSTR & SSID & Total\\\\\n",
       " <chr> & <int> & <int> & <int> & <int> & <int> & <dbl>\\\\\n",
       "\\hline\n",
       "\t CBC30N &  1 & 1 & 3 & 1 & 1 &  7\\\\\n",
       "\t CURLEW &  3 & 1 & 0 & 2 & 0 &  6\\\\\n",
       "\t LAGOON &  3 & 3 & 3 & 2 & 2 & 13\\\\\n",
       "\t SR30N  &  3 & 2 & 3 & 0 & 3 & 11\\\\\n",
       "\t Total  & 10 & 7 & 9 & 5 & 6 & 37\\\\\n",
       "\\end{tabular}\n"
      ],
      "text/markdown": [
       "\n",
       "A tibble: 5 × 7\n",
       "\n",
       "| Transect &lt;chr&gt; | MCAV &lt;int&gt; | OFAV &lt;int&gt; | PAST &lt;int&gt; | PSTR &lt;int&gt; | SSID &lt;int&gt; | Total &lt;dbl&gt; |\n",
       "|---|---|---|---|---|---|---|\n",
       "| CBC30N |  1 | 1 | 3 | 1 | 1 |  7 |\n",
       "| CURLEW |  3 | 1 | 0 | 2 | 0 |  6 |\n",
       "| LAGOON |  3 | 3 | 3 | 2 | 2 | 13 |\n",
       "| SR30N  |  3 | 2 | 3 | 0 | 3 | 11 |\n",
       "| Total  | 10 | 7 | 9 | 5 | 6 | 37 |\n",
       "\n"
      ],
      "text/plain": [
       "  Transect MCAV OFAV PAST PSTR SSID Total\n",
       "1 CBC30N    1   1    3    1    1     7   \n",
       "2 CURLEW    3   1    0    2    0     6   \n",
       "3 LAGOON    3   3    3    2    2    13   \n",
       "4 SR30N     3   2    3    0    3    11   \n",
       "5 Total    10   7    9    5    6    37   "
      ]
     },
     "metadata": {},
     "output_type": "display_data"
    }
   ],
   "source": [
    "# summary of immune tagged colonies \n",
    "immune_summarytable<-colony %>%\n",
    "  filter(`immune_y/n`=='y') %>%\n",
    "  group_by(Transect, Species) %>%\n",
    "  summarise(n = n(), .groups = \"drop\") %>%\n",
    "  pivot_wider(names_from = Species, values_from = n, values_fill = 0)\n",
    "\n",
    "    # Add row totals\n",
    "    immune_summarytable <- immune_summarytable %>%\n",
    "      mutate(Total = rowSums(select(., -Transect)))\n",
    "    \n",
    "    # Add column totals\n",
    "    totals_row <- immune_summarytable %>%\n",
    "      select(-Transect) %>%\n",
    "      summarise(across(everything(), sum)) %>%\n",
    "      mutate(Transect = \"Total\") %>%\n",
    "      select(Transect, everything())\n",
    "    \n",
    "    # Combine\n",
    "    immune_summarytable <- bind_rows(immune_summarytable, totals_row)\n",
    "    immune_summarytable"
   ]
  },
  {
   "cell_type": "markdown",
   "id": "235b2349-8893-4cf7-9e15-242332933eeb",
   "metadata": {},
   "source": [
    "### Bleached"
   ]
  },
  {
   "cell_type": "code",
   "execution_count": 6,
   "id": "af1bda73-c094-49aa-acbe-c33dba997e7f",
   "metadata": {},
   "outputs": [
    {
     "data": {
      "text/html": [
       "<style>\n",
       ".list-inline {list-style: none; margin:0; padding: 0}\n",
       ".list-inline>li {display: inline-block}\n",
       ".list-inline>li:not(:last-child)::after {content: \"\\00b7\"; padding: 0 .5ex}\n",
       "</style>\n",
       "<ol class=list-inline><li>'Diseased'</li><li>'Healthy'</li><li>'12/2/22'</li><li>'9/25/23'</li><li>'12/1/24'</li><li>'12/16/23'</li><li>'4/1/24'</li><li>'4/26/24'</li><li>'8/1/24'</li><li>'5/21/22'</li><li>'9/26/23'</li><li>'12/1/22'</li><li>'5/22/22'</li><li>'12/4/22'</li><li>'1/11/24'</li><li>'6/21/24'</li><li>'5/20/22'</li><li>'1/1/24'</li><li>'5/24/23'</li><li>'12/3/22'</li><li>NA</li><li>'Could not find 9/26/23'</li></ol>\n"
      ],
      "text/latex": [
       "\\begin{enumerate*}\n",
       "\\item 'Diseased'\n",
       "\\item 'Healthy'\n",
       "\\item '12/2/22'\n",
       "\\item '9/25/23'\n",
       "\\item '12/1/24'\n",
       "\\item '12/16/23'\n",
       "\\item '4/1/24'\n",
       "\\item '4/26/24'\n",
       "\\item '8/1/24'\n",
       "\\item '5/21/22'\n",
       "\\item '9/26/23'\n",
       "\\item '12/1/22'\n",
       "\\item '5/22/22'\n",
       "\\item '12/4/22'\n",
       "\\item '1/11/24'\n",
       "\\item '6/21/24'\n",
       "\\item '5/20/22'\n",
       "\\item '1/1/24'\n",
       "\\item '5/24/23'\n",
       "\\item '12/3/22'\n",
       "\\item NA\n",
       "\\item 'Could not find 9/26/23'\n",
       "\\end{enumerate*}\n"
      ],
      "text/markdown": [
       "1. 'Diseased'\n",
       "2. 'Healthy'\n",
       "3. '12/2/22'\n",
       "4. '9/25/23'\n",
       "5. '12/1/24'\n",
       "6. '12/16/23'\n",
       "7. '4/1/24'\n",
       "8. '4/26/24'\n",
       "9. '8/1/24'\n",
       "10. '5/21/22'\n",
       "11. '9/26/23'\n",
       "12. '12/1/22'\n",
       "13. '5/22/22'\n",
       "14. '12/4/22'\n",
       "15. '1/11/24'\n",
       "16. '6/21/24'\n",
       "17. '5/20/22'\n",
       "18. '1/1/24'\n",
       "19. '5/24/23'\n",
       "20. '12/3/22'\n",
       "21. NA\n",
       "22. 'Could not find 9/26/23'\n",
       "\n",
       "\n"
      ],
      "text/plain": [
       " [1] \"Diseased\"               \"Healthy\"                \"12/2/22\"               \n",
       " [4] \"9/25/23\"                \"12/1/24\"                \"12/16/23\"              \n",
       " [7] \"4/1/24\"                 \"4/26/24\"                \"8/1/24\"                \n",
       "[10] \"5/21/22\"                \"9/26/23\"                \"12/1/22\"               \n",
       "[13] \"5/22/22\"                \"12/4/22\"                \"1/11/24\"               \n",
       "[16] \"6/21/24\"                \"5/20/22\"                \"1/1/24\"                \n",
       "[19] \"5/24/23\"                \"12/3/22\"                NA                      \n",
       "[22] \"Could not find 9/26/23\""
      ]
     },
     "metadata": {},
     "output_type": "display_data"
    },
    {
     "data": {
      "text/html": [
       "'character'"
      ],
      "text/latex": [
       "'character'"
      ],
      "text/markdown": [
       "'character'"
      ],
      "text/plain": [
       "[1] \"character\""
      ]
     },
     "metadata": {},
     "output_type": "display_data"
    }
   ],
   "source": [
    "# remove colonies that died before bleaching event \n",
    "unique(colony$Date_DocumentedMortality)\n",
    "class(colony$Date_DocumentedMortality)"
   ]
  },
  {
   "cell_type": "code",
   "execution_count": 7,
   "id": "3f9fb8bf-bbce-4230-b0ec-a35364ddfb35",
   "metadata": {},
   "outputs": [
    {
     "data": {
      "text/html": [
       "<table class=\"dataframe\">\n",
       "<caption>A tibble: 1 × 13</caption>\n",
       "<thead>\n",
       "\t<tr><th scope=col>062019_Condition</th><th scope=col>052022_Condition</th><th scope=col>122022_Condition</th><th scope=col>092023_Condition</th><th scope=col>112023_Condition</th><th scope=col>122023_Condition</th><th scope=col>012024_Condition</th><th scope=col>022024_Condition</th><th scope=col>042024_Condition</th><th scope=col>062024_Condition</th><th scope=col>082024_Condition</th><th scope=col>122024_Condition</th><th scope=col>062025_Condition</th></tr>\n",
       "\t<tr><th scope=col>&lt;chr&gt;</th><th scope=col>&lt;chr&gt;</th><th scope=col>&lt;chr&gt;</th><th scope=col>&lt;chr&gt;</th><th scope=col>&lt;chr&gt;</th><th scope=col>&lt;chr&gt;</th><th scope=col>&lt;chr&gt;</th><th scope=col>&lt;chr&gt;</th><th scope=col>&lt;chr&gt;</th><th scope=col>&lt;chr&gt;</th><th scope=col>&lt;chr&gt;</th><th scope=col>&lt;chr&gt;</th><th scope=col>&lt;chr&gt;</th></tr>\n",
       "</thead>\n",
       "<tbody>\n",
       "\t<tr><td>Healthy</td><td>Diseased</td><td>Diseased</td><td>Dead</td><td>Not_Visited</td><td>Not_Visited</td><td>Not_Visited</td><td>Not_Visited</td><td>Not_Visited</td><td>Not_Visited</td><td>Not_Visited</td><td>Not_visited</td><td>Not_visited</td></tr>\n",
       "</tbody>\n",
       "</table>\n"
      ],
      "text/latex": [
       "A tibble: 1 × 13\n",
       "\\begin{tabular}{lllllllllllll}\n",
       " 062019\\_Condition & 052022\\_Condition & 122022\\_Condition & 092023\\_Condition & 112023\\_Condition & 122023\\_Condition & 012024\\_Condition & 022024\\_Condition & 042024\\_Condition & 062024\\_Condition & 082024\\_Condition & 122024\\_Condition & 062025\\_Condition\\\\\n",
       " <chr> & <chr> & <chr> & <chr> & <chr> & <chr> & <chr> & <chr> & <chr> & <chr> & <chr> & <chr> & <chr>\\\\\n",
       "\\hline\n",
       "\t Healthy & Diseased & Diseased & Dead & Not\\_Visited & Not\\_Visited & Not\\_Visited & Not\\_Visited & Not\\_Visited & Not\\_Visited & Not\\_Visited & Not\\_visited & Not\\_visited\\\\\n",
       "\\end{tabular}\n"
      ],
      "text/markdown": [
       "\n",
       "A tibble: 1 × 13\n",
       "\n",
       "| 062019_Condition &lt;chr&gt; | 052022_Condition &lt;chr&gt; | 122022_Condition &lt;chr&gt; | 092023_Condition &lt;chr&gt; | 112023_Condition &lt;chr&gt; | 122023_Condition &lt;chr&gt; | 012024_Condition &lt;chr&gt; | 022024_Condition &lt;chr&gt; | 042024_Condition &lt;chr&gt; | 062024_Condition &lt;chr&gt; | 082024_Condition &lt;chr&gt; | 122024_Condition &lt;chr&gt; | 062025_Condition &lt;chr&gt; |\n",
       "|---|---|---|---|---|---|---|---|---|---|---|---|---|\n",
       "| Healthy | Diseased | Diseased | Dead | Not_Visited | Not_Visited | Not_Visited | Not_Visited | Not_Visited | Not_Visited | Not_Visited | Not_visited | Not_visited |\n",
       "\n"
      ],
      "text/plain": [
       "  062019_Condition 052022_Condition 122022_Condition 092023_Condition\n",
       "1 Healthy          Diseased         Diseased         Dead            \n",
       "  112023_Condition 122023_Condition 012024_Condition 022024_Condition\n",
       "1 Not_Visited      Not_Visited      Not_Visited      Not_Visited     \n",
       "  042024_Condition 062024_Condition 082024_Condition 122024_Condition\n",
       "1 Not_Visited      Not_Visited      Not_Visited      Not_visited     \n",
       "  062025_Condition\n",
       "1 Not_visited     "
      ]
     },
     "metadata": {},
     "output_type": "display_data"
    },
    {
     "data": {
      "text/html": [
       "<table class=\"dataframe\">\n",
       "<caption>A tibble: 11 × 13</caption>\n",
       "<thead>\n",
       "\t<tr><th scope=col>062019_Condition</th><th scope=col>052022_Condition</th><th scope=col>122022_Condition</th><th scope=col>092023_Condition</th><th scope=col>112023_Condition</th><th scope=col>122023_Condition</th><th scope=col>012024_Condition</th><th scope=col>022024_Condition</th><th scope=col>042024_Condition</th><th scope=col>062024_Condition</th><th scope=col>082024_Condition</th><th scope=col>122024_Condition</th><th scope=col>062025_Condition</th></tr>\n",
       "\t<tr><th scope=col>&lt;chr&gt;</th><th scope=col>&lt;chr&gt;</th><th scope=col>&lt;chr&gt;</th><th scope=col>&lt;chr&gt;</th><th scope=col>&lt;chr&gt;</th><th scope=col>&lt;chr&gt;</th><th scope=col>&lt;chr&gt;</th><th scope=col>&lt;chr&gt;</th><th scope=col>&lt;chr&gt;</th><th scope=col>&lt;chr&gt;</th><th scope=col>&lt;chr&gt;</th><th scope=col>&lt;chr&gt;</th><th scope=col>&lt;chr&gt;</th></tr>\n",
       "</thead>\n",
       "<tbody>\n",
       "\t<tr><td>Healthy</td><td>Healthy </td><td>Diseased</td><td>Dead</td><td>Not_Visited</td><td>Not_Visited</td><td>Not_Visited</td><td>Not_Visited</td><td>Not_Visited</td><td>Not_Visited</td><td>Not_Visited</td><td>Healthy    </td><td>NA         </td></tr>\n",
       "\t<tr><td>Healthy</td><td>Diseased</td><td>Diseased</td><td>Dead</td><td>Not_Visited</td><td>Not_Visited</td><td>Not_Visited</td><td>Not_Visited</td><td>Dead       </td><td>Not_Visited</td><td>Not_Visited</td><td>Not_visited</td><td>NA         </td></tr>\n",
       "\t<tr><td>Healthy</td><td>Diseased</td><td>Diseased</td><td>Dead</td><td>Not_Visited</td><td>Not_Visited</td><td>Not_Visited</td><td>Not_Visited</td><td>Not_Visited</td><td>Not_Visited</td><td>Not_Visited</td><td>Not_visited</td><td>NA         </td></tr>\n",
       "\t<tr><td>NA     </td><td>NA      </td><td>Diseased</td><td>Dead</td><td>Not_Visited</td><td>Not_Visited</td><td>Not_Visited</td><td>Not_Visited</td><td>Not_Visited</td><td>Not_Visited</td><td>Not_Visited</td><td>Not_visited</td><td>NA         </td></tr>\n",
       "\t<tr><td>Healthy</td><td>Healthy </td><td>Healthy </td><td>Dead</td><td>Not_Visited</td><td>Not_Visited</td><td>Not_Visited</td><td>Not_Visited</td><td>Not_Visited</td><td>Not_Visited</td><td>Not_Visited</td><td>Not_visited</td><td>NA         </td></tr>\n",
       "\t<tr><td>NA     </td><td>NA      </td><td>Diseased</td><td>Dead</td><td>Not_Visited</td><td>Not_Visited</td><td>Not_Visited</td><td>Not_Visited</td><td>Not_Visited</td><td>Not_Visited</td><td>Not_Visited</td><td>Not_visited</td><td>Not_visited</td></tr>\n",
       "\t<tr><td>NA     </td><td>NA      </td><td>Healthy </td><td>Dead</td><td>Not_Visited</td><td>Not_Visited</td><td>Not_Visited</td><td>Not_Visited</td><td>Not_Visited</td><td>Not_Visited</td><td>Not_Visited</td><td>Not_visited</td><td>Not_visited</td></tr>\n",
       "\t<tr><td>NA     </td><td>NA      </td><td>Healthy </td><td>Dead</td><td>Not_Visited</td><td>Not_Visited</td><td>Not_Visited</td><td>Not_Visited</td><td>Not_Visited</td><td>Not_Visited</td><td>Not_Visited</td><td>Not_visited</td><td>NA         </td></tr>\n",
       "\t<tr><td>NA     </td><td>NA      </td><td>Diseased</td><td>Dead</td><td>Not_Visited</td><td>Not_Visited</td><td>Not_Visited</td><td>Not_Visited</td><td>Not_Visited</td><td>Not_visited</td><td>Not_Visited</td><td>Not_visited</td><td>NA         </td></tr>\n",
       "\t<tr><td>NA     </td><td>NA      </td><td>Diseased</td><td>Dead</td><td>Not_Visited</td><td>Not_Visited</td><td>Not_Visited</td><td>Not_Visited</td><td>Not_Visited</td><td>Not_visited</td><td>Not_Visited</td><td>Not_visited</td><td>NA         </td></tr>\n",
       "\t<tr><td>NA     </td><td>NA      </td><td>Diseased</td><td>Dead</td><td>Not_Visited</td><td>Not_Visited</td><td>Not_Visited</td><td>Not_Visited</td><td>Not_Visited</td><td>Not_visited</td><td>Not_Visited</td><td>Not_visited</td><td>NA         </td></tr>\n",
       "</tbody>\n",
       "</table>\n"
      ],
      "text/latex": [
       "A tibble: 11 × 13\n",
       "\\begin{tabular}{lllllllllllll}\n",
       " 062019\\_Condition & 052022\\_Condition & 122022\\_Condition & 092023\\_Condition & 112023\\_Condition & 122023\\_Condition & 012024\\_Condition & 022024\\_Condition & 042024\\_Condition & 062024\\_Condition & 082024\\_Condition & 122024\\_Condition & 062025\\_Condition\\\\\n",
       " <chr> & <chr> & <chr> & <chr> & <chr> & <chr> & <chr> & <chr> & <chr> & <chr> & <chr> & <chr> & <chr>\\\\\n",
       "\\hline\n",
       "\t Healthy & Healthy  & Diseased & Dead & Not\\_Visited & Not\\_Visited & Not\\_Visited & Not\\_Visited & Not\\_Visited & Not\\_Visited & Not\\_Visited & Healthy     & NA         \\\\\n",
       "\t Healthy & Diseased & Diseased & Dead & Not\\_Visited & Not\\_Visited & Not\\_Visited & Not\\_Visited & Dead        & Not\\_Visited & Not\\_Visited & Not\\_visited & NA         \\\\\n",
       "\t Healthy & Diseased & Diseased & Dead & Not\\_Visited & Not\\_Visited & Not\\_Visited & Not\\_Visited & Not\\_Visited & Not\\_Visited & Not\\_Visited & Not\\_visited & NA         \\\\\n",
       "\t NA      & NA       & Diseased & Dead & Not\\_Visited & Not\\_Visited & Not\\_Visited & Not\\_Visited & Not\\_Visited & Not\\_Visited & Not\\_Visited & Not\\_visited & NA         \\\\\n",
       "\t Healthy & Healthy  & Healthy  & Dead & Not\\_Visited & Not\\_Visited & Not\\_Visited & Not\\_Visited & Not\\_Visited & Not\\_Visited & Not\\_Visited & Not\\_visited & NA         \\\\\n",
       "\t NA      & NA       & Diseased & Dead & Not\\_Visited & Not\\_Visited & Not\\_Visited & Not\\_Visited & Not\\_Visited & Not\\_Visited & Not\\_Visited & Not\\_visited & Not\\_visited\\\\\n",
       "\t NA      & NA       & Healthy  & Dead & Not\\_Visited & Not\\_Visited & Not\\_Visited & Not\\_Visited & Not\\_Visited & Not\\_Visited & Not\\_Visited & Not\\_visited & Not\\_visited\\\\\n",
       "\t NA      & NA       & Healthy  & Dead & Not\\_Visited & Not\\_Visited & Not\\_Visited & Not\\_Visited & Not\\_Visited & Not\\_Visited & Not\\_Visited & Not\\_visited & NA         \\\\\n",
       "\t NA      & NA       & Diseased & Dead & Not\\_Visited & Not\\_Visited & Not\\_Visited & Not\\_Visited & Not\\_Visited & Not\\_visited & Not\\_Visited & Not\\_visited & NA         \\\\\n",
       "\t NA      & NA       & Diseased & Dead & Not\\_Visited & Not\\_Visited & Not\\_Visited & Not\\_Visited & Not\\_Visited & Not\\_visited & Not\\_Visited & Not\\_visited & NA         \\\\\n",
       "\t NA      & NA       & Diseased & Dead & Not\\_Visited & Not\\_Visited & Not\\_Visited & Not\\_Visited & Not\\_Visited & Not\\_visited & Not\\_Visited & Not\\_visited & NA         \\\\\n",
       "\\end{tabular}\n"
      ],
      "text/markdown": [
       "\n",
       "A tibble: 11 × 13\n",
       "\n",
       "| 062019_Condition &lt;chr&gt; | 052022_Condition &lt;chr&gt; | 122022_Condition &lt;chr&gt; | 092023_Condition &lt;chr&gt; | 112023_Condition &lt;chr&gt; | 122023_Condition &lt;chr&gt; | 012024_Condition &lt;chr&gt; | 022024_Condition &lt;chr&gt; | 042024_Condition &lt;chr&gt; | 062024_Condition &lt;chr&gt; | 082024_Condition &lt;chr&gt; | 122024_Condition &lt;chr&gt; | 062025_Condition &lt;chr&gt; |\n",
       "|---|---|---|---|---|---|---|---|---|---|---|---|---|\n",
       "| Healthy | Healthy  | Diseased | Dead | Not_Visited | Not_Visited | Not_Visited | Not_Visited | Not_Visited | Not_Visited | Not_Visited | Healthy     | NA          |\n",
       "| Healthy | Diseased | Diseased | Dead | Not_Visited | Not_Visited | Not_Visited | Not_Visited | Dead        | Not_Visited | Not_Visited | Not_visited | NA          |\n",
       "| Healthy | Diseased | Diseased | Dead | Not_Visited | Not_Visited | Not_Visited | Not_Visited | Not_Visited | Not_Visited | Not_Visited | Not_visited | NA          |\n",
       "| NA      | NA       | Diseased | Dead | Not_Visited | Not_Visited | Not_Visited | Not_Visited | Not_Visited | Not_Visited | Not_Visited | Not_visited | NA          |\n",
       "| Healthy | Healthy  | Healthy  | Dead | Not_Visited | Not_Visited | Not_Visited | Not_Visited | Not_Visited | Not_Visited | Not_Visited | Not_visited | NA          |\n",
       "| NA      | NA       | Diseased | Dead | Not_Visited | Not_Visited | Not_Visited | Not_Visited | Not_Visited | Not_Visited | Not_Visited | Not_visited | Not_visited |\n",
       "| NA      | NA       | Healthy  | Dead | Not_Visited | Not_Visited | Not_Visited | Not_Visited | Not_Visited | Not_Visited | Not_Visited | Not_visited | Not_visited |\n",
       "| NA      | NA       | Healthy  | Dead | Not_Visited | Not_Visited | Not_Visited | Not_Visited | Not_Visited | Not_Visited | Not_Visited | Not_visited | NA          |\n",
       "| NA      | NA       | Diseased | Dead | Not_Visited | Not_Visited | Not_Visited | Not_Visited | Not_Visited | Not_visited | Not_Visited | Not_visited | NA          |\n",
       "| NA      | NA       | Diseased | Dead | Not_Visited | Not_Visited | Not_Visited | Not_Visited | Not_Visited | Not_visited | Not_Visited | Not_visited | NA          |\n",
       "| NA      | NA       | Diseased | Dead | Not_Visited | Not_Visited | Not_Visited | Not_Visited | Not_Visited | Not_visited | Not_Visited | Not_visited | NA          |\n",
       "\n"
      ],
      "text/plain": [
       "   062019_Condition 052022_Condition 122022_Condition 092023_Condition\n",
       "1  Healthy          Healthy          Diseased         Dead            \n",
       "2  Healthy          Diseased         Diseased         Dead            \n",
       "3  Healthy          Diseased         Diseased         Dead            \n",
       "4  NA               NA               Diseased         Dead            \n",
       "5  Healthy          Healthy          Healthy          Dead            \n",
       "6  NA               NA               Diseased         Dead            \n",
       "7  NA               NA               Healthy          Dead            \n",
       "8  NA               NA               Healthy          Dead            \n",
       "9  NA               NA               Diseased         Dead            \n",
       "10 NA               NA               Diseased         Dead            \n",
       "11 NA               NA               Diseased         Dead            \n",
       "   112023_Condition 122023_Condition 012024_Condition 022024_Condition\n",
       "1  Not_Visited      Not_Visited      Not_Visited      Not_Visited     \n",
       "2  Not_Visited      Not_Visited      Not_Visited      Not_Visited     \n",
       "3  Not_Visited      Not_Visited      Not_Visited      Not_Visited     \n",
       "4  Not_Visited      Not_Visited      Not_Visited      Not_Visited     \n",
       "5  Not_Visited      Not_Visited      Not_Visited      Not_Visited     \n",
       "6  Not_Visited      Not_Visited      Not_Visited      Not_Visited     \n",
       "7  Not_Visited      Not_Visited      Not_Visited      Not_Visited     \n",
       "8  Not_Visited      Not_Visited      Not_Visited      Not_Visited     \n",
       "9  Not_Visited      Not_Visited      Not_Visited      Not_Visited     \n",
       "10 Not_Visited      Not_Visited      Not_Visited      Not_Visited     \n",
       "11 Not_Visited      Not_Visited      Not_Visited      Not_Visited     \n",
       "   042024_Condition 062024_Condition 082024_Condition 122024_Condition\n",
       "1  Not_Visited      Not_Visited      Not_Visited      Healthy         \n",
       "2  Dead             Not_Visited      Not_Visited      Not_visited     \n",
       "3  Not_Visited      Not_Visited      Not_Visited      Not_visited     \n",
       "4  Not_Visited      Not_Visited      Not_Visited      Not_visited     \n",
       "5  Not_Visited      Not_Visited      Not_Visited      Not_visited     \n",
       "6  Not_Visited      Not_Visited      Not_Visited      Not_visited     \n",
       "7  Not_Visited      Not_Visited      Not_Visited      Not_visited     \n",
       "8  Not_Visited      Not_Visited      Not_Visited      Not_visited     \n",
       "9  Not_Visited      Not_visited      Not_Visited      Not_visited     \n",
       "10 Not_Visited      Not_visited      Not_Visited      Not_visited     \n",
       "11 Not_Visited      Not_visited      Not_Visited      Not_visited     \n",
       "   062025_Condition\n",
       "1  NA              \n",
       "2  NA              \n",
       "3  NA              \n",
       "4  NA              \n",
       "5  NA              \n",
       "6  Not_visited     \n",
       "7  Not_visited     \n",
       "8  NA              \n",
       "9  NA              \n",
       "10 NA              \n",
       "11 NA              "
      ]
     },
     "metadata": {},
     "output_type": "display_data"
    }
   ],
   "source": [
    "# viewing colonies that died in/around 9/2023\n",
    "colony %>% \n",
    "    filter(Date_DocumentedMortality=='5/24/23') %>%\n",
    "    select(contains(\"Condition\"))\n",
    "colony %>% \n",
    "    filter(str_detect(Date_DocumentedMortality, \"^9/.*/23$\")) %>%\n",
    "    select(contains(\"Condition\"))\n",
    "\n",
    "# do i include dead colonies in 9/23? no? "
   ]
  },
  {
   "cell_type": "code",
   "execution_count": 8,
   "id": "36f44573-25e2-4c68-a133-ebd92822cb05",
   "metadata": {},
   "outputs": [
    {
     "data": {
      "text/html": [
       "<style>\n",
       ".list-inline {list-style: none; margin:0; padding: 0}\n",
       ".list-inline>li {display: inline-block}\n",
       ".list-inline>li:not(:last-child)::after {content: \"\\00b7\"; padding: 0 .5ex}\n",
       "</style>\n",
       "<ol class=list-inline><li>'Diseased'</li><li>'Healthy'</li><li>'12/1/24'</li><li>'12/16/23'</li><li>'4/1/24'</li><li>'4/26/24'</li><li>'8/1/24'</li><li>'1/11/24'</li><li>'6/21/24'</li><li>'1/1/24'</li></ol>\n"
      ],
      "text/latex": [
       "\\begin{enumerate*}\n",
       "\\item 'Diseased'\n",
       "\\item 'Healthy'\n",
       "\\item '12/1/24'\n",
       "\\item '12/16/23'\n",
       "\\item '4/1/24'\n",
       "\\item '4/26/24'\n",
       "\\item '8/1/24'\n",
       "\\item '1/11/24'\n",
       "\\item '6/21/24'\n",
       "\\item '1/1/24'\n",
       "\\end{enumerate*}\n"
      ],
      "text/markdown": [
       "1. 'Diseased'\n",
       "2. 'Healthy'\n",
       "3. '12/1/24'\n",
       "4. '12/16/23'\n",
       "5. '4/1/24'\n",
       "6. '4/26/24'\n",
       "7. '8/1/24'\n",
       "8. '1/11/24'\n",
       "9. '6/21/24'\n",
       "10. '1/1/24'\n",
       "\n",
       "\n"
      ],
      "text/plain": [
       " [1] \"Diseased\" \"Healthy\"  \"12/1/24\"  \"12/16/23\" \"4/1/24\"   \"4/26/24\" \n",
       " [7] \"8/1/24\"   \"1/11/24\"  \"6/21/24\"  \"1/1/24\"  "
      ]
     },
     "metadata": {},
     "output_type": "display_data"
    }
   ],
   "source": [
    "clb_colony<-colony %>%\n",
    "    # remove colonies that died in 2022 and 9/23\n",
    "  filter(\n",
    "    !str_detect(Date_DocumentedMortality, \"/22\") &\n",
    "    !str_detect(Date_DocumentedMortality, \"9/.*/23\") &\n",
    "    !str_detect(Date_DocumentedMortality, \"5/.*/23\")\n",
    "  )\n",
    "     \n",
    "unique(clb_colony$Date_DocumentedMortality)"
   ]
  },
  {
   "cell_type": "code",
   "execution_count": 9,
   "id": "aba85283-3726-47d8-ac0b-29914af18a44",
   "metadata": {},
   "outputs": [
    {
     "data": {
      "text/html": [
       "<table class=\"dataframe\">\n",
       "<caption>A tibble: 15 × 11</caption>\n",
       "<thead>\n",
       "\t<tr><th scope=col>Transect</th><th scope=col>Status</th><th scope=col>MCAV</th><th scope=col>OANN</th><th scope=col>OFAV</th><th scope=col>PAST</th><th scope=col>PSTR</th><th scope=col>SSID</th><th scope=col>DLAB</th><th scope=col>CNAT</th><th scope=col>Total</th></tr>\n",
       "\t<tr><th scope=col>&lt;chr&gt;</th><th scope=col>&lt;chr&gt;</th><th scope=col>&lt;int&gt;</th><th scope=col>&lt;int&gt;</th><th scope=col>&lt;int&gt;</th><th scope=col>&lt;int&gt;</th><th scope=col>&lt;int&gt;</th><th scope=col>&lt;int&gt;</th><th scope=col>&lt;int&gt;</th><th scope=col>&lt;int&gt;</th><th scope=col>&lt;dbl&gt;</th></tr>\n",
       "</thead>\n",
       "<tbody>\n",
       "\t<tr><td>BB     </td><td>Bleached    </td><td> 4</td><td> 7</td><td> 6</td><td> 6</td><td> 4</td><td> 0</td><td>0</td><td>0</td><td> 27</td></tr>\n",
       "\t<tr><td>BB     </td><td>Not Bleached</td><td> 2</td><td> 0</td><td> 0</td><td> 0</td><td> 2</td><td> 6</td><td>0</td><td>0</td><td> 10</td></tr>\n",
       "\t<tr><td>CBC30N </td><td>Bleached    </td><td> 2</td><td> 2</td><td> 1</td><td> 5</td><td> 1</td><td> 2</td><td>1</td><td>0</td><td> 14</td></tr>\n",
       "\t<tr><td>CBC30N </td><td>Not Bleached</td><td> 0</td><td> 0</td><td> 0</td><td> 0</td><td> 0</td><td> 5</td><td>1</td><td>0</td><td>  6</td></tr>\n",
       "\t<tr><td>CURLEW </td><td>Bleached    </td><td> 2</td><td> 0</td><td> 2</td><td> 0</td><td> 2</td><td> 0</td><td>1</td><td>0</td><td>  7</td></tr>\n",
       "\t<tr><td>CURLEW </td><td>Not Bleached</td><td> 1</td><td> 1</td><td> 2</td><td> 0</td><td> 0</td><td> 0</td><td>1</td><td>0</td><td>  5</td></tr>\n",
       "\t<tr><td>HANGMAN</td><td>Bleached    </td><td> 3</td><td> 4</td><td> 3</td><td> 1</td><td> 6</td><td> 1</td><td>0</td><td>0</td><td> 18</td></tr>\n",
       "\t<tr><td>HANGMAN</td><td>Not Bleached</td><td> 2</td><td> 1</td><td> 2</td><td> 4</td><td> 0</td><td> 4</td><td>0</td><td>0</td><td> 13</td></tr>\n",
       "\t<tr><td>LAGOON </td><td>Bleached    </td><td> 3</td><td> 2</td><td> 0</td><td> 7</td><td> 4</td><td> 3</td><td>2</td><td>0</td><td> 21</td></tr>\n",
       "\t<tr><td>LAGOON </td><td>Not Bleached</td><td> 1</td><td> 0</td><td> 2</td><td> 0</td><td> 0</td><td> 5</td><td>0</td><td>0</td><td>  8</td></tr>\n",
       "\t<tr><td>SR30N  </td><td>Bleached    </td><td> 4</td><td> 2</td><td> 3</td><td> 2</td><td> 2</td><td> 9</td><td>1</td><td>1</td><td> 24</td></tr>\n",
       "\t<tr><td>SR30N  </td><td>Not Bleached</td><td> 1</td><td> 0</td><td> 1</td><td> 3</td><td> 0</td><td> 0</td><td>1</td><td>0</td><td>  6</td></tr>\n",
       "\t<tr><td>Total  </td><td>Bleached    </td><td>18</td><td>17</td><td>15</td><td>21</td><td>19</td><td>15</td><td>5</td><td>1</td><td>111</td></tr>\n",
       "\t<tr><td>Total  </td><td>Not Bleached</td><td> 7</td><td> 2</td><td> 7</td><td> 7</td><td> 2</td><td>20</td><td>3</td><td>0</td><td> 48</td></tr>\n",
       "\t<tr><td>Total  </td><td>Total       </td><td>25</td><td>19</td><td>22</td><td>28</td><td>21</td><td>35</td><td>8</td><td>1</td><td>159</td></tr>\n",
       "</tbody>\n",
       "</table>\n"
      ],
      "text/latex": [
       "A tibble: 15 × 11\n",
       "\\begin{tabular}{lllllllllll}\n",
       " Transect & Status & MCAV & OANN & OFAV & PAST & PSTR & SSID & DLAB & CNAT & Total\\\\\n",
       " <chr> & <chr> & <int> & <int> & <int> & <int> & <int> & <int> & <int> & <int> & <dbl>\\\\\n",
       "\\hline\n",
       "\t BB      & Bleached     &  4 &  7 &  6 &  6 &  4 &  0 & 0 & 0 &  27\\\\\n",
       "\t BB      & Not Bleached &  2 &  0 &  0 &  0 &  2 &  6 & 0 & 0 &  10\\\\\n",
       "\t CBC30N  & Bleached     &  2 &  2 &  1 &  5 &  1 &  2 & 1 & 0 &  14\\\\\n",
       "\t CBC30N  & Not Bleached &  0 &  0 &  0 &  0 &  0 &  5 & 1 & 0 &   6\\\\\n",
       "\t CURLEW  & Bleached     &  2 &  0 &  2 &  0 &  2 &  0 & 1 & 0 &   7\\\\\n",
       "\t CURLEW  & Not Bleached &  1 &  1 &  2 &  0 &  0 &  0 & 1 & 0 &   5\\\\\n",
       "\t HANGMAN & Bleached     &  3 &  4 &  3 &  1 &  6 &  1 & 0 & 0 &  18\\\\\n",
       "\t HANGMAN & Not Bleached &  2 &  1 &  2 &  4 &  0 &  4 & 0 & 0 &  13\\\\\n",
       "\t LAGOON  & Bleached     &  3 &  2 &  0 &  7 &  4 &  3 & 2 & 0 &  21\\\\\n",
       "\t LAGOON  & Not Bleached &  1 &  0 &  2 &  0 &  0 &  5 & 0 & 0 &   8\\\\\n",
       "\t SR30N   & Bleached     &  4 &  2 &  3 &  2 &  2 &  9 & 1 & 1 &  24\\\\\n",
       "\t SR30N   & Not Bleached &  1 &  0 &  1 &  3 &  0 &  0 & 1 & 0 &   6\\\\\n",
       "\t Total   & Bleached     & 18 & 17 & 15 & 21 & 19 & 15 & 5 & 1 & 111\\\\\n",
       "\t Total   & Not Bleached &  7 &  2 &  7 &  7 &  2 & 20 & 3 & 0 &  48\\\\\n",
       "\t Total   & Total        & 25 & 19 & 22 & 28 & 21 & 35 & 8 & 1 & 159\\\\\n",
       "\\end{tabular}\n"
      ],
      "text/markdown": [
       "\n",
       "A tibble: 15 × 11\n",
       "\n",
       "| Transect &lt;chr&gt; | Status &lt;chr&gt; | MCAV &lt;int&gt; | OANN &lt;int&gt; | OFAV &lt;int&gt; | PAST &lt;int&gt; | PSTR &lt;int&gt; | SSID &lt;int&gt; | DLAB &lt;int&gt; | CNAT &lt;int&gt; | Total &lt;dbl&gt; |\n",
       "|---|---|---|---|---|---|---|---|---|---|---|\n",
       "| BB      | Bleached     |  4 |  7 |  6 |  6 |  4 |  0 | 0 | 0 |  27 |\n",
       "| BB      | Not Bleached |  2 |  0 |  0 |  0 |  2 |  6 | 0 | 0 |  10 |\n",
       "| CBC30N  | Bleached     |  2 |  2 |  1 |  5 |  1 |  2 | 1 | 0 |  14 |\n",
       "| CBC30N  | Not Bleached |  0 |  0 |  0 |  0 |  0 |  5 | 1 | 0 |   6 |\n",
       "| CURLEW  | Bleached     |  2 |  0 |  2 |  0 |  2 |  0 | 1 | 0 |   7 |\n",
       "| CURLEW  | Not Bleached |  1 |  1 |  2 |  0 |  0 |  0 | 1 | 0 |   5 |\n",
       "| HANGMAN | Bleached     |  3 |  4 |  3 |  1 |  6 |  1 | 0 | 0 |  18 |\n",
       "| HANGMAN | Not Bleached |  2 |  1 |  2 |  4 |  0 |  4 | 0 | 0 |  13 |\n",
       "| LAGOON  | Bleached     |  3 |  2 |  0 |  7 |  4 |  3 | 2 | 0 |  21 |\n",
       "| LAGOON  | Not Bleached |  1 |  0 |  2 |  0 |  0 |  5 | 0 | 0 |   8 |\n",
       "| SR30N   | Bleached     |  4 |  2 |  3 |  2 |  2 |  9 | 1 | 1 |  24 |\n",
       "| SR30N   | Not Bleached |  1 |  0 |  1 |  3 |  0 |  0 | 1 | 0 |   6 |\n",
       "| Total   | Bleached     | 18 | 17 | 15 | 21 | 19 | 15 | 5 | 1 | 111 |\n",
       "| Total   | Not Bleached |  7 |  2 |  7 |  7 |  2 | 20 | 3 | 0 |  48 |\n",
       "| Total   | Total        | 25 | 19 | 22 | 28 | 21 | 35 | 8 | 1 | 159 |\n",
       "\n"
      ],
      "text/plain": [
       "   Transect Status       MCAV OANN OFAV PAST PSTR SSID DLAB CNAT Total\n",
       "1  BB       Bleached      4    7    6    6    4    0   0    0     27  \n",
       "2  BB       Not Bleached  2    0    0    0    2    6   0    0     10  \n",
       "3  CBC30N   Bleached      2    2    1    5    1    2   1    0     14  \n",
       "4  CBC30N   Not Bleached  0    0    0    0    0    5   1    0      6  \n",
       "5  CURLEW   Bleached      2    0    2    0    2    0   1    0      7  \n",
       "6  CURLEW   Not Bleached  1    1    2    0    0    0   1    0      5  \n",
       "7  HANGMAN  Bleached      3    4    3    1    6    1   0    0     18  \n",
       "8  HANGMAN  Not Bleached  2    1    2    4    0    4   0    0     13  \n",
       "9  LAGOON   Bleached      3    2    0    7    4    3   2    0     21  \n",
       "10 LAGOON   Not Bleached  1    0    2    0    0    5   0    0      8  \n",
       "11 SR30N    Bleached      4    2    3    2    2    9   1    1     24  \n",
       "12 SR30N    Not Bleached  1    0    1    3    0    0   1    0      6  \n",
       "13 Total    Bleached     18   17   15   21   19   15   5    1    111  \n",
       "14 Total    Not Bleached  7    2    7    7    2   20   3    0     48  \n",
       "15 Total    Total        25   19   22   28   21   35   8    1    159  "
      ]
     },
     "metadata": {},
     "output_type": "display_data"
    }
   ],
   "source": [
    "# Add bleach status column\n",
    "clb_summary <- clb_colony %>%\n",
    "  mutate(\n",
    "    clb_y_n = if_any(everything(), ~ str_detect(., \"CLB|CLP\")),\n",
    "    Status = case_when(\n",
    "    clb_y_n ~ \"Bleached\",\n",
    "    is.na(clb_y_n) ~ \"Not Bleached\", \n",
    "    TRUE ~ \"Not Bleached\"\n",
    "    ))\n",
    "      \n",
    "# Count by Transect, Species, and Status\n",
    "summary_tbl <- clb_summary %>%\n",
    "  group_by(Transect, Species, Status) %>%\n",
    "  summarise(n = n(), .groups = \"drop\") %>%\n",
    "  pivot_wider(names_from = Species, values_from = n, values_fill = 0) %>%\n",
    "  mutate(Total = rowSums(across(-c(Transect, Status))))\n",
    "\n",
    "# Add row totals per Status\n",
    "status_totals <- summary_tbl %>%\n",
    "  select(-Transect) %>%\n",
    "  group_by(Status) %>%\n",
    "  summarise(across(everything(), sum)) %>%\n",
    "  mutate(Transect = \"Total\") %>%\n",
    "  select(Transect, everything())\n",
    "\n",
    "# Add grand total row\n",
    "grand_total <- summary_tbl %>%\n",
    "  select(-c(Transect, Status)) %>%\n",
    "  summarise(across(everything(), sum)) %>%\n",
    "  mutate(Transect = \"Total\", Status = \"Total\") %>%\n",
    "  select(Transect, Status, everything())\n",
    "\n",
    "# Combine\n",
    "clb_summarytable <- bind_rows(summary_tbl, status_totals, grand_total) %>%\n",
    "  arrange(Transect, Status)\n",
    "\n",
    "clb_summarytable"
   ]
  },
  {
   "cell_type": "code",
   "execution_count": 10,
   "id": "b04d85e6-41f2-478d-a8dd-cc787a016184",
   "metadata": {},
   "outputs": [
    {
     "data": {
      "text/html": [
       "<table class=\"dataframe\">\n",
       "<caption>A tibble: 10 × 8</caption>\n",
       "<thead>\n",
       "\t<tr><th scope=col>Transect</th><th scope=col>Status</th><th scope=col>MCAV</th><th scope=col>OFAV</th><th scope=col>PAST</th><th scope=col>PSTR</th><th scope=col>SSID</th><th scope=col>Total</th></tr>\n",
       "\t<tr><th scope=col>&lt;chr&gt;</th><th scope=col>&lt;chr&gt;</th><th scope=col>&lt;int&gt;</th><th scope=col>&lt;int&gt;</th><th scope=col>&lt;int&gt;</th><th scope=col>&lt;int&gt;</th><th scope=col>&lt;int&gt;</th><th scope=col>&lt;dbl&gt;</th></tr>\n",
       "</thead>\n",
       "<tbody>\n",
       "\t<tr><td>CBC30N</td><td>Bleached    </td><td> 1</td><td>1</td><td>3</td><td>1</td><td>1</td><td> 7</td></tr>\n",
       "\t<tr><td>CURLEW</td><td>Bleached    </td><td> 2</td><td>1</td><td>0</td><td>2</td><td>0</td><td> 5</td></tr>\n",
       "\t<tr><td>CURLEW</td><td>Not Bleached</td><td> 1</td><td>0</td><td>0</td><td>0</td><td>0</td><td> 1</td></tr>\n",
       "\t<tr><td>LAGOON</td><td>Bleached    </td><td> 3</td><td>0</td><td>3</td><td>2</td><td>2</td><td>10</td></tr>\n",
       "\t<tr><td>LAGOON</td><td>Not Bleached</td><td> 0</td><td>2</td><td>0</td><td>0</td><td>0</td><td> 2</td></tr>\n",
       "\t<tr><td>SR30N </td><td>Bleached    </td><td> 3</td><td>1</td><td>2</td><td>0</td><td>3</td><td> 9</td></tr>\n",
       "\t<tr><td>SR30N </td><td>Not Bleached</td><td> 0</td><td>1</td><td>1</td><td>0</td><td>0</td><td> 2</td></tr>\n",
       "\t<tr><td>Total </td><td>Bleached    </td><td> 9</td><td>3</td><td>8</td><td>5</td><td>6</td><td>31</td></tr>\n",
       "\t<tr><td>Total </td><td>Not Bleached</td><td> 1</td><td>3</td><td>1</td><td>0</td><td>0</td><td> 5</td></tr>\n",
       "\t<tr><td>Total </td><td>Total       </td><td>10</td><td>6</td><td>9</td><td>5</td><td>6</td><td>36</td></tr>\n",
       "</tbody>\n",
       "</table>\n"
      ],
      "text/latex": [
       "A tibble: 10 × 8\n",
       "\\begin{tabular}{llllllll}\n",
       " Transect & Status & MCAV & OFAV & PAST & PSTR & SSID & Total\\\\\n",
       " <chr> & <chr> & <int> & <int> & <int> & <int> & <int> & <dbl>\\\\\n",
       "\\hline\n",
       "\t CBC30N & Bleached     &  1 & 1 & 3 & 1 & 1 &  7\\\\\n",
       "\t CURLEW & Bleached     &  2 & 1 & 0 & 2 & 0 &  5\\\\\n",
       "\t CURLEW & Not Bleached &  1 & 0 & 0 & 0 & 0 &  1\\\\\n",
       "\t LAGOON & Bleached     &  3 & 0 & 3 & 2 & 2 & 10\\\\\n",
       "\t LAGOON & Not Bleached &  0 & 2 & 0 & 0 & 0 &  2\\\\\n",
       "\t SR30N  & Bleached     &  3 & 1 & 2 & 0 & 3 &  9\\\\\n",
       "\t SR30N  & Not Bleached &  0 & 1 & 1 & 0 & 0 &  2\\\\\n",
       "\t Total  & Bleached     &  9 & 3 & 8 & 5 & 6 & 31\\\\\n",
       "\t Total  & Not Bleached &  1 & 3 & 1 & 0 & 0 &  5\\\\\n",
       "\t Total  & Total        & 10 & 6 & 9 & 5 & 6 & 36\\\\\n",
       "\\end{tabular}\n"
      ],
      "text/markdown": [
       "\n",
       "A tibble: 10 × 8\n",
       "\n",
       "| Transect &lt;chr&gt; | Status &lt;chr&gt; | MCAV &lt;int&gt; | OFAV &lt;int&gt; | PAST &lt;int&gt; | PSTR &lt;int&gt; | SSID &lt;int&gt; | Total &lt;dbl&gt; |\n",
       "|---|---|---|---|---|---|---|---|\n",
       "| CBC30N | Bleached     |  1 | 1 | 3 | 1 | 1 |  7 |\n",
       "| CURLEW | Bleached     |  2 | 1 | 0 | 2 | 0 |  5 |\n",
       "| CURLEW | Not Bleached |  1 | 0 | 0 | 0 | 0 |  1 |\n",
       "| LAGOON | Bleached     |  3 | 0 | 3 | 2 | 2 | 10 |\n",
       "| LAGOON | Not Bleached |  0 | 2 | 0 | 0 | 0 |  2 |\n",
       "| SR30N  | Bleached     |  3 | 1 | 2 | 0 | 3 |  9 |\n",
       "| SR30N  | Not Bleached |  0 | 1 | 1 | 0 | 0 |  2 |\n",
       "| Total  | Bleached     |  9 | 3 | 8 | 5 | 6 | 31 |\n",
       "| Total  | Not Bleached |  1 | 3 | 1 | 0 | 0 |  5 |\n",
       "| Total  | Total        | 10 | 6 | 9 | 5 | 6 | 36 |\n",
       "\n"
      ],
      "text/plain": [
       "   Transect Status       MCAV OFAV PAST PSTR SSID Total\n",
       "1  CBC30N   Bleached      1   1    3    1    1     7   \n",
       "2  CURLEW   Bleached      2   1    0    2    0     5   \n",
       "3  CURLEW   Not Bleached  1   0    0    0    0     1   \n",
       "4  LAGOON   Bleached      3   0    3    2    2    10   \n",
       "5  LAGOON   Not Bleached  0   2    0    0    0     2   \n",
       "6  SR30N    Bleached      3   1    2    0    3     9   \n",
       "7  SR30N    Not Bleached  0   1    1    0    0     2   \n",
       "8  Total    Bleached      9   3    8    5    6    31   \n",
       "9  Total    Not Bleached  1   3    1    0    0     5   \n",
       "10 Total    Total        10   6    9    5    6    36   "
      ]
     },
     "metadata": {},
     "output_type": "display_data"
    }
   ],
   "source": [
    "# repeat for immune \n",
    "immune <-clb_summary %>%\n",
    "  filter(`immune_y/n`=='y')\n",
    "      \n",
    "# Count by Transect, Species, and Status\n",
    "summary_tbl <- immune %>%\n",
    "  group_by(Transect, Species, Status) %>%\n",
    "  summarise(n = n(), .groups = \"drop\") %>%\n",
    "  pivot_wider(names_from = Species, values_from = n, values_fill = 0) %>%\n",
    "  mutate(Total = rowSums(across(-c(Transect, Status))))\n",
    "\n",
    "# Add row totals per Status\n",
    "status_totals <- summary_tbl %>%\n",
    "  select(-Transect) %>%\n",
    "  group_by(Status) %>%\n",
    "  summarise(across(everything(), sum)) %>%\n",
    "  mutate(Transect = \"Total\") %>%\n",
    "  select(Transect, everything())\n",
    "\n",
    "# Add grand total row\n",
    "grand_total <- summary_tbl %>%\n",
    "  select(-c(Transect, Status)) %>%\n",
    "  summarise(across(everything(), sum)) %>%\n",
    "  mutate(Transect = \"Total\", Status = \"Total\") %>%\n",
    "  select(Transect, Status, everything())\n",
    "\n",
    "# Combine\n",
    "clb_immunesummary <- bind_rows(summary_tbl, status_totals, grand_total) %>%\n",
    "  arrange(Transect, Status)\n",
    "\n",
    "clb_immunesummary"
   ]
  },
  {
   "cell_type": "code",
   "execution_count": 11,
   "id": "ee7342b2-d218-41ca-aff4-fc5cfe09041a",
   "metadata": {},
   "outputs": [],
   "source": [
    "# export \n",
    "write.csv(immune_summarytable, 'tables/immune_summarytable.csv', row.names=FALSE)\n",
    "write.csv(tagged_summarytable, 'tables/tagged_summarytable.csv',row.names=FALSE)\n",
    "write.csv(clb_summarytable, 'tables/clb_taggedsummary.csv',row.names=FALSE)\n",
    "write.csv(clb_immunesummary, 'tables/clb_immunesummary.csv',row.names=FALSE)"
   ]
  },
  {
   "cell_type": "code",
   "execution_count": 12,
   "id": "addb8100-2f84-46d6-8c17-a184c61b5a47",
   "metadata": {},
   "outputs": [],
   "source": [
    "## Bleaching Sample Summaries "
   ]
  },
  {
   "cell_type": "markdown",
   "id": "58041b21-8c4c-414b-8573-4809148a82e5",
   "metadata": {},
   "source": [
    "### SCTLD "
   ]
  },
  {
   "cell_type": "code",
   "execution_count": 13,
   "id": "a83c165e-e863-40c0-92c2-0da42ab0698c",
   "metadata": {},
   "outputs": [],
   "source": [
    "#### tagged colony summary that matches brooke's 03/2025 sequences"
   ]
  },
  {
   "cell_type": "code",
   "execution_count": 14,
   "id": "ad6cc76a-3975-49e9-98fc-446cd46401ed",
   "metadata": {},
   "outputs": [
    {
     "data": {
      "text/html": [
       "'/Users/brookesienkiewicz/Documents/Code_notebook'"
      ],
      "text/latex": [
       "'/Users/brookesienkiewicz/Documents/Code\\_notebook'"
      ],
      "text/markdown": [
       "'/Users/brookesienkiewicz/Documents/Code_notebook'"
      ],
      "text/plain": [
       "[1] \"/Users/brookesienkiewicz/Documents/Code_notebook\""
      ]
     },
     "metadata": {},
     "output_type": "display_data"
    }
   ],
   "source": [
    "getwd()"
   ]
  },
  {
   "cell_type": "code",
   "execution_count": 15,
   "id": "5fcbf6bc-c4a2-4434-95f0-6dc3fe110935",
   "metadata": {},
   "outputs": [
    {
     "data": {
      "text/html": [
       "<style>\n",
       ".list-inline {list-style: none; margin:0; padding: 0}\n",
       ".list-inline>li {display: inline-block}\n",
       ".list-inline>li:not(:last-child)::after {content: \"\\00b7\"; padding: 0 .5ex}\n",
       "</style>\n",
       "<ol class=list-inline><li>'Month_year'</li><li>'Country'</li><li>'Location'</li><li>'CollectionDate'</li><li>'Transect'</li><li>'TransectNum'</li><li>'OldTagNum'</li><li>'NewTagNum'</li><li>'Species'</li><li>'Time_sampled'</li><li>'Time_processed'</li><li>'Sample_type'</li><li>'SampleNum'</li><li>'Health_status'</li><li>'Sampling_notes'</li><li>'Tubelabel_species'</li><li>'Sample_physical_location'</li><li>'Extraction_physical_location'</li><li>'Date_sequenced'</li><li>'Notes'</li></ol>\n"
      ],
      "text/latex": [
       "\\begin{enumerate*}\n",
       "\\item 'Month\\_year'\n",
       "\\item 'Country'\n",
       "\\item 'Location'\n",
       "\\item 'CollectionDate'\n",
       "\\item 'Transect'\n",
       "\\item 'TransectNum'\n",
       "\\item 'OldTagNum'\n",
       "\\item 'NewTagNum'\n",
       "\\item 'Species'\n",
       "\\item 'Time\\_sampled'\n",
       "\\item 'Time\\_processed'\n",
       "\\item 'Sample\\_type'\n",
       "\\item 'SampleNum'\n",
       "\\item 'Health\\_status'\n",
       "\\item 'Sampling\\_notes'\n",
       "\\item 'Tubelabel\\_species'\n",
       "\\item 'Sample\\_physical\\_location'\n",
       "\\item 'Extraction\\_physical\\_location'\n",
       "\\item 'Date\\_sequenced'\n",
       "\\item 'Notes'\n",
       "\\end{enumerate*}\n"
      ],
      "text/markdown": [
       "1. 'Month_year'\n",
       "2. 'Country'\n",
       "3. 'Location'\n",
       "4. 'CollectionDate'\n",
       "5. 'Transect'\n",
       "6. 'TransectNum'\n",
       "7. 'OldTagNum'\n",
       "8. 'NewTagNum'\n",
       "9. 'Species'\n",
       "10. 'Time_sampled'\n",
       "11. 'Time_processed'\n",
       "12. 'Sample_type'\n",
       "13. 'SampleNum'\n",
       "14. 'Health_status'\n",
       "15. 'Sampling_notes'\n",
       "16. 'Tubelabel_species'\n",
       "17. 'Sample_physical_location'\n",
       "18. 'Extraction_physical_location'\n",
       "19. 'Date_sequenced'\n",
       "20. 'Notes'\n",
       "\n",
       "\n"
      ],
      "text/plain": [
       " [1] \"Month_year\"                   \"Country\"                     \n",
       " [3] \"Location\"                     \"CollectionDate\"              \n",
       " [5] \"Transect\"                     \"TransectNum\"                 \n",
       " [7] \"OldTagNum\"                    \"NewTagNum\"                   \n",
       " [9] \"Species\"                      \"Time_sampled\"                \n",
       "[11] \"Time_processed\"               \"Sample_type\"                 \n",
       "[13] \"SampleNum\"                    \"Health_status\"               \n",
       "[15] \"Sampling_notes\"               \"Tubelabel_species\"           \n",
       "[17] \"Sample_physical_location\"     \"Extraction_physical_location\"\n",
       "[19] \"Date_sequenced\"               \"Notes\"                       "
      ]
     },
     "metadata": {},
     "output_type": "display_data"
    }
   ],
   "source": [
    "sctld_samples <- read.csv(\"/Users/brookesienkiewicz/Documents/sctld/SCTLD_samples/Sample_Data/CBC_samples.csv\")\n",
    "samplelist<- read.table('seq_lists/genohublist_sctld2024.txt')\n",
    "colnames(sctld_samples)"
   ]
  },
  {
   "cell_type": "code",
   "execution_count": 16,
   "id": "ac4ce813-c223-4939-a0ca-ed378253fd44",
   "metadata": {},
   "outputs": [
    {
     "data": {
      "text/html": [
       "222"
      ],
      "text/latex": [
       "222"
      ],
      "text/markdown": [
       "222"
      ],
      "text/plain": [
       "[1] 222"
      ]
     },
     "metadata": {},
     "output_type": "display_data"
    }
   ],
   "source": [
    "nrow(samplelist)\n",
    "# extra 2 are negative controls "
   ]
  },
  {
   "cell_type": "code",
   "execution_count": 17,
   "id": "a29cd59a-e857-47a7-9af3-d2999fd9be8d",
   "metadata": {},
   "outputs": [
    {
     "data": {
      "text/html": [
       "220"
      ],
      "text/latex": [
       "220"
      ],
      "text/markdown": [
       "220"
      ],
      "text/plain": [
       "[1] 220"
      ]
     },
     "metadata": {},
     "output_type": "display_data"
    }
   ],
   "source": [
    "#filter for seq'ed in 2024 \n",
    "sctld_samples<-sctld_samples %>%\n",
    "    filter(Sample_type == 'Core_EtOH') %>%\n",
    "    filter(Tubelabel_species %in% samplelist$V1)\n",
    "nrow(sctld_samples)"
   ]
  },
  {
   "cell_type": "code",
   "execution_count": 18,
   "id": "17d4c3e8-67c6-46c6-b5d5-5157d8841dbf",
   "metadata": {},
   "outputs": [],
   "source": [
    "# make colony tag ID for sample data \n",
    "transect_id <- paste0('T',sctld_samples$TransectNum)\n",
    "sctld_samples$colony_id <- paste(transect_id, sctld_samples$NewTagNum, sctld_samples$Species,\n",
    "                                 sep = \"_\")"
   ]
  },
  {
   "cell_type": "code",
   "execution_count": 19,
   "id": "a84862b2-4da5-4291-8457-9ee8e6a3f0be",
   "metadata": {},
   "outputs": [],
   "source": [
    "# make colony tag ID for colony data \n",
    "transect_id <- paste0('T',colony$TransectNum)\n",
    "colony$colony_id <- paste(transect_id, colony$NewTagNum, colony$Species,\n",
    "                                 sep = \"_\")"
   ]
  },
  {
   "cell_type": "code",
   "execution_count": 30,
   "id": "75e1eed9-e24b-4e68-b7dd-1f0d943490b8",
   "metadata": {},
   "outputs": [],
   "source": [
    "# match samples to colony data \n",
    "sctld_colony <- colony %>%\n",
    "    filter(colony_id %in% sctld_samples$colony_id)\n",
    "\n",
    "# separate into diseased and healthy per species \n",
    "cols<- c('062019_Condition','052022_Condition','122022_Condition')\n",
    "sctld_colony <- sctld_colony %>%\n",
    "  mutate(\n",
    "    health_status = case_when(\n",
    "      if_any(any_of(cols), ~ str_detect(., \"Dead\")) ~ \"SCTLD_Mortality\",\n",
    "      if_any(any_of(cols), ~ str_detect(., \"Healthy\")) ~ \"Healthy\",\n",
    "      if_any(any_of(cols), ~ str_detect(., \"Diseased\")) ~ \"Diseased\",\n",
    "      TRUE ~ \"Healthy\"\n",
    "    )\n",
    "  )"
   ]
  },
  {
   "cell_type": "code",
   "execution_count": 31,
   "id": "367654af-59fc-4c0d-a39a-d7b03596b537",
   "metadata": {},
   "outputs": [
    {
     "data": {
      "text/html": [
       "<table class=\"dataframe\">\n",
       "<caption>A tibble: 6 × 58</caption>\n",
       "<thead>\n",
       "\t<tr><th scope=col>...1</th><th scope=col>Date_InitialTag</th><th scope=col>Transect</th><th scope=col>TransectNum</th><th scope=col>OldTagNum</th><th scope=col>NewTagNum</th><th scope=col>Species</th><th scope=col>Meter</th><th scope=col>Meters_90</th><th scope=col>Direction</th><th scope=col>⋯</th><th scope=col>122024_Condition</th><th scope=col>122024_Percentage</th><th scope=col>Notes_122024</th><th scope=col>062025_Condition</th><th scope=col>062025_Percentage</th><th scope=col>Notes_062025</th><th scope=col>immune_y/n</th><th scope=col>checked_colonies</th><th scope=col>colony_id</th><th scope=col>health_status</th></tr>\n",
       "\t<tr><th scope=col>&lt;dbl&gt;</th><th scope=col>&lt;chr&gt;</th><th scope=col>&lt;chr&gt;</th><th scope=col>&lt;dbl&gt;</th><th scope=col>&lt;chr&gt;</th><th scope=col>&lt;chr&gt;</th><th scope=col>&lt;chr&gt;</th><th scope=col>&lt;dbl&gt;</th><th scope=col>&lt;dbl&gt;</th><th scope=col>&lt;chr&gt;</th><th scope=col>⋯</th><th scope=col>&lt;chr&gt;</th><th scope=col>&lt;chr&gt;</th><th scope=col>&lt;chr&gt;</th><th scope=col>&lt;chr&gt;</th><th scope=col>&lt;chr&gt;</th><th scope=col>&lt;chr&gt;</th><th scope=col>&lt;chr&gt;</th><th scope=col>&lt;chr&gt;</th><th scope=col>&lt;chr&gt;</th><th scope=col>&lt;chr&gt;</th></tr>\n",
       "</thead>\n",
       "<tbody>\n",
       "\t<tr><td> 2</td><td>6/21/19 </td><td>CBC30N</td><td>1</td><td>334</td><td>2 </td><td>PAST</td><td> 1.4</td><td>0.10</td><td>left </td><td>⋯</td><td>NA         </td><td>NA</td><td>NA           </td><td>Healthy</td><td>NA</td><td>NA</td><td>y</td><td>x</td><td>T1_2_PAST </td><td>Healthy        </td></tr>\n",
       "\t<tr><td> 4</td><td>10/15/19</td><td>CBC30N</td><td>1</td><td>407</td><td>4 </td><td>PSTR</td><td> 6.5</td><td>0.50</td><td>right</td><td>⋯</td><td>Not_visited</td><td>NA</td><td>Dead         </td><td>NA     </td><td>NA</td><td>NA</td><td>n</td><td>x</td><td>T1_4_PSTR </td><td>SCTLD_Mortality</td></tr>\n",
       "\t<tr><td> 6</td><td>10/15/19</td><td>CBC30N</td><td>1</td><td>413</td><td>6 </td><td>PSTR</td><td> 8.3</td><td>1.75</td><td>left </td><td>⋯</td><td>Healthy    </td><td>NA</td><td>95% mortality</td><td>NA     </td><td>NA</td><td>NA</td><td>n</td><td>x</td><td>T1_6_PSTR </td><td>Healthy        </td></tr>\n",
       "\t<tr><td> 7</td><td>6/24/19 </td><td>CBC30N</td><td>1</td><td>383</td><td>7 </td><td>MCAV</td><td> 6.0</td><td>1.70</td><td>right</td><td>⋯</td><td>Dead       </td><td>NA</td><td>Dead         </td><td>NA     </td><td>NA</td><td>NA</td><td>n</td><td>x</td><td>T1_7_MCAV </td><td>Healthy        </td></tr>\n",
       "\t<tr><td> 8</td><td>6/24/19 </td><td>CBC30N</td><td>1</td><td>390</td><td>8 </td><td>MCAV</td><td>11.2</td><td>0.80</td><td>right</td><td>⋯</td><td>Not_visited</td><td>NA</td><td>NA           </td><td>NA     </td><td>NA</td><td>NA</td><td>n</td><td>x</td><td>T1_8_MCAV </td><td>Healthy        </td></tr>\n",
       "\t<tr><td>12</td><td>10/15/19</td><td>CBC30N</td><td>1</td><td>418</td><td>12</td><td>PSTR</td><td>14.7</td><td>1.00</td><td>left </td><td>⋯</td><td>Healthy    </td><td>NA</td><td>5% mortality </td><td>Healthy</td><td>NA</td><td>NA</td><td>y</td><td>x</td><td>T1_12_PSTR</td><td>Healthy        </td></tr>\n",
       "</tbody>\n",
       "</table>\n"
      ],
      "text/latex": [
       "A tibble: 6 × 58\n",
       "\\begin{tabular}{lllllllllllllllllllll}\n",
       " ...1 & Date\\_InitialTag & Transect & TransectNum & OldTagNum & NewTagNum & Species & Meter & Meters\\_90 & Direction & ⋯ & 122024\\_Condition & 122024\\_Percentage & Notes\\_122024 & 062025\\_Condition & 062025\\_Percentage & Notes\\_062025 & immune\\_y/n & checked\\_colonies & colony\\_id & health\\_status\\\\\n",
       " <dbl> & <chr> & <chr> & <dbl> & <chr> & <chr> & <chr> & <dbl> & <dbl> & <chr> & ⋯ & <chr> & <chr> & <chr> & <chr> & <chr> & <chr> & <chr> & <chr> & <chr> & <chr>\\\\\n",
       "\\hline\n",
       "\t  2 & 6/21/19  & CBC30N & 1 & 334 & 2  & PAST &  1.4 & 0.10 & left  & ⋯ & NA          & NA & NA            & Healthy & NA & NA & y & x & T1\\_2\\_PAST  & Healthy        \\\\\n",
       "\t  4 & 10/15/19 & CBC30N & 1 & 407 & 4  & PSTR &  6.5 & 0.50 & right & ⋯ & Not\\_visited & NA & Dead          & NA      & NA & NA & n & x & T1\\_4\\_PSTR  & SCTLD\\_Mortality\\\\\n",
       "\t  6 & 10/15/19 & CBC30N & 1 & 413 & 6  & PSTR &  8.3 & 1.75 & left  & ⋯ & Healthy     & NA & 95\\% mortality & NA      & NA & NA & n & x & T1\\_6\\_PSTR  & Healthy        \\\\\n",
       "\t  7 & 6/24/19  & CBC30N & 1 & 383 & 7  & MCAV &  6.0 & 1.70 & right & ⋯ & Dead        & NA & Dead          & NA      & NA & NA & n & x & T1\\_7\\_MCAV  & Healthy        \\\\\n",
       "\t  8 & 6/24/19  & CBC30N & 1 & 390 & 8  & MCAV & 11.2 & 0.80 & right & ⋯ & Not\\_visited & NA & NA            & NA      & NA & NA & n & x & T1\\_8\\_MCAV  & Healthy        \\\\\n",
       "\t 12 & 10/15/19 & CBC30N & 1 & 418 & 12 & PSTR & 14.7 & 1.00 & left  & ⋯ & Healthy     & NA & 5\\% mortality  & Healthy & NA & NA & y & x & T1\\_12\\_PSTR & Healthy        \\\\\n",
       "\\end{tabular}\n"
      ],
      "text/markdown": [
       "\n",
       "A tibble: 6 × 58\n",
       "\n",
       "| ...1 &lt;dbl&gt; | Date_InitialTag &lt;chr&gt; | Transect &lt;chr&gt; | TransectNum &lt;dbl&gt; | OldTagNum &lt;chr&gt; | NewTagNum &lt;chr&gt; | Species &lt;chr&gt; | Meter &lt;dbl&gt; | Meters_90 &lt;dbl&gt; | Direction &lt;chr&gt; | ⋯ ⋯ | 122024_Condition &lt;chr&gt; | 122024_Percentage &lt;chr&gt; | Notes_122024 &lt;chr&gt; | 062025_Condition &lt;chr&gt; | 062025_Percentage &lt;chr&gt; | Notes_062025 &lt;chr&gt; | immune_y/n &lt;chr&gt; | checked_colonies &lt;chr&gt; | colony_id &lt;chr&gt; | health_status &lt;chr&gt; |\n",
       "|---|---|---|---|---|---|---|---|---|---|---|---|---|---|---|---|---|---|---|---|---|\n",
       "|  2 | 6/21/19  | CBC30N | 1 | 334 | 2  | PAST |  1.4 | 0.10 | left  | ⋯ | NA          | NA | NA            | Healthy | NA | NA | y | x | T1_2_PAST  | Healthy         |\n",
       "|  4 | 10/15/19 | CBC30N | 1 | 407 | 4  | PSTR |  6.5 | 0.50 | right | ⋯ | Not_visited | NA | Dead          | NA      | NA | NA | n | x | T1_4_PSTR  | SCTLD_Mortality |\n",
       "|  6 | 10/15/19 | CBC30N | 1 | 413 | 6  | PSTR |  8.3 | 1.75 | left  | ⋯ | Healthy     | NA | 95% mortality | NA      | NA | NA | n | x | T1_6_PSTR  | Healthy         |\n",
       "|  7 | 6/24/19  | CBC30N | 1 | 383 | 7  | MCAV |  6.0 | 1.70 | right | ⋯ | Dead        | NA | Dead          | NA      | NA | NA | n | x | T1_7_MCAV  | Healthy         |\n",
       "|  8 | 6/24/19  | CBC30N | 1 | 390 | 8  | MCAV | 11.2 | 0.80 | right | ⋯ | Not_visited | NA | NA            | NA      | NA | NA | n | x | T1_8_MCAV  | Healthy         |\n",
       "| 12 | 10/15/19 | CBC30N | 1 | 418 | 12 | PSTR | 14.7 | 1.00 | left  | ⋯ | Healthy     | NA | 5% mortality  | Healthy | NA | NA | y | x | T1_12_PSTR | Healthy         |\n",
       "\n"
      ],
      "text/plain": [
       "  ...1 Date_InitialTag Transect TransectNum OldTagNum NewTagNum Species Meter\n",
       "1  2   6/21/19         CBC30N   1           334       2         PAST     1.4 \n",
       "2  4   10/15/19        CBC30N   1           407       4         PSTR     6.5 \n",
       "3  6   10/15/19        CBC30N   1           413       6         PSTR     8.3 \n",
       "4  7   6/24/19         CBC30N   1           383       7         MCAV     6.0 \n",
       "5  8   6/24/19         CBC30N   1           390       8         MCAV    11.2 \n",
       "6 12   10/15/19        CBC30N   1           418       12        PSTR    14.7 \n",
       "  Meters_90 Direction ⋯ 122024_Condition 122024_Percentage Notes_122024 \n",
       "1 0.10      left      ⋯ NA               NA                NA           \n",
       "2 0.50      right     ⋯ Not_visited      NA                Dead         \n",
       "3 1.75      left      ⋯ Healthy          NA                95% mortality\n",
       "4 1.70      right     ⋯ Dead             NA                Dead         \n",
       "5 0.80      right     ⋯ Not_visited      NA                NA           \n",
       "6 1.00      left      ⋯ Healthy          NA                5% mortality \n",
       "  062025_Condition 062025_Percentage Notes_062025 immune_y/n checked_colonies\n",
       "1 Healthy          NA                NA           y          x               \n",
       "2 NA               NA                NA           n          x               \n",
       "3 NA               NA                NA           n          x               \n",
       "4 NA               NA                NA           n          x               \n",
       "5 NA               NA                NA           n          x               \n",
       "6 Healthy          NA                NA           y          x               \n",
       "  colony_id  health_status  \n",
       "1 T1_2_PAST  Healthy        \n",
       "2 T1_4_PSTR  SCTLD_Mortality\n",
       "3 T1_6_PSTR  Healthy        \n",
       "4 T1_7_MCAV  Healthy        \n",
       "5 T1_8_MCAV  Healthy        \n",
       "6 T1_12_PSTR Healthy        "
      ]
     },
     "metadata": {},
     "output_type": "display_data"
    },
    {
     "data": {
      "text/html": [
       "<style>\n",
       ".list-inline {list-style: none; margin:0; padding: 0}\n",
       ".list-inline>li {display: inline-block}\n",
       ".list-inline>li:not(:last-child)::after {content: \"\\00b7\"; padding: 0 .5ex}\n",
       "</style>\n",
       "<ol class=list-inline><li>'Healthy'</li><li>'SCTLD_Mortality'</li><li>'Diseased'</li></ol>\n"
      ],
      "text/latex": [
       "\\begin{enumerate*}\n",
       "\\item 'Healthy'\n",
       "\\item 'SCTLD\\_Mortality'\n",
       "\\item 'Diseased'\n",
       "\\end{enumerate*}\n"
      ],
      "text/markdown": [
       "1. 'Healthy'\n",
       "2. 'SCTLD_Mortality'\n",
       "3. 'Diseased'\n",
       "\n",
       "\n"
      ],
      "text/plain": [
       "[1] \"Healthy\"         \"SCTLD_Mortality\" \"Diseased\"       "
      ]
     },
     "metadata": {},
     "output_type": "display_data"
    }
   ],
   "source": [
    "head(sctld_colony)\n",
    "unique(sctld_colony$health_status)"
   ]
  },
  {
   "cell_type": "code",
   "execution_count": 33,
   "id": "79638fad-1d41-456d-bc28-7a321691aa42",
   "metadata": {},
   "outputs": [
    {
     "data": {
      "text/html": [
       "<table class=\"dataframe\">\n",
       "<caption>A tibble: 3 × 8</caption>\n",
       "<thead>\n",
       "\t<tr><th scope=col>health_status</th><th scope=col>MCAV</th><th scope=col>MMEA</th><th scope=col>OANN</th><th scope=col>OFAV</th><th scope=col>PAST</th><th scope=col>PSTR</th><th scope=col>Total</th></tr>\n",
       "\t<tr><th scope=col>&lt;chr&gt;</th><th scope=col>&lt;int&gt;</th><th scope=col>&lt;int&gt;</th><th scope=col>&lt;int&gt;</th><th scope=col>&lt;int&gt;</th><th scope=col>&lt;int&gt;</th><th scope=col>&lt;int&gt;</th><th scope=col>&lt;dbl&gt;</th></tr>\n",
       "</thead>\n",
       "<tbody>\n",
       "\t<tr><td>Diseased       </td><td> 3</td><td> 0</td><td>1</td><td> 1</td><td> 0</td><td> 3</td><td> 8</td></tr>\n",
       "\t<tr><td>Healthy        </td><td>16</td><td> 0</td><td>5</td><td>10</td><td>20</td><td>13</td><td>64</td></tr>\n",
       "\t<tr><td>SCTLD_Mortality</td><td>11</td><td>10</td><td>0</td><td> 0</td><td> 0</td><td>15</td><td>36</td></tr>\n",
       "</tbody>\n",
       "</table>\n"
      ],
      "text/latex": [
       "A tibble: 3 × 8\n",
       "\\begin{tabular}{llllllll}\n",
       " health\\_status & MCAV & MMEA & OANN & OFAV & PAST & PSTR & Total\\\\\n",
       " <chr> & <int> & <int> & <int> & <int> & <int> & <int> & <dbl>\\\\\n",
       "\\hline\n",
       "\t Diseased        &  3 &  0 & 1 &  1 &  0 &  3 &  8\\\\\n",
       "\t Healthy         & 16 &  0 & 5 & 10 & 20 & 13 & 64\\\\\n",
       "\t SCTLD\\_Mortality & 11 & 10 & 0 &  0 &  0 & 15 & 36\\\\\n",
       "\\end{tabular}\n"
      ],
      "text/markdown": [
       "\n",
       "A tibble: 3 × 8\n",
       "\n",
       "| health_status &lt;chr&gt; | MCAV &lt;int&gt; | MMEA &lt;int&gt; | OANN &lt;int&gt; | OFAV &lt;int&gt; | PAST &lt;int&gt; | PSTR &lt;int&gt; | Total &lt;dbl&gt; |\n",
       "|---|---|---|---|---|---|---|---|\n",
       "| Diseased        |  3 |  0 | 1 |  1 |  0 |  3 |  8 |\n",
       "| Healthy         | 16 |  0 | 5 | 10 | 20 | 13 | 64 |\n",
       "| SCTLD_Mortality | 11 | 10 | 0 |  0 |  0 | 15 | 36 |\n",
       "\n"
      ],
      "text/plain": [
       "  health_status   MCAV MMEA OANN OFAV PAST PSTR Total\n",
       "1 Diseased         3    0   1     1    0    3    8   \n",
       "2 Healthy         16    0   5    10   20   13   64   \n",
       "3 SCTLD_Mortality 11   10   0     0    0   15   36   "
      ]
     },
     "metadata": {},
     "output_type": "display_data"
    }
   ],
   "source": [
    "# summary of healthy, diseased, dead \n",
    "summary_sctld <- sctld_colony %>%\n",
    "  group_by(Species, health_status) %>%\n",
    "  summarise(n = n(), .groups = \"drop\") %>%\n",
    "  pivot_wider(names_from = Species, values_from = n, values_fill = 0)%>%\n",
    "# add totals per health status \n",
    "  mutate(Total = rowSums(across(-c(health_status))))\n",
    "summary_sctld"
   ]
  },
  {
   "cell_type": "code",
   "execution_count": 34,
   "id": "de5e282c-0199-480e-991e-290fc897bb1b",
   "metadata": {},
   "outputs": [],
   "source": [
    "# Add row totals per Status\n",
    "status_totals <- summary_sctld %>%\n",
    "  select(-health_status) %>%\n",
    "  summarise(across(everything(), sum)) %>%\n",
    "  mutate(health_status = \"Total\") %>%\n",
    "  select(everything())\n",
    "status_totals"
   ]
  },
  {
   "cell_type": "code",
   "execution_count": 37,
   "id": "81aae4e8-1022-4c01-9247-183cc97fb2a2",
   "metadata": {},
   "outputs": [
    {
     "data": {
      "text/html": [
       "<table class=\"dataframe\">\n",
       "<caption>A tibble: 4 × 8</caption>\n",
       "<thead>\n",
       "\t<tr><th scope=col>health_status</th><th scope=col>MCAV</th><th scope=col>MMEA</th><th scope=col>OANN</th><th scope=col>OFAV</th><th scope=col>PAST</th><th scope=col>PSTR</th><th scope=col>Total</th></tr>\n",
       "\t<tr><th scope=col>&lt;chr&gt;</th><th scope=col>&lt;int&gt;</th><th scope=col>&lt;int&gt;</th><th scope=col>&lt;int&gt;</th><th scope=col>&lt;int&gt;</th><th scope=col>&lt;int&gt;</th><th scope=col>&lt;int&gt;</th><th scope=col>&lt;dbl&gt;</th></tr>\n",
       "</thead>\n",
       "<tbody>\n",
       "\t<tr><td>Healthy        </td><td>16</td><td> 0</td><td>5</td><td>10</td><td>20</td><td>13</td><td> 64</td></tr>\n",
       "\t<tr><td>Diseased       </td><td> 3</td><td> 0</td><td>1</td><td> 1</td><td> 0</td><td> 3</td><td>  8</td></tr>\n",
       "\t<tr><td>SCTLD_Mortality</td><td>11</td><td>10</td><td>0</td><td> 0</td><td> 0</td><td>15</td><td> 36</td></tr>\n",
       "\t<tr><td>Total          </td><td>30</td><td>10</td><td>6</td><td>11</td><td>20</td><td>31</td><td>108</td></tr>\n",
       "</tbody>\n",
       "</table>\n"
      ],
      "text/latex": [
       "A tibble: 4 × 8\n",
       "\\begin{tabular}{llllllll}\n",
       " health\\_status & MCAV & MMEA & OANN & OFAV & PAST & PSTR & Total\\\\\n",
       " <chr> & <int> & <int> & <int> & <int> & <int> & <int> & <dbl>\\\\\n",
       "\\hline\n",
       "\t Healthy         & 16 &  0 & 5 & 10 & 20 & 13 &  64\\\\\n",
       "\t Diseased        &  3 &  0 & 1 &  1 &  0 &  3 &   8\\\\\n",
       "\t SCTLD\\_Mortality & 11 & 10 & 0 &  0 &  0 & 15 &  36\\\\\n",
       "\t Total           & 30 & 10 & 6 & 11 & 20 & 31 & 108\\\\\n",
       "\\end{tabular}\n"
      ],
      "text/markdown": [
       "\n",
       "A tibble: 4 × 8\n",
       "\n",
       "| health_status &lt;chr&gt; | MCAV &lt;int&gt; | MMEA &lt;int&gt; | OANN &lt;int&gt; | OFAV &lt;int&gt; | PAST &lt;int&gt; | PSTR &lt;int&gt; | Total &lt;dbl&gt; |\n",
       "|---|---|---|---|---|---|---|---|\n",
       "| Healthy         | 16 |  0 | 5 | 10 | 20 | 13 |  64 |\n",
       "| Diseased        |  3 |  0 | 1 |  1 |  0 |  3 |   8 |\n",
       "| SCTLD_Mortality | 11 | 10 | 0 |  0 |  0 | 15 |  36 |\n",
       "| Total           | 30 | 10 | 6 | 11 | 20 | 31 | 108 |\n",
       "\n"
      ],
      "text/plain": [
       "  health_status   MCAV MMEA OANN OFAV PAST PSTR Total\n",
       "1 Healthy         16    0   5    10   20   13    64  \n",
       "2 Diseased         3    0   1     1    0    3     8  \n",
       "3 SCTLD_Mortality 11   10   0     0    0   15    36  \n",
       "4 Total           30   10   6    11   20   31   108  "
      ]
     },
     "metadata": {},
     "output_type": "display_data"
    }
   ],
   "source": [
    "# Combine\n",
    "sctld_summarytable <- bind_rows(summary_sctld, status_totals) %>%\n",
    "    arrange(factor(health_status, levels = c('Healthy','Diseased','SCTLD_Mortality','Total')))\n",
    "sctld_summarytable"
   ]
  },
  {
   "cell_type": "code",
   "execution_count": 39,
   "id": "8a6c78fd-74fc-4b43-9c2a-2fe9b3ddb392",
   "metadata": {},
   "outputs": [
    {
     "data": {
      "text/html": [
       "<table class=\"dataframe\">\n",
       "<caption>A tibble: 3 × 8</caption>\n",
       "<thead>\n",
       "\t<tr><th scope=col>health_status</th><th scope=col>MCAV</th><th scope=col>MMEA</th><th scope=col>OANN</th><th scope=col>OFAV</th><th scope=col>PAST</th><th scope=col>PSTR</th><th scope=col>Total</th></tr>\n",
       "\t<tr><th scope=col>&lt;chr&gt;</th><th scope=col>&lt;int&gt;</th><th scope=col>&lt;int&gt;</th><th scope=col>&lt;int&gt;</th><th scope=col>&lt;int&gt;</th><th scope=col>&lt;int&gt;</th><th scope=col>&lt;int&gt;</th><th scope=col>&lt;dbl&gt;</th></tr>\n",
       "</thead>\n",
       "<tbody>\n",
       "\t<tr><td>Healthy </td><td>16</td><td> 0</td><td>5</td><td>10</td><td>20</td><td>13</td><td> 64</td></tr>\n",
       "\t<tr><td>Diseased</td><td>14</td><td>10</td><td>1</td><td> 1</td><td> 0</td><td>18</td><td> 44</td></tr>\n",
       "\t<tr><td>Total   </td><td>30</td><td>10</td><td>6</td><td>11</td><td>20</td><td>31</td><td>108</td></tr>\n",
       "</tbody>\n",
       "</table>\n"
      ],
      "text/latex": [
       "A tibble: 3 × 8\n",
       "\\begin{tabular}{llllllll}\n",
       " health\\_status & MCAV & MMEA & OANN & OFAV & PAST & PSTR & Total\\\\\n",
       " <chr> & <int> & <int> & <int> & <int> & <int> & <int> & <dbl>\\\\\n",
       "\\hline\n",
       "\t Healthy  & 16 &  0 & 5 & 10 & 20 & 13 &  64\\\\\n",
       "\t Diseased & 14 & 10 & 1 &  1 &  0 & 18 &  44\\\\\n",
       "\t Total    & 30 & 10 & 6 & 11 & 20 & 31 & 108\\\\\n",
       "\\end{tabular}\n"
      ],
      "text/markdown": [
       "\n",
       "A tibble: 3 × 8\n",
       "\n",
       "| health_status &lt;chr&gt; | MCAV &lt;int&gt; | MMEA &lt;int&gt; | OANN &lt;int&gt; | OFAV &lt;int&gt; | PAST &lt;int&gt; | PSTR &lt;int&gt; | Total &lt;dbl&gt; |\n",
       "|---|---|---|---|---|---|---|---|\n",
       "| Healthy  | 16 |  0 | 5 | 10 | 20 | 13 |  64 |\n",
       "| Diseased | 14 | 10 | 1 |  1 |  0 | 18 |  44 |\n",
       "| Total    | 30 | 10 | 6 | 11 | 20 | 31 | 108 |\n",
       "\n"
      ],
      "text/plain": [
       "  health_status MCAV MMEA OANN OFAV PAST PSTR Total\n",
       "1 Healthy       16    0   5    10   20   13    64  \n",
       "2 Diseased      14   10   1     1    0   18    44  \n",
       "3 Total         30   10   6    11   20   31   108  "
      ]
     },
     "metadata": {},
     "output_type": "display_data"
    }
   ],
   "source": [
    "# combine disease and dead by disease \n",
    "disease_totals <- summary_sctld %>%\n",
    "    filter(health_status %in% c('Diseased','SCTLD_Mortality')) %>%\n",
    "    select(-health_status) %>%\n",
    "    summarise(across(everything(), sum)) %>%\n",
    "    mutate(health_status = \"Diseased\") %>%\n",
    "    select(everything())\n",
    "# drop cols\n",
    "healthy_sctld<-sctld_summarytable %>%\n",
    "    filter(!health_status %in% c('Diseased','SCTLD_Mortality'))\n",
    "#combine \n",
    "sctld_summarytable2 <- bind_rows(healthy_sctld,disease_totals) %>%\n",
    "    arrange(factor(health_status, levels = c('Healthy','Diseased','Total')))\n",
    "sctld_summarytable2"
   ]
  },
  {
   "cell_type": "code",
   "execution_count": null,
   "id": "a184eef8-4026-4619-9250-559329c90a1a",
   "metadata": {},
   "outputs": [],
   "source": [
    "#### all tagged summary "
   ]
  },
  {
   "cell_type": "code",
   "execution_count": 51,
   "id": "056dcd1c-75e3-4690-a75c-24429614e4c0",
   "metadata": {},
   "outputs": [],
   "source": [
    "# filter for colonies tagged pre 2024  \n",
    "allsctld_colony<-colony %>%\n",
    "    filter(!str_detect(Date_InitialTag, \"/24\"))"
   ]
  },
  {
   "cell_type": "code",
   "execution_count": 43,
   "id": "af3db67f-e852-4a9c-b5e4-162461a9fb7d",
   "metadata": {},
   "outputs": [
    {
     "data": {
      "text/html": [
       "<style>\n",
       ".list-inline {list-style: none; margin:0; padding: 0}\n",
       ".list-inline>li {display: inline-block}\n",
       ".list-inline>li:not(:last-child)::after {content: \"\\00b7\"; padding: 0 .5ex}\n",
       "</style>\n",
       "<ol class=list-inline><li>'6/21/19'</li><li>'10/15/19'</li><li>'6/26/19'</li><li>'5/21/22'</li><li>'5/25/22'</li><li>'12/5/22'</li><li>'6/25/19'</li><li>'6/22/19'</li><li>'10/13/19'</li><li>'6/23/19'</li><li>'10/14/19'</li><li>'5/20/22'</li><li>'12/3/22'</li></ol>\n"
      ],
      "text/latex": [
       "\\begin{enumerate*}\n",
       "\\item '6/21/19'\n",
       "\\item '10/15/19'\n",
       "\\item '6/26/19'\n",
       "\\item '5/21/22'\n",
       "\\item '5/25/22'\n",
       "\\item '12/5/22'\n",
       "\\item '6/25/19'\n",
       "\\item '6/22/19'\n",
       "\\item '10/13/19'\n",
       "\\item '6/23/19'\n",
       "\\item '10/14/19'\n",
       "\\item '5/20/22'\n",
       "\\item '12/3/22'\n",
       "\\end{enumerate*}\n"
      ],
      "text/markdown": [
       "1. '6/21/19'\n",
       "2. '10/15/19'\n",
       "3. '6/26/19'\n",
       "4. '5/21/22'\n",
       "5. '5/25/22'\n",
       "6. '12/5/22'\n",
       "7. '6/25/19'\n",
       "8. '6/22/19'\n",
       "9. '10/13/19'\n",
       "10. '6/23/19'\n",
       "11. '10/14/19'\n",
       "12. '5/20/22'\n",
       "13. '12/3/22'\n",
       "\n",
       "\n"
      ],
      "text/plain": [
       " [1] \"6/21/19\"  \"10/15/19\" \"6/26/19\"  \"5/21/22\"  \"5/25/22\"  \"12/5/22\" \n",
       " [7] \"6/25/19\"  \"6/22/19\"  \"10/13/19\" \"6/23/19\"  \"10/14/19\" \"5/20/22\" \n",
       "[13] \"12/3/22\" "
      ]
     },
     "metadata": {},
     "output_type": "display_data"
    }
   ],
   "source": [
    "unique(allsctld_colony$Date_InitialTag)"
   ]
  },
  {
   "cell_type": "code",
   "execution_count": 52,
   "id": "3de314cb-0512-4092-965f-511d84820ea2",
   "metadata": {},
   "outputs": [
    {
     "data": {
      "text/html": [
       "<table class=\"dataframe\">\n",
       "<caption>A tibble: 4 × 11</caption>\n",
       "<thead>\n",
       "\t<tr><th scope=col>health_status</th><th scope=col>CNAT</th><th scope=col>DLAB</th><th scope=col>MCAV</th><th scope=col>MMEA</th><th scope=col>OANN</th><th scope=col>OFAV</th><th scope=col>PAST</th><th scope=col>PSTR</th><th scope=col>SSID</th><th scope=col>Total</th></tr>\n",
       "\t<tr><th scope=col>&lt;chr&gt;</th><th scope=col>&lt;int&gt;</th><th scope=col>&lt;int&gt;</th><th scope=col>&lt;int&gt;</th><th scope=col>&lt;int&gt;</th><th scope=col>&lt;int&gt;</th><th scope=col>&lt;int&gt;</th><th scope=col>&lt;int&gt;</th><th scope=col>&lt;int&gt;</th><th scope=col>&lt;int&gt;</th><th scope=col>&lt;dbl&gt;</th></tr>\n",
       "</thead>\n",
       "<tbody>\n",
       "\t<tr><td>Healthy        </td><td>1</td><td>7</td><td>13</td><td> 0</td><td>4</td><td>8</td><td>17</td><td>13</td><td>21</td><td> 84</td></tr>\n",
       "\t<tr><td>Diseased       </td><td>0</td><td>0</td><td> 3</td><td> 0</td><td>2</td><td>1</td><td> 0</td><td> 3</td><td> 0</td><td>  9</td></tr>\n",
       "\t<tr><td>SCTLD_Mortality</td><td>0</td><td>0</td><td>11</td><td>12</td><td>0</td><td>0</td><td> 0</td><td>15</td><td> 2</td><td> 40</td></tr>\n",
       "\t<tr><td>Total          </td><td>1</td><td>7</td><td>27</td><td>12</td><td>6</td><td>9</td><td>17</td><td>31</td><td>23</td><td>133</td></tr>\n",
       "</tbody>\n",
       "</table>\n"
      ],
      "text/latex": [
       "A tibble: 4 × 11\n",
       "\\begin{tabular}{lllllllllll}\n",
       " health\\_status & CNAT & DLAB & MCAV & MMEA & OANN & OFAV & PAST & PSTR & SSID & Total\\\\\n",
       " <chr> & <int> & <int> & <int> & <int> & <int> & <int> & <int> & <int> & <int> & <dbl>\\\\\n",
       "\\hline\n",
       "\t Healthy         & 1 & 7 & 13 &  0 & 4 & 8 & 17 & 13 & 21 &  84\\\\\n",
       "\t Diseased        & 0 & 0 &  3 &  0 & 2 & 1 &  0 &  3 &  0 &   9\\\\\n",
       "\t SCTLD\\_Mortality & 0 & 0 & 11 & 12 & 0 & 0 &  0 & 15 &  2 &  40\\\\\n",
       "\t Total           & 1 & 7 & 27 & 12 & 6 & 9 & 17 & 31 & 23 & 133\\\\\n",
       "\\end{tabular}\n"
      ],
      "text/markdown": [
       "\n",
       "A tibble: 4 × 11\n",
       "\n",
       "| health_status &lt;chr&gt; | CNAT &lt;int&gt; | DLAB &lt;int&gt; | MCAV &lt;int&gt; | MMEA &lt;int&gt; | OANN &lt;int&gt; | OFAV &lt;int&gt; | PAST &lt;int&gt; | PSTR &lt;int&gt; | SSID &lt;int&gt; | Total &lt;dbl&gt; |\n",
       "|---|---|---|---|---|---|---|---|---|---|---|\n",
       "| Healthy         | 1 | 7 | 13 |  0 | 4 | 8 | 17 | 13 | 21 |  84 |\n",
       "| Diseased        | 0 | 0 |  3 |  0 | 2 | 1 |  0 |  3 |  0 |   9 |\n",
       "| SCTLD_Mortality | 0 | 0 | 11 | 12 | 0 | 0 |  0 | 15 |  2 |  40 |\n",
       "| Total           | 1 | 7 | 27 | 12 | 6 | 9 | 17 | 31 | 23 | 133 |\n",
       "\n"
      ],
      "text/plain": [
       "  health_status   CNAT DLAB MCAV MMEA OANN OFAV PAST PSTR SSID Total\n",
       "1 Healthy         1    7    13    0   4    8    17   13   21    84  \n",
       "2 Diseased        0    0     3    0   2    1     0    3    0     9  \n",
       "3 SCTLD_Mortality 0    0    11   12   0    0     0   15    2    40  \n",
       "4 Total           1    7    27   12   6    9    17   31   23   133  "
      ]
     },
     "metadata": {},
     "output_type": "display_data"
    }
   ],
   "source": [
    "# define health statuses\n",
    "allsctld_colony <- allsctld_colony %>%\n",
    "  mutate(\n",
    "    health_status = case_when(\n",
    "      if_any(any_of(cols), ~ str_detect(., \"Dead\")) ~ \"SCTLD_Mortality\",\n",
    "      if_any(any_of(cols), ~ str_detect(., \"Healthy\")) ~ \"Healthy\",\n",
    "      if_any(any_of(cols), ~ str_detect(., \"Diseased\")) ~ \"Diseased\",\n",
    "      TRUE ~ \"Healthy\"\n",
    "    )\n",
    "  )\n",
    "\n",
    "# summarize \n",
    "summary_allsctld <- allsctld_colony %>%\n",
    "  group_by(Species, health_status) %>%\n",
    "  summarise(n = n(), .groups = \"drop\") %>%\n",
    "  pivot_wider(names_from = Species, values_from = n, values_fill = 0)%>%\n",
    "# add totals per health status \n",
    "  mutate(Total = rowSums(across(-c(health_status))))\n",
    "\n",
    "# Add row totals per Status\n",
    "allstatus_totals <- summary_allsctld %>%\n",
    "  select(-health_status) %>%\n",
    "  summarise(across(everything(), sum)) %>%\n",
    "  mutate(health_status = \"Total\") %>%\n",
    "  select(everything())\n",
    "\n",
    "# Combine\n",
    "allsctld_summarytable <- bind_rows(summary_allsctld, allstatus_totals) %>%\n",
    "    arrange(factor(health_status, levels = c('Healthy','Diseased','SCTLD_Mortality','Total')))\n",
    "allsctld_summarytable"
   ]
  },
  {
   "cell_type": "code",
   "execution_count": null,
   "id": "7df2fb27-2172-4bb7-8339-5ef8bf9a57cb",
   "metadata": {},
   "outputs": [],
   "source": [
    "# why is there 17 past here but my subset has 20 lol"
   ]
  },
  {
   "cell_type": "code",
   "execution_count": 61,
   "id": "18d77b29-9f95-4dc6-a95a-c4ce9d9841d1",
   "metadata": {},
   "outputs": [
    {
     "name": "stdout",
     "output_type": "stream",
     "text": [
      " [1] \"T1_2_PAST\"      \"T1_19_PAST\"     \"T2_47_PAST\"     \"T2_56_PAST\"    \n",
      " [5] \"T2_57_PAST\"     \"T2_63_PAST\"     \"T2_68_PAST\"     \"T2_347_PAST\"   \n",
      " [9] \"T3_6_PAST\"      \"T3_7_PAST\"      \"T3_8_PAST\"      \"T3_10_PAST\"    \n",
      "[13] \"T3_13_PAST\"     \"T3_18_PAST\"     \"T3_24_PAST\"     \"T3_34_PAST\"    \n",
      "[17] \"T3_12flag_PAST\"\n",
      "[1] 17\n"
     ]
    }
   ],
   "source": [
    "# compare past colonies \n",
    "all_past<-allsctld_colony %>%\n",
    "    filter((Species == 'PAST') & (health_status == 'Healthy'))\n",
    "\n",
    "past_subset<-sctld_colony %>%\n",
    "    filter((Species == 'PAST') & (health_status == 'Healthy'))\n",
    "print(unique(all_past$colony_id))\n",
    "print(length(unique(all_past$colony_id)))"
   ]
  },
  {
   "cell_type": "code",
   "execution_count": 62,
   "id": "c924dbb9-5865-4f8e-a963-d30fe58a3dbc",
   "metadata": {},
   "outputs": [
    {
     "name": "stdout",
     "output_type": "stream",
     "text": [
      " [1] \"T1_2_PAST\"      \"T1_13_PAST\"     \"T1_19_PAST\"     \"T1_20_PAST\"    \n",
      " [5] \"T1_21_PAST\"     \"T2_47_PAST\"     \"T2_56_PAST\"     \"T2_57_PAST\"    \n",
      " [9] \"T2_63_PAST\"     \"T2_68_PAST\"     \"T2_347_PAST\"    \"T3_6_PAST\"     \n",
      "[13] \"T3_7_PAST\"      \"T3_8_PAST\"      \"T3_10_PAST\"     \"T3_13_PAST\"    \n",
      "[17] \"T3_18_PAST\"     \"T3_24_PAST\"     \"T3_34_PAST\"     \"T3_12flag_PAST\"\n",
      "[1] 20\n"
     ]
    }
   ],
   "source": [
    "print(unique(past_subset$colony_id))\n",
    "print(length(unique(past_subset$colony_id)))\n",
    "# missing t1 13, t1 20, t1 21"
   ]
  },
  {
   "cell_type": "code",
   "execution_count": 72,
   "id": "f6702bc8-6a66-40f0-9e78-215231579b02",
   "metadata": {},
   "outputs": [
    {
     "name": "stderr",
     "output_type": "stream",
     "text": [
      "Warning message in cbind(parts$left, chars$ellip_h, parts$right, deparse.level = 0L):\n",
      "“number of rows of result is not a multiple of vector length (arg 2)”\n",
      "Warning message in cbind(parts$left, chars$ellip_h, parts$right, deparse.level = 0L):\n",
      "“number of rows of result is not a multiple of vector length (arg 2)”\n",
      "Warning message in cbind(parts$left, chars$ellip_h, parts$right, deparse.level = 0L):\n",
      "“number of rows of result is not a multiple of vector length (arg 2)”\n",
      "Warning message in cbind(parts$left, chars$ellip_h, parts$right, deparse.level = 0L):\n",
      "“number of rows of result is not a multiple of vector length (arg 2)”\n"
     ]
    },
    {
     "data": {
      "text/html": [
       "<table class=\"dataframe\">\n",
       "<caption>A tibble: 0 × 58</caption>\n",
       "<thead>\n",
       "\t<tr><th scope=col>...1</th><th scope=col>Date_InitialTag</th><th scope=col>Transect</th><th scope=col>TransectNum</th><th scope=col>OldTagNum</th><th scope=col>NewTagNum</th><th scope=col>Species</th><th scope=col>Meter</th><th scope=col>Meters_90</th><th scope=col>Direction</th><th scope=col>⋯</th><th scope=col>122024_Condition</th><th scope=col>122024_Percentage</th><th scope=col>Notes_122024</th><th scope=col>062025_Condition</th><th scope=col>062025_Percentage</th><th scope=col>Notes_062025</th><th scope=col>immune_y/n</th><th scope=col>checked_colonies</th><th scope=col>colony_id</th><th scope=col>health_status</th></tr>\n",
       "\t<tr><th scope=col>&lt;dbl&gt;</th><th scope=col>&lt;chr&gt;</th><th scope=col>&lt;chr&gt;</th><th scope=col>&lt;dbl&gt;</th><th scope=col>&lt;chr&gt;</th><th scope=col>&lt;chr&gt;</th><th scope=col>&lt;chr&gt;</th><th scope=col>&lt;dbl&gt;</th><th scope=col>&lt;dbl&gt;</th><th scope=col>&lt;chr&gt;</th><th scope=col>⋯</th><th scope=col>&lt;chr&gt;</th><th scope=col>&lt;chr&gt;</th><th scope=col>&lt;chr&gt;</th><th scope=col>&lt;chr&gt;</th><th scope=col>&lt;chr&gt;</th><th scope=col>&lt;chr&gt;</th><th scope=col>&lt;chr&gt;</th><th scope=col>&lt;chr&gt;</th><th scope=col>&lt;chr&gt;</th><th scope=col>&lt;chr&gt;</th></tr>\n",
       "</thead>\n",
       "<tbody>\n",
       "</tbody>\n",
       "</table>\n"
      ],
      "text/latex": [
       "A tibble: 0 × 58\n",
       "\\begin{tabular}{lllllllllllllllllllll}\n",
       " ...1 & Date\\_InitialTag & Transect & TransectNum & OldTagNum & NewTagNum & Species & Meter & Meters\\_90 & Direction & ⋯ & 122024\\_Condition & 122024\\_Percentage & Notes\\_122024 & 062025\\_Condition & 062025\\_Percentage & Notes\\_062025 & immune\\_y/n & checked\\_colonies & colony\\_id & health\\_status\\\\\n",
       " <dbl> & <chr> & <chr> & <dbl> & <chr> & <chr> & <chr> & <dbl> & <dbl> & <chr> & ⋯ & <chr> & <chr> & <chr> & <chr> & <chr> & <chr> & <chr> & <chr> & <chr> & <chr>\\\\\n",
       "\\hline\n",
       "\\end{tabular}\n"
      ],
      "text/markdown": [
       "\n",
       "A tibble: 0 × 58\n",
       "\n",
       "| ...1 &lt;dbl&gt; | Date_InitialTag &lt;chr&gt; | Transect &lt;chr&gt; | TransectNum &lt;dbl&gt; | OldTagNum &lt;chr&gt; | NewTagNum &lt;chr&gt; | Species &lt;chr&gt; | Meter &lt;dbl&gt; | Meters_90 &lt;dbl&gt; | Direction &lt;chr&gt; | ⋯ ⋯ | 122024_Condition &lt;chr&gt; | 122024_Percentage &lt;chr&gt; | Notes_122024 &lt;chr&gt; | 062025_Condition &lt;chr&gt; | 062025_Percentage &lt;chr&gt; | Notes_062025 &lt;chr&gt; | immune_y/n &lt;chr&gt; | checked_colonies &lt;chr&gt; | colony_id &lt;chr&gt; | health_status &lt;chr&gt; |\n",
       "|---|---|---|---|---|---|---|---|---|---|---|---|---|---|---|---|---|---|---|---|---|\n",
       "\n"
      ],
      "text/plain": [
       "     ...1 Date_InitialTag Transect TransectNum OldTagNum NewTagNum Species\n",
       "     Meter Meters_90 Direction ⋯ 122024_Condition 122024_Percentage\n",
       "     Notes_122024 062025_Condition 062025_Percentage Notes_062025 immune_y/n\n",
       "     checked_colonies colony_id health_status"
      ]
     },
     "metadata": {},
     "output_type": "display_data"
    }
   ],
   "source": [
    "allsctld_colony %>%\n",
    "  filter(colony_id == 'T1_13_PAST')\n",
    "# where did this get filtered out??"
   ]
  },
  {
   "cell_type": "code",
   "execution_count": 70,
   "id": "f145a3fa-8429-4aee-ab6f-1de6ff1cb59d",
   "metadata": {},
   "outputs": [
    {
     "data": {
      "text/html": [
       "<table class=\"dataframe\">\n",
       "<caption>A tibble: 1 × 58</caption>\n",
       "<thead>\n",
       "\t<tr><th scope=col>...1</th><th scope=col>Date_InitialTag</th><th scope=col>Transect</th><th scope=col>TransectNum</th><th scope=col>OldTagNum</th><th scope=col>NewTagNum</th><th scope=col>Species</th><th scope=col>Meter</th><th scope=col>Meters_90</th><th scope=col>Direction</th><th scope=col>⋯</th><th scope=col>122024_Condition</th><th scope=col>122024_Percentage</th><th scope=col>Notes_122024</th><th scope=col>062025_Condition</th><th scope=col>062025_Percentage</th><th scope=col>Notes_062025</th><th scope=col>immune_y/n</th><th scope=col>checked_colonies</th><th scope=col>colony_id</th><th scope=col>health_status</th></tr>\n",
       "\t<tr><th scope=col>&lt;dbl&gt;</th><th scope=col>&lt;chr&gt;</th><th scope=col>&lt;chr&gt;</th><th scope=col>&lt;dbl&gt;</th><th scope=col>&lt;chr&gt;</th><th scope=col>&lt;chr&gt;</th><th scope=col>&lt;chr&gt;</th><th scope=col>&lt;dbl&gt;</th><th scope=col>&lt;dbl&gt;</th><th scope=col>&lt;chr&gt;</th><th scope=col>⋯</th><th scope=col>&lt;chr&gt;</th><th scope=col>&lt;chr&gt;</th><th scope=col>&lt;chr&gt;</th><th scope=col>&lt;chr&gt;</th><th scope=col>&lt;chr&gt;</th><th scope=col>&lt;chr&gt;</th><th scope=col>&lt;chr&gt;</th><th scope=col>&lt;chr&gt;</th><th scope=col>&lt;chr&gt;</th><th scope=col>&lt;chr&gt;</th></tr>\n",
       "</thead>\n",
       "<tbody>\n",
       "\t<tr><td>13</td><td>6/24/19</td><td>CBC30N</td><td>1</td><td>395</td><td>13</td><td>PAST</td><td>15.8</td><td>1.4</td><td>right</td><td>⋯</td><td>Dead</td><td>NA</td><td>5% mortality</td><td>NA</td><td>NA</td><td>NA</td><td>y</td><td>x</td><td>T1_13_PAST</td><td>Healthy</td></tr>\n",
       "</tbody>\n",
       "</table>\n"
      ],
      "text/latex": [
       "A tibble: 1 × 58\n",
       "\\begin{tabular}{lllllllllllllllllllll}\n",
       " ...1 & Date\\_InitialTag & Transect & TransectNum & OldTagNum & NewTagNum & Species & Meter & Meters\\_90 & Direction & ⋯ & 122024\\_Condition & 122024\\_Percentage & Notes\\_122024 & 062025\\_Condition & 062025\\_Percentage & Notes\\_062025 & immune\\_y/n & checked\\_colonies & colony\\_id & health\\_status\\\\\n",
       " <dbl> & <chr> & <chr> & <dbl> & <chr> & <chr> & <chr> & <dbl> & <dbl> & <chr> & ⋯ & <chr> & <chr> & <chr> & <chr> & <chr> & <chr> & <chr> & <chr> & <chr> & <chr>\\\\\n",
       "\\hline\n",
       "\t 13 & 6/24/19 & CBC30N & 1 & 395 & 13 & PAST & 15.8 & 1.4 & right & ⋯ & Dead & NA & 5\\% mortality & NA & NA & NA & y & x & T1\\_13\\_PAST & Healthy\\\\\n",
       "\\end{tabular}\n"
      ],
      "text/markdown": [
       "\n",
       "A tibble: 1 × 58\n",
       "\n",
       "| ...1 &lt;dbl&gt; | Date_InitialTag &lt;chr&gt; | Transect &lt;chr&gt; | TransectNum &lt;dbl&gt; | OldTagNum &lt;chr&gt; | NewTagNum &lt;chr&gt; | Species &lt;chr&gt; | Meter &lt;dbl&gt; | Meters_90 &lt;dbl&gt; | Direction &lt;chr&gt; | ⋯ ⋯ | 122024_Condition &lt;chr&gt; | 122024_Percentage &lt;chr&gt; | Notes_122024 &lt;chr&gt; | 062025_Condition &lt;chr&gt; | 062025_Percentage &lt;chr&gt; | Notes_062025 &lt;chr&gt; | immune_y/n &lt;chr&gt; | checked_colonies &lt;chr&gt; | colony_id &lt;chr&gt; | health_status &lt;chr&gt; |\n",
       "|---|---|---|---|---|---|---|---|---|---|---|---|---|---|---|---|---|---|---|---|---|\n",
       "| 13 | 6/24/19 | CBC30N | 1 | 395 | 13 | PAST | 15.8 | 1.4 | right | ⋯ | Dead | NA | 5% mortality | NA | NA | NA | y | x | T1_13_PAST | Healthy |\n",
       "\n"
      ],
      "text/plain": [
       "  ...1 Date_InitialTag Transect TransectNum OldTagNum NewTagNum Species Meter\n",
       "1 13   6/24/19         CBC30N   1           395       13        PAST    15.8 \n",
       "  Meters_90 Direction ⋯ 122024_Condition 122024_Percentage Notes_122024\n",
       "1 1.4       right     ⋯ Dead             NA                5% mortality\n",
       "  062025_Condition 062025_Percentage Notes_062025 immune_y/n checked_colonies\n",
       "1 NA               NA                NA           y          x               \n",
       "  colony_id  health_status\n",
       "1 T1_13_PAST Healthy      "
      ]
     },
     "metadata": {},
     "output_type": "display_data"
    }
   ],
   "source": [
    "sctld_colony %>%\n",
    "  filter(colony_id == 'T1_13_PAST')"
   ]
  },
  {
   "cell_type": "code",
   "execution_count": null,
   "id": "34df1359-c4af-4a0e-973d-474120f783fe",
   "metadata": {},
   "outputs": [],
   "source": []
  }
 ],
 "metadata": {
  "kernelspec": {
   "display_name": "R",
   "language": "R",
   "name": "ir"
  },
  "language_info": {
   "codemirror_mode": "r",
   "file_extension": ".r",
   "mimetype": "text/x-r-source",
   "name": "R",
   "pygments_lexer": "r",
   "version": "4.3.3"
  }
 },
 "nbformat": 4,
 "nbformat_minor": 5
}
