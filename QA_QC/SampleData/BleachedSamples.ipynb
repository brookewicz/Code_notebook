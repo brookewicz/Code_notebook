{
 "cells": [
  {
   "cell_type": "markdown",
   "id": "51e999fc-fbed-4961-8367-e975cbc57e04",
   "metadata": {},
   "source": [
    "# Bleaching samples"
   ]
  },
  {
   "cell_type": "markdown",
   "id": "0a775177-d4cf-4376-804e-ac9b1c7190d1",
   "metadata": {},
   "source": [
    "## update sample type \n",
    "- everything is healthy or diseased right now, \n",
    "-> change to bleached based sampling notes\n",
    "-> then crosscheck with colonydata?"
   ]
  },
  {
   "cell_type": "code",
   "execution_count": 1,
   "id": "5d37b563-903a-4b37-804a-ff376e1dcbc2",
   "metadata": {},
   "outputs": [],
   "source": [
    "import numpy as np\n",
    "import pandas as pd\n",
    "import os\n",
    "import re"
   ]
  },
  {
   "cell_type": "code",
   "execution_count": 2,
   "id": "3960991d-83ba-4c4b-8920-cbcc8f0464cd",
   "metadata": {},
   "outputs": [
    {
     "data": {
      "text/plain": [
       "'/Users/brookesienkiewicz/Documents/Code_notebook/QA_QC/SampleData'"
      ]
     },
     "execution_count": 2,
     "metadata": {},
     "output_type": "execute_result"
    }
   ],
   "source": [
    "os.getcwd() "
   ]
  },
  {
   "cell_type": "code",
   "execution_count": 3,
   "id": "5980c872-5898-484c-8e93-40da6fe0d461",
   "metadata": {},
   "outputs": [],
   "source": [
    "# upload sample and colony data \n",
    "sample=pd.read_csv('~/Documents/sctld/SCTLD_samples/Sample_Data/CBC_samples.csv')\n",
    "colony=pd.read_csv('~/Documents/sctld/SCTLD_samples/Sample_Data/CBC_ColonyData.csv')\n",
    "colony.drop(columns=\"Unnamed: 0\",inplace=True)"
   ]
  },
  {
   "cell_type": "code",
   "execution_count": 4,
   "id": "94d2c8e6-bd30-4693-aa9a-399f5bc74191",
   "metadata": {},
   "outputs": [
    {
     "data": {
      "text/plain": [
       "(2529, 20)"
      ]
     },
     "execution_count": 4,
     "metadata": {},
     "output_type": "execute_result"
    }
   ],
   "source": [
    "sample.shape"
   ]
  },
  {
   "cell_type": "markdown",
   "id": "07dbcd25-7c22-4a6c-af50-3b8fc3ffa64e",
   "metadata": {},
   "source": [
    "### Sample Fixes \n",
    "- first fix bad formatting/syntax "
   ]
  },
  {
   "cell_type": "code",
   "execution_count": 5,
   "id": "baba6a91-0833-4311-833f-efd4177ef887",
   "metadata": {},
   "outputs": [
    {
     "name": "stdout",
     "output_type": "stream",
     "text": [
      "['OFAV' 'SSID' 'PAST' 'PSTR' 'MCAV' 'OANN' 'DLAB' 'CNAT' 'DL' 'MMEA'\n",
      " 'PAST ' 'Unknown' 'OFAV ']\n"
     ]
    }
   ],
   "source": [
    "# make all species names uniform \n",
    "sample['Species'].unique()"
   ]
  },
  {
   "cell_type": "code",
   "execution_count": 6,
   "id": "d3b6c923-8565-473b-8945-bb86cff35b4b",
   "metadata": {},
   "outputs": [],
   "source": [
    "# Change OFAV/OANN variations to ORBI\n",
    "# already did this one \n",
    "\n",
    "# sample.loc[:,'Species']=sample['Species'].str.replace('OANN/OFAV?',\"ORBI\")\n",
    "# sample.loc[:,'Species']=sample['Species'].str.replace('OFAV/OANN',\"ORBI\")\n",
    "\n",
    "# Fix space in PAST in OFAV\n",
    "sample.loc[:,'Species']=sample['Species'].str.replace('PAST ',\"PAST\")\n",
    "sample.loc[:,'Species']=sample['Species'].str.replace('OFAV ',\"OFAV\")\n",
    "\n",
    "# Change 'DL' -> DLAB \n",
    "sample['Species'] = sample['Species'].replace('\\\\bDL\\\\b', 'DLAB', regex=True)"
   ]
  },
  {
   "cell_type": "code",
   "execution_count": 7,
   "id": "48819968-5890-4b50-985a-a0e64735f679",
   "metadata": {},
   "outputs": [
    {
     "name": "stdout",
     "output_type": "stream",
     "text": [
      "['OFAV' 'SSID' 'PAST' 'PSTR' 'MCAV' 'OANN' 'DLAB' 'CNAT' 'MMEA' 'Unknown']\n"
     ]
    }
   ],
   "source": [
    "# Check that changes worked and store specie names in list\n",
    "species_list=sample['Species'].unique()\n",
    "print(species_list)"
   ]
  },
  {
   "cell_type": "markdown",
   "id": "1f963953-e8ba-44e9-925a-9d5d2afaef66",
   "metadata": {},
   "source": [
    "### Add Bleaching sample type "
   ]
  },
  {
   "cell_type": "code",
   "execution_count": 11,
   "id": "3f9f5b4d-b13b-42e8-90f6-e739f66521cb",
   "metadata": {},
   "outputs": [],
   "source": [
    "# changed my mind..just replacing with colony health statuses since those are being reviewed \n",
    "\n",
    "# search for sampling notes with clp or clb \n",
    "\n",
    "#if col contains clb or clp \n",
    "# replace status with bleached tissue \n",
    "# but don't replace if sample type is diseased, want to manually look at those \n",
    "\n",
    "# sample.loc[\n",
    "#     sample['Sampling_notes'].str.contains('CLP|CLB', case=False, na=False) &\n",
    "#     ~sample['Health_status'].str.contains('Diseased',case=False),\n",
    "#     'Health_status']= 'Bleached_Tissue'\n",
    "\n",
    "# (code is in place replacement)"
   ]
  },
  {
   "cell_type": "code",
   "execution_count": 12,
   "id": "1d76abba-6d71-4ff3-86c8-b1ee4c2a7375",
   "metadata": {},
   "outputs": [],
   "source": [
    "# match sample type to colony statuses\n",
    "# got from my cbc_metagenomics code"
   ]
  },
  {
   "cell_type": "code",
   "execution_count": 13,
   "id": "7edaa6c5-a23d-4c50-a4ac-bc11636b9389",
   "metadata": {},
   "outputs": [],
   "source": [
    "# add colony ID - t# newtagnum species\n",
    "sample = sample.copy()\n",
    "sample['TransectNum_str'] = 'T' + sample['TransectNum'].astype(str)\n",
    "sample['colony_id'] = sample[['TransectNum_str', 'NewTagNum', 'Species']].astype(str).agg('_'.join, axis=1)\n",
    "sample.drop(columns='TransectNum_str', inplace=True)"
   ]
  },
  {
   "cell_type": "code",
   "execution_count": 14,
   "id": "8956474a-87bf-45d1-9168-0975098b1a7f",
   "metadata": {},
   "outputs": [],
   "source": [
    "# add colony ID - t# newtagnum species\n",
    "colony = colony.copy()\n",
    "colony['TransectNum_str'] = 'T' + colony['TransectNum'].astype(str)\n",
    "colony['colony_id'] = colony[['TransectNum_str', 'NewTagNum', 'Species']].astype(str).agg('_'.join, axis=1)\n",
    "colony.drop(columns='TransectNum_str', inplace=True)"
   ]
  },
  {
   "cell_type": "code",
   "execution_count": 15,
   "id": "becea29b-3269-41e5-8be2-1d83caac96d6",
   "metadata": {},
   "outputs": [],
   "source": [
    "## BELOW SCRIPT IS IN PROGRESS 8/20/2025 "
   ]
  },
  {
   "cell_type": "code",
   "execution_count": 16,
   "id": "4ee38a8e-3865-4d69-bdba-989dac915993",
   "metadata": {},
   "outputs": [
    {
     "data": {
      "text/plain": [
       "array(['Core_frozen', 'Core_RNAlater', 'Core_EtOH', 'Probiotics',\n",
       "       'Immune', 'TEM', nan, 'Syringe'], dtype=object)"
      ]
     },
     "execution_count": 16,
     "metadata": {},
     "output_type": "execute_result"
    }
   ],
   "source": [
    "sample['Sample_type'].unique()"
   ]
  },
  {
   "cell_type": "code",
   "execution_count": 17,
   "id": "2103baf0-a9a4-470a-a167-5654aa092434",
   "metadata": {},
   "outputs": [],
   "source": [
    "# filter samples\n",
    "sample_subset=sample[\n",
    "    (sample['Sample_type'] == 'Core_EtOH') |\n",
    "    (sample['Sample_type'] == 'Core_RNAlater') |\n",
    "    (sample['Sample_type'] == 'Core_frozen') |\n",
    "    (sample['Sample_type'] == 'Immune') \n",
    "]"
   ]
  },
  {
   "cell_type": "code",
   "execution_count": 18,
   "id": "38fe44c6-1e9d-4416-a9c9-2f76cf63ce72",
   "metadata": {},
   "outputs": [],
   "source": [
    "# extract condition columns \n",
    "cond_cols=['colony_id'] + colony.columns[colony.columns.str.contains('_Condition')].tolist()"
   ]
  },
  {
   "cell_type": "code",
   "execution_count": 19,
   "id": "bc50194a-934f-4002-8adf-e3ba33367e63",
   "metadata": {},
   "outputs": [],
   "source": [
    "# make merged df for everything\n",
    "\n",
    "# filter colony data for conditions \n",
    "small_colony=colony.loc[:,cond_cols]\n",
    "\n",
    "# and pivot\n",
    "conditions_long=small_colony.melt(id_vars='colony_id', \n",
    "                          var_name='Month_year', \n",
    "                          value_name='colony_condition')\n",
    "\n",
    "# extract month_year from column names to match sample data format\n",
    "conditions_long['Month_year'] = conditions_long['Month_year'].str.extract(r'(\\d+)').astype(int)\n",
    "# add back in colony data \n",
    "cols_keep=['colony_id','Date_InitialTag','Transect','Species','immune_y/n','Date_DocumentedMortality']\n",
    "colony_filtered=conditions_long.merge(colony[cols_keep],\n",
    "                                      on='colony_id', \n",
    "                                      how='left')\n",
    "\n",
    "# filter sample data (USING SUBSET FOR NOW) \n",
    "filtered_samples=sample_subset.loc[:,('colony_id','Month_year','Health_status','Sampling_notes','Tubelabel_species','Sample_type')] \n",
    "# rename column for sample health statuses \n",
    "filtered_samples = filtered_samples.rename(columns={'Health_status': 'sample_condition'})\n",
    "\n",
    "# merge colony and sample dfs by colony id and monthyear\n",
    "merged = pd.merge(\n",
    "    colony_filtered,\n",
    "    filtered_samples,\n",
    "    on=['colony_id', 'Month_year'],\n",
    "    how='outer'\n",
    ")\n",
    "\n",
    "# remove rows with no sample \n",
    "merged=merged[merged['Tubelabel_species'].notna()]"
   ]
  },
  {
   "cell_type": "code",
   "execution_count": 21,
   "id": "f110bc44-1b18-415c-b2cf-11cd56582e05",
   "metadata": {},
   "outputs": [
    {
     "data": {
      "text/html": [
       "<div>\n",
       "<style scoped>\n",
       "    .dataframe tbody tr th:only-of-type {\n",
       "        vertical-align: middle;\n",
       "    }\n",
       "\n",
       "    .dataframe tbody tr th {\n",
       "        vertical-align: top;\n",
       "    }\n",
       "\n",
       "    .dataframe thead th {\n",
       "        text-align: right;\n",
       "    }\n",
       "</style>\n",
       "<table border=\"1\" class=\"dataframe\">\n",
       "  <thead>\n",
       "    <tr style=\"text-align: right;\">\n",
       "      <th></th>\n",
       "      <th>colony_id</th>\n",
       "      <th>Month_year</th>\n",
       "      <th>colony_condition</th>\n",
       "      <th>Date_InitialTag</th>\n",
       "      <th>Transect</th>\n",
       "      <th>Species</th>\n",
       "      <th>immune_y/n</th>\n",
       "      <th>Date_DocumentedMortality</th>\n",
       "      <th>sample_condition</th>\n",
       "      <th>Sampling_notes</th>\n",
       "      <th>Tubelabel_species</th>\n",
       "      <th>Sample_type</th>\n",
       "    </tr>\n",
       "  </thead>\n",
       "  <tbody>\n",
       "    <tr>\n",
       "      <th>419</th>\n",
       "      <td>T1_2_PAST</td>\n",
       "      <td>92023</td>\n",
       "      <td>CLP,CLB</td>\n",
       "      <td>6/21/19</td>\n",
       "      <td>CBC30N</td>\n",
       "      <td>PAST</td>\n",
       "      <td>y</td>\n",
       "      <td>Healthy</td>\n",
       "      <td>Healthy</td>\n",
       "      <td>CLP 90%</td>\n",
       "      <td>092023_BEL_CBC_T1_171_PAST</td>\n",
       "      <td>Core_RNAlater</td>\n",
       "    </tr>\n",
       "    <tr>\n",
       "      <th>420</th>\n",
       "      <td>T1_2_PAST</td>\n",
       "      <td>92023</td>\n",
       "      <td>CLP,CLB</td>\n",
       "      <td>6/21/19</td>\n",
       "      <td>CBC30N</td>\n",
       "      <td>PAST</td>\n",
       "      <td>y</td>\n",
       "      <td>Healthy</td>\n",
       "      <td>Healthy</td>\n",
       "      <td>CLP 90%</td>\n",
       "      <td>092023_BEL_CBC_T1_221_PAST</td>\n",
       "      <td>Core_frozen</td>\n",
       "    </tr>\n",
       "    <tr>\n",
       "      <th>421</th>\n",
       "      <td>T1_2_PAST</td>\n",
       "      <td>92023</td>\n",
       "      <td>CLP,CLB</td>\n",
       "      <td>6/21/19</td>\n",
       "      <td>CBC30N</td>\n",
       "      <td>PAST</td>\n",
       "      <td>y</td>\n",
       "      <td>Healthy</td>\n",
       "      <td>Healthy</td>\n",
       "      <td>CLP 90%</td>\n",
       "      <td>092023_BEL_CBC_T1_251_PAST</td>\n",
       "      <td>Immune</td>\n",
       "    </tr>\n",
       "  </tbody>\n",
       "</table>\n",
       "</div>"
      ],
      "text/plain": [
       "     colony_id  Month_year colony_condition Date_InitialTag Transect Species  \\\n",
       "419  T1_2_PAST       92023          CLP,CLB         6/21/19   CBC30N    PAST   \n",
       "420  T1_2_PAST       92023          CLP,CLB         6/21/19   CBC30N    PAST   \n",
       "421  T1_2_PAST       92023          CLP,CLB         6/21/19   CBC30N    PAST   \n",
       "\n",
       "    immune_y/n Date_DocumentedMortality sample_condition Sampling_notes  \\\n",
       "419          y                  Healthy          Healthy        CLP 90%   \n",
       "420          y                  Healthy          Healthy        CLP 90%   \n",
       "421          y                  Healthy          Healthy        CLP 90%   \n",
       "\n",
       "              Tubelabel_species    Sample_type  \n",
       "419  092023_BEL_CBC_T1_171_PAST  Core_RNAlater  \n",
       "420  092023_BEL_CBC_T1_221_PAST    Core_frozen  \n",
       "421  092023_BEL_CBC_T1_251_PAST         Immune  "
      ]
     },
     "execution_count": 21,
     "metadata": {},
     "output_type": "execute_result"
    }
   ],
   "source": [
    "merged.loc[(merged['colony_id']=='T1_2_PAST') & \n",
    "    (merged['Month_year']==92023),:]"
   ]
  },
  {
   "cell_type": "code",
   "execution_count": 22,
   "id": "25a0e2fa-56a5-4ab0-a1d0-65ea359e7148",
   "metadata": {},
   "outputs": [],
   "source": [
    "# make merged df for everything (not just by species) and use code below \n",
    "\n",
    "# if sample id is not na, colony condition is CLP/CLB and sample status is healthy, \n",
    "# replace sample status to bleached_tissue \n",
    "# then somehow replace original sample data? maybe just by matching tubelabel?\n",
    "\n",
    "bl_conds = ['CLP','CLB','CLP,CLB','CLB,CLP']\n",
    "disease= ['Diseased_Tissue', 'Diseased_Margin']\n",
    "\n",
    "# get rows with no samples \n",
    "# rows_na = (merged['sample_ids'].explode().isna().groupby(level=0).any())\n",
    "\n",
    "# get rows with clp/clb conditions \n",
    "rows = (merged['colony_condition'].isin(bl_conds) &\n",
    "        # exclude rows with no samples \n",
    "        # merged['Tubelabel_species'].notna() # (already added this during merging)\n",
    "        \n",
    "        # only when condition is healthy (don't want to override diseased-tissue)\n",
    "        ~merged['sample_condition'].isin(disease))\n",
    "\n",
    "# update only those rows with bleached sample status \n",
    "merged.loc[rows, 'sample_condition'] = 'Bleached_Tissue'"
   ]
  },
  {
   "cell_type": "code",
   "execution_count": 24,
   "id": "ccb654b6-5a95-4bed-923e-b58ea773afe5",
   "metadata": {},
   "outputs": [
    {
     "data": {
      "text/html": [
       "<div>\n",
       "<style scoped>\n",
       "    .dataframe tbody tr th:only-of-type {\n",
       "        vertical-align: middle;\n",
       "    }\n",
       "\n",
       "    .dataframe tbody tr th {\n",
       "        vertical-align: top;\n",
       "    }\n",
       "\n",
       "    .dataframe thead th {\n",
       "        text-align: right;\n",
       "    }\n",
       "</style>\n",
       "<table border=\"1\" class=\"dataframe\">\n",
       "  <thead>\n",
       "    <tr style=\"text-align: right;\">\n",
       "      <th></th>\n",
       "      <th>colony_id</th>\n",
       "      <th>Month_year</th>\n",
       "      <th>colony_condition</th>\n",
       "      <th>Date_InitialTag</th>\n",
       "      <th>Transect</th>\n",
       "      <th>Species</th>\n",
       "      <th>immune_y/n</th>\n",
       "      <th>Date_DocumentedMortality</th>\n",
       "      <th>sample_condition</th>\n",
       "      <th>Sampling_notes</th>\n",
       "      <th>Tubelabel_species</th>\n",
       "      <th>Sample_type</th>\n",
       "    </tr>\n",
       "  </thead>\n",
       "  <tbody>\n",
       "    <tr>\n",
       "      <th>419</th>\n",
       "      <td>T1_2_PAST</td>\n",
       "      <td>92023</td>\n",
       "      <td>CLP,CLB</td>\n",
       "      <td>6/21/19</td>\n",
       "      <td>CBC30N</td>\n",
       "      <td>PAST</td>\n",
       "      <td>y</td>\n",
       "      <td>Healthy</td>\n",
       "      <td>Bleached_Tissue</td>\n",
       "      <td>CLP 90%</td>\n",
       "      <td>092023_BEL_CBC_T1_171_PAST</td>\n",
       "      <td>Core_RNAlater</td>\n",
       "    </tr>\n",
       "    <tr>\n",
       "      <th>420</th>\n",
       "      <td>T1_2_PAST</td>\n",
       "      <td>92023</td>\n",
       "      <td>CLP,CLB</td>\n",
       "      <td>6/21/19</td>\n",
       "      <td>CBC30N</td>\n",
       "      <td>PAST</td>\n",
       "      <td>y</td>\n",
       "      <td>Healthy</td>\n",
       "      <td>Bleached_Tissue</td>\n",
       "      <td>CLP 90%</td>\n",
       "      <td>092023_BEL_CBC_T1_221_PAST</td>\n",
       "      <td>Core_frozen</td>\n",
       "    </tr>\n",
       "    <tr>\n",
       "      <th>421</th>\n",
       "      <td>T1_2_PAST</td>\n",
       "      <td>92023</td>\n",
       "      <td>CLP,CLB</td>\n",
       "      <td>6/21/19</td>\n",
       "      <td>CBC30N</td>\n",
       "      <td>PAST</td>\n",
       "      <td>y</td>\n",
       "      <td>Healthy</td>\n",
       "      <td>Bleached_Tissue</td>\n",
       "      <td>CLP 90%</td>\n",
       "      <td>092023_BEL_CBC_T1_251_PAST</td>\n",
       "      <td>Immune</td>\n",
       "    </tr>\n",
       "  </tbody>\n",
       "</table>\n",
       "</div>"
      ],
      "text/plain": [
       "     colony_id  Month_year colony_condition Date_InitialTag Transect Species  \\\n",
       "419  T1_2_PAST       92023          CLP,CLB         6/21/19   CBC30N    PAST   \n",
       "420  T1_2_PAST       92023          CLP,CLB         6/21/19   CBC30N    PAST   \n",
       "421  T1_2_PAST       92023          CLP,CLB         6/21/19   CBC30N    PAST   \n",
       "\n",
       "    immune_y/n Date_DocumentedMortality sample_condition Sampling_notes  \\\n",
       "419          y                  Healthy  Bleached_Tissue        CLP 90%   \n",
       "420          y                  Healthy  Bleached_Tissue        CLP 90%   \n",
       "421          y                  Healthy  Bleached_Tissue        CLP 90%   \n",
       "\n",
       "              Tubelabel_species    Sample_type  \n",
       "419  092023_BEL_CBC_T1_171_PAST  Core_RNAlater  \n",
       "420  092023_BEL_CBC_T1_221_PAST    Core_frozen  \n",
       "421  092023_BEL_CBC_T1_251_PAST         Immune  "
      ]
     },
     "execution_count": 24,
     "metadata": {},
     "output_type": "execute_result"
    }
   ],
   "source": [
    "merged.loc[(merged['colony_id']=='T1_2_PAST') & \n",
    "    (merged['Month_year']==92023),:]\n",
    "# check it worked"
   ]
  },
  {
   "cell_type": "code",
   "execution_count": 26,
   "id": "2fad7579-5835-42f5-b3f8-4669d609d5f3",
   "metadata": {},
   "outputs": [
    {
     "data": {
      "text/html": [
       "<div>\n",
       "<style scoped>\n",
       "    .dataframe tbody tr th:only-of-type {\n",
       "        vertical-align: middle;\n",
       "    }\n",
       "\n",
       "    .dataframe tbody tr th {\n",
       "        vertical-align: top;\n",
       "    }\n",
       "\n",
       "    .dataframe thead th {\n",
       "        text-align: right;\n",
       "    }\n",
       "</style>\n",
       "<table border=\"1\" class=\"dataframe\">\n",
       "  <thead>\n",
       "    <tr style=\"text-align: right;\">\n",
       "      <th></th>\n",
       "      <th>colony_id</th>\n",
       "      <th>Month_year</th>\n",
       "      <th>colony_condition</th>\n",
       "      <th>Date_InitialTag</th>\n",
       "      <th>Transect</th>\n",
       "      <th>Species</th>\n",
       "      <th>immune_y/n</th>\n",
       "      <th>Date_DocumentedMortality</th>\n",
       "      <th>sample_condition</th>\n",
       "      <th>Sampling_notes</th>\n",
       "      <th>Tubelabel_species</th>\n",
       "      <th>Sample_type</th>\n",
       "    </tr>\n",
       "  </thead>\n",
       "  <tbody>\n",
       "  </tbody>\n",
       "</table>\n",
       "</div>"
      ],
      "text/plain": [
       "Empty DataFrame\n",
       "Columns: [colony_id, Month_year, colony_condition, Date_InitialTag, Transect, Species, immune_y/n, Date_DocumentedMortality, sample_condition, Sampling_notes, Tubelabel_species, Sample_type]\n",
       "Index: []"
      ]
     },
     "execution_count": 26,
     "metadata": {},
     "output_type": "execute_result"
    }
   ],
   "source": [
    "# check for duplicates in merged\n",
    "dup_mask = merged.duplicated(subset=['colony_id','Tubelabel_species','Month_year','Sample_type'], keep=False)\n",
    "duplicates = merged[dup_mask]\n",
    "\n",
    "duplicates"
   ]
  },
  {
   "cell_type": "code",
   "execution_count": 31,
   "id": "ce486a27-d794-4371-a8d8-335ce5bd69e7",
   "metadata": {},
   "outputs": [
    {
     "data": {
      "text/html": [
       "<div>\n",
       "<style scoped>\n",
       "    .dataframe tbody tr th:only-of-type {\n",
       "        vertical-align: middle;\n",
       "    }\n",
       "\n",
       "    .dataframe tbody tr th {\n",
       "        vertical-align: top;\n",
       "    }\n",
       "\n",
       "    .dataframe thead th {\n",
       "        text-align: right;\n",
       "    }\n",
       "</style>\n",
       "<table border=\"1\" class=\"dataframe\">\n",
       "  <thead>\n",
       "    <tr style=\"text-align: right;\">\n",
       "      <th></th>\n",
       "      <th>Month_year</th>\n",
       "      <th>Country</th>\n",
       "      <th>Location</th>\n",
       "      <th>CollectionDate</th>\n",
       "      <th>Transect</th>\n",
       "      <th>TransectNum</th>\n",
       "      <th>OldTagNum</th>\n",
       "      <th>NewTagNum</th>\n",
       "      <th>Species</th>\n",
       "      <th>Time_sampled</th>\n",
       "      <th>...</th>\n",
       "      <th>SampleNum</th>\n",
       "      <th>Health_status</th>\n",
       "      <th>Sampling_notes</th>\n",
       "      <th>Tubelabel_species</th>\n",
       "      <th>Sample_physical_location</th>\n",
       "      <th>Extraction_physical_location</th>\n",
       "      <th>Date_sequenced</th>\n",
       "      <th>Notes</th>\n",
       "      <th>colony_id</th>\n",
       "      <th>sample_condition</th>\n",
       "    </tr>\n",
       "  </thead>\n",
       "  <tbody>\n",
       "    <tr>\n",
       "      <th>0</th>\n",
       "      <td>122022</td>\n",
       "      <td>BEL</td>\n",
       "      <td>CBC</td>\n",
       "      <td>12/5/22</td>\n",
       "      <td>CURLEW</td>\n",
       "      <td>4</td>\n",
       "      <td>NaN</td>\n",
       "      <td>77</td>\n",
       "      <td>OFAV</td>\n",
       "      <td>NaN</td>\n",
       "      <td>...</td>\n",
       "      <td>18</td>\n",
       "      <td>Healthy</td>\n",
       "      <td>NaN</td>\n",
       "      <td>122022_BEL_CBC_T4_18_OFAV</td>\n",
       "      <td>NaN</td>\n",
       "      <td>NaN</td>\n",
       "      <td>NaN</td>\n",
       "      <td>NaN</td>\n",
       "      <td>T4_77_OFAV</td>\n",
       "      <td>Healthy</td>\n",
       "    </tr>\n",
       "    <tr>\n",
       "      <th>1</th>\n",
       "      <td>92023</td>\n",
       "      <td>BEL</td>\n",
       "      <td>CBC</td>\n",
       "      <td>9/27/23</td>\n",
       "      <td>CBC30N</td>\n",
       "      <td>1</td>\n",
       "      <td>NaN</td>\n",
       "      <td>1</td>\n",
       "      <td>SSID</td>\n",
       "      <td>NaN</td>\n",
       "      <td>...</td>\n",
       "      <td>185</td>\n",
       "      <td>Diseased_Margin</td>\n",
       "      <td>only margin sample available</td>\n",
       "      <td>092023_BEL_CBC_T1_185_SSID</td>\n",
       "      <td>UML_NARWHAL_R1_B10</td>\n",
       "      <td>NaN</td>\n",
       "      <td>NaN</td>\n",
       "      <td>NaN</td>\n",
       "      <td>T1_1_SSID</td>\n",
       "      <td>Diseased_Margin</td>\n",
       "    </tr>\n",
       "    <tr>\n",
       "      <th>2</th>\n",
       "      <td>92023</td>\n",
       "      <td>BEL</td>\n",
       "      <td>CBC</td>\n",
       "      <td>9/25/23</td>\n",
       "      <td>CBC30N</td>\n",
       "      <td>1</td>\n",
       "      <td>NaN</td>\n",
       "      <td>2</td>\n",
       "      <td>PAST</td>\n",
       "      <td>NaN</td>\n",
       "      <td>...</td>\n",
       "      <td>171</td>\n",
       "      <td>Healthy</td>\n",
       "      <td>CLP 90%</td>\n",
       "      <td>092023_BEL_CBC_T1_171_PAST</td>\n",
       "      <td>UML_NARWHAL_R1_B10</td>\n",
       "      <td>UML_NARWHAL_R2_B12</td>\n",
       "      <td>NaN</td>\n",
       "      <td>NaN</td>\n",
       "      <td>T1_2_PAST</td>\n",
       "      <td>Bleached_Tissue</td>\n",
       "    </tr>\n",
       "    <tr>\n",
       "      <th>3</th>\n",
       "      <td>92023</td>\n",
       "      <td>BEL</td>\n",
       "      <td>CBC</td>\n",
       "      <td>9/25/23</td>\n",
       "      <td>CBC30N</td>\n",
       "      <td>1</td>\n",
       "      <td>NaN</td>\n",
       "      <td>3</td>\n",
       "      <td>SSID</td>\n",
       "      <td>NaN</td>\n",
       "      <td>...</td>\n",
       "      <td>173</td>\n",
       "      <td>Healthy</td>\n",
       "      <td>CLP 80%; DC 20%</td>\n",
       "      <td>092023_BEL_CBC_T1_173_SSID</td>\n",
       "      <td>UML_NARWHAL_R1_B10</td>\n",
       "      <td>UML_NARWHAL_R2_B12</td>\n",
       "      <td>NaN</td>\n",
       "      <td>NaN</td>\n",
       "      <td>T1_3_SSID</td>\n",
       "      <td>Healthy</td>\n",
       "    </tr>\n",
       "    <tr>\n",
       "      <th>4</th>\n",
       "      <td>92023</td>\n",
       "      <td>BEL</td>\n",
       "      <td>CBC</td>\n",
       "      <td>9/25/23</td>\n",
       "      <td>CBC30N</td>\n",
       "      <td>1</td>\n",
       "      <td>NaN</td>\n",
       "      <td>12</td>\n",
       "      <td>PSTR</td>\n",
       "      <td>NaN</td>\n",
       "      <td>...</td>\n",
       "      <td>177</td>\n",
       "      <td>Healthy</td>\n",
       "      <td>No CL</td>\n",
       "      <td>092023_BEL_CBC_T1_177_PSTR</td>\n",
       "      <td>UML_NARWHAL_R1_B10</td>\n",
       "      <td>UML_NARWHAL_R2_B12</td>\n",
       "      <td>NaN</td>\n",
       "      <td>NaN</td>\n",
       "      <td>T1_12_PSTR</td>\n",
       "      <td>Healthy</td>\n",
       "    </tr>\n",
       "  </tbody>\n",
       "</table>\n",
       "<p>5 rows × 22 columns</p>\n",
       "</div>"
      ],
      "text/plain": [
       "   Month_year Country Location CollectionDate Transect  TransectNum OldTagNum  \\\n",
       "0      122022     BEL      CBC        12/5/22   CURLEW            4       NaN   \n",
       "1       92023     BEL      CBC        9/27/23   CBC30N            1       NaN   \n",
       "2       92023     BEL      CBC        9/25/23   CBC30N            1       NaN   \n",
       "3       92023     BEL      CBC        9/25/23   CBC30N            1       NaN   \n",
       "4       92023     BEL      CBC        9/25/23   CBC30N            1       NaN   \n",
       "\n",
       "  NewTagNum Species Time_sampled  ... SampleNum    Health_status  \\\n",
       "0        77    OFAV          NaN  ...        18          Healthy   \n",
       "1         1    SSID          NaN  ...       185  Diseased_Margin   \n",
       "2         2    PAST          NaN  ...       171          Healthy   \n",
       "3         3    SSID          NaN  ...       173          Healthy   \n",
       "4        12    PSTR          NaN  ...       177          Healthy   \n",
       "\n",
       "                 Sampling_notes           Tubelabel_species  \\\n",
       "0                           NaN   122022_BEL_CBC_T4_18_OFAV   \n",
       "1  only margin sample available  092023_BEL_CBC_T1_185_SSID   \n",
       "2                       CLP 90%  092023_BEL_CBC_T1_171_PAST   \n",
       "3               CLP 80%; DC 20%  092023_BEL_CBC_T1_173_SSID   \n",
       "4                         No CL  092023_BEL_CBC_T1_177_PSTR   \n",
       "\n",
       "  Sample_physical_location Extraction_physical_location Date_sequenced Notes  \\\n",
       "0                      NaN                          NaN            NaN   NaN   \n",
       "1       UML_NARWHAL_R1_B10                          NaN            NaN   NaN   \n",
       "2       UML_NARWHAL_R1_B10           UML_NARWHAL_R2_B12            NaN   NaN   \n",
       "3       UML_NARWHAL_R1_B10           UML_NARWHAL_R2_B12            NaN   NaN   \n",
       "4       UML_NARWHAL_R1_B10           UML_NARWHAL_R2_B12            NaN   NaN   \n",
       "\n",
       "    colony_id sample_condition  \n",
       "0  T4_77_OFAV          Healthy  \n",
       "1   T1_1_SSID  Diseased_Margin  \n",
       "2   T1_2_PAST  Bleached_Tissue  \n",
       "3   T1_3_SSID          Healthy  \n",
       "4  T1_12_PSTR          Healthy  \n",
       "\n",
       "[5 rows x 22 columns]"
      ]
     },
     "execution_count": 31,
     "metadata": {},
     "output_type": "execute_result"
    }
   ],
   "source": [
    "# export changes to sctld_samples\n",
    "test=sample.merge(\n",
    "    merged[['colony_id','Tubelabel_species','sample_condition','Month_year','Sample_type']],\n",
    "    on=['colony_id', 'Tubelabel_species','Month_year','Sample_type'],\n",
    "    how='left')\n",
    "test.head()"
   ]
  },
  {
   "cell_type": "code",
   "execution_count": 32,
   "id": "aace0626-77ab-490e-9043-6661dcfecb3e",
   "metadata": {},
   "outputs": [
    {
     "data": {
      "text/plain": [
       "(2529, 22)"
      ]
     },
     "execution_count": 32,
     "metadata": {},
     "output_type": "execute_result"
    }
   ],
   "source": [
    "test.shape"
   ]
  },
  {
   "cell_type": "code",
   "execution_count": 34,
   "id": "e32e30d4-896e-48ed-be70-8dedc72e3502",
   "metadata": {},
   "outputs": [],
   "source": [
    "# update only where there's a change\n",
    "rows = test['sample_condition'].notna() & (test['Health_status'] != test['sample_condition'])\n",
    "\n",
    "test.loc[rows, 'Health_status'] = test.loc[rows, 'sample_condition']"
   ]
  },
  {
   "cell_type": "code",
   "execution_count": 35,
   "id": "7b887e3b-c539-4676-8181-bf213a4baca7",
   "metadata": {},
   "outputs": [],
   "source": [
    "# drop new cols\n",
    "test = test.drop(columns=['sample_condition','colony_id'])"
   ]
  },
  {
   "cell_type": "code",
   "execution_count": 36,
   "id": "421e0b2e-e1f0-42ea-979e-7ad5d93be934",
   "metadata": {},
   "outputs": [
    {
     "data": {
      "text/html": [
       "<div>\n",
       "<style scoped>\n",
       "    .dataframe tbody tr th:only-of-type {\n",
       "        vertical-align: middle;\n",
       "    }\n",
       "\n",
       "    .dataframe tbody tr th {\n",
       "        vertical-align: top;\n",
       "    }\n",
       "\n",
       "    .dataframe thead th {\n",
       "        text-align: right;\n",
       "    }\n",
       "</style>\n",
       "<table border=\"1\" class=\"dataframe\">\n",
       "  <thead>\n",
       "    <tr style=\"text-align: right;\">\n",
       "      <th></th>\n",
       "      <th>Month_year</th>\n",
       "      <th>Country</th>\n",
       "      <th>Location</th>\n",
       "      <th>CollectionDate</th>\n",
       "      <th>Transect</th>\n",
       "      <th>TransectNum</th>\n",
       "      <th>OldTagNum</th>\n",
       "      <th>NewTagNum</th>\n",
       "      <th>Species</th>\n",
       "      <th>Time_sampled</th>\n",
       "      <th>Time_processed</th>\n",
       "      <th>Sample_type</th>\n",
       "      <th>SampleNum</th>\n",
       "      <th>Health_status</th>\n",
       "      <th>Sampling_notes</th>\n",
       "      <th>Tubelabel_species</th>\n",
       "      <th>Sample_physical_location</th>\n",
       "      <th>Extraction_physical_location</th>\n",
       "      <th>Date_sequenced</th>\n",
       "      <th>Notes</th>\n",
       "    </tr>\n",
       "  </thead>\n",
       "  <tbody>\n",
       "    <tr>\n",
       "      <th>0</th>\n",
       "      <td>122022</td>\n",
       "      <td>BEL</td>\n",
       "      <td>CBC</td>\n",
       "      <td>12/5/22</td>\n",
       "      <td>CURLEW</td>\n",
       "      <td>4</td>\n",
       "      <td>NaN</td>\n",
       "      <td>77</td>\n",
       "      <td>OFAV</td>\n",
       "      <td>NaN</td>\n",
       "      <td>NaN</td>\n",
       "      <td>Core_frozen</td>\n",
       "      <td>18</td>\n",
       "      <td>Healthy</td>\n",
       "      <td>NaN</td>\n",
       "      <td>122022_BEL_CBC_T4_18_OFAV</td>\n",
       "      <td>NaN</td>\n",
       "      <td>NaN</td>\n",
       "      <td>NaN</td>\n",
       "      <td>NaN</td>\n",
       "    </tr>\n",
       "    <tr>\n",
       "      <th>1</th>\n",
       "      <td>92023</td>\n",
       "      <td>BEL</td>\n",
       "      <td>CBC</td>\n",
       "      <td>9/27/23</td>\n",
       "      <td>CBC30N</td>\n",
       "      <td>1</td>\n",
       "      <td>NaN</td>\n",
       "      <td>1</td>\n",
       "      <td>SSID</td>\n",
       "      <td>NaN</td>\n",
       "      <td>NaN</td>\n",
       "      <td>Core_RNAlater</td>\n",
       "      <td>185</td>\n",
       "      <td>Diseased_Margin</td>\n",
       "      <td>only margin sample available</td>\n",
       "      <td>092023_BEL_CBC_T1_185_SSID</td>\n",
       "      <td>UML_NARWHAL_R1_B10</td>\n",
       "      <td>NaN</td>\n",
       "      <td>NaN</td>\n",
       "      <td>NaN</td>\n",
       "    </tr>\n",
       "    <tr>\n",
       "      <th>2</th>\n",
       "      <td>92023</td>\n",
       "      <td>BEL</td>\n",
       "      <td>CBC</td>\n",
       "      <td>9/25/23</td>\n",
       "      <td>CBC30N</td>\n",
       "      <td>1</td>\n",
       "      <td>NaN</td>\n",
       "      <td>2</td>\n",
       "      <td>PAST</td>\n",
       "      <td>NaN</td>\n",
       "      <td>NaN</td>\n",
       "      <td>Core_RNAlater</td>\n",
       "      <td>171</td>\n",
       "      <td>Bleached_Tissue</td>\n",
       "      <td>CLP 90%</td>\n",
       "      <td>092023_BEL_CBC_T1_171_PAST</td>\n",
       "      <td>UML_NARWHAL_R1_B10</td>\n",
       "      <td>UML_NARWHAL_R2_B12</td>\n",
       "      <td>NaN</td>\n",
       "      <td>NaN</td>\n",
       "    </tr>\n",
       "    <tr>\n",
       "      <th>3</th>\n",
       "      <td>92023</td>\n",
       "      <td>BEL</td>\n",
       "      <td>CBC</td>\n",
       "      <td>9/25/23</td>\n",
       "      <td>CBC30N</td>\n",
       "      <td>1</td>\n",
       "      <td>NaN</td>\n",
       "      <td>3</td>\n",
       "      <td>SSID</td>\n",
       "      <td>NaN</td>\n",
       "      <td>NaN</td>\n",
       "      <td>Core_RNAlater</td>\n",
       "      <td>173</td>\n",
       "      <td>Healthy</td>\n",
       "      <td>CLP 80%; DC 20%</td>\n",
       "      <td>092023_BEL_CBC_T1_173_SSID</td>\n",
       "      <td>UML_NARWHAL_R1_B10</td>\n",
       "      <td>UML_NARWHAL_R2_B12</td>\n",
       "      <td>NaN</td>\n",
       "      <td>NaN</td>\n",
       "    </tr>\n",
       "    <tr>\n",
       "      <th>4</th>\n",
       "      <td>92023</td>\n",
       "      <td>BEL</td>\n",
       "      <td>CBC</td>\n",
       "      <td>9/25/23</td>\n",
       "      <td>CBC30N</td>\n",
       "      <td>1</td>\n",
       "      <td>NaN</td>\n",
       "      <td>12</td>\n",
       "      <td>PSTR</td>\n",
       "      <td>NaN</td>\n",
       "      <td>NaN</td>\n",
       "      <td>Core_RNAlater</td>\n",
       "      <td>177</td>\n",
       "      <td>Healthy</td>\n",
       "      <td>No CL</td>\n",
       "      <td>092023_BEL_CBC_T1_177_PSTR</td>\n",
       "      <td>UML_NARWHAL_R1_B10</td>\n",
       "      <td>UML_NARWHAL_R2_B12</td>\n",
       "      <td>NaN</td>\n",
       "      <td>NaN</td>\n",
       "    </tr>\n",
       "  </tbody>\n",
       "</table>\n",
       "</div>"
      ],
      "text/plain": [
       "   Month_year Country Location CollectionDate Transect  TransectNum OldTagNum  \\\n",
       "0      122022     BEL      CBC        12/5/22   CURLEW            4       NaN   \n",
       "1       92023     BEL      CBC        9/27/23   CBC30N            1       NaN   \n",
       "2       92023     BEL      CBC        9/25/23   CBC30N            1       NaN   \n",
       "3       92023     BEL      CBC        9/25/23   CBC30N            1       NaN   \n",
       "4       92023     BEL      CBC        9/25/23   CBC30N            1       NaN   \n",
       "\n",
       "  NewTagNum Species Time_sampled Time_processed    Sample_type SampleNum  \\\n",
       "0        77    OFAV          NaN            NaN    Core_frozen        18   \n",
       "1         1    SSID          NaN            NaN  Core_RNAlater       185   \n",
       "2         2    PAST          NaN            NaN  Core_RNAlater       171   \n",
       "3         3    SSID          NaN            NaN  Core_RNAlater       173   \n",
       "4        12    PSTR          NaN            NaN  Core_RNAlater       177   \n",
       "\n",
       "     Health_status                Sampling_notes           Tubelabel_species  \\\n",
       "0          Healthy                           NaN   122022_BEL_CBC_T4_18_OFAV   \n",
       "1  Diseased_Margin  only margin sample available  092023_BEL_CBC_T1_185_SSID   \n",
       "2  Bleached_Tissue                       CLP 90%  092023_BEL_CBC_T1_171_PAST   \n",
       "3          Healthy               CLP 80%; DC 20%  092023_BEL_CBC_T1_173_SSID   \n",
       "4          Healthy                         No CL  092023_BEL_CBC_T1_177_PSTR   \n",
       "\n",
       "  Sample_physical_location Extraction_physical_location Date_sequenced Notes  \n",
       "0                      NaN                          NaN            NaN   NaN  \n",
       "1       UML_NARWHAL_R1_B10                          NaN            NaN   NaN  \n",
       "2       UML_NARWHAL_R1_B10           UML_NARWHAL_R2_B12            NaN   NaN  \n",
       "3       UML_NARWHAL_R1_B10           UML_NARWHAL_R2_B12            NaN   NaN  \n",
       "4       UML_NARWHAL_R1_B10           UML_NARWHAL_R2_B12            NaN   NaN  "
      ]
     },
     "execution_count": 36,
     "metadata": {},
     "output_type": "execute_result"
    }
   ],
   "source": [
    "test.head()"
   ]
  },
  {
   "cell_type": "code",
   "execution_count": 37,
   "id": "ee77fd92-d977-4a92-b930-09402f234529",
   "metadata": {},
   "outputs": [],
   "source": [
    "# add leading 0s to monthyear\n",
    "test['Month_year']=test['Month_year'].astype(str).str.zfill(6)"
   ]
  },
  {
   "cell_type": "code",
   "execution_count": 38,
   "id": "b063b7dd-3c5f-4719-b105-0044d5e883db",
   "metadata": {},
   "outputs": [
    {
     "data": {
      "text/plain": [
       "(2529, 20)"
      ]
     },
     "execution_count": 38,
     "metadata": {},
     "output_type": "execute_result"
    }
   ],
   "source": [
    "test.shape\n",
    "# same dimensions as starting df "
   ]
  },
  {
   "cell_type": "code",
   "execution_count": 40,
   "id": "2465d049-4ffb-4271-9953-d4d9ab4589c0",
   "metadata": {},
   "outputs": [],
   "source": [
    "# export \n",
    "# test.to_csv('/Users/brookesienkiewicz/Documents/sctld/SCTLD_samples/Sample_Data/CBC_samples.csv', index=False)"
   ]
  }
 ],
 "metadata": {
  "kernelspec": {
   "display_name": "Python 3 (ipykernel)",
   "language": "python",
   "name": "python3"
  },
  "language_info": {
   "codemirror_mode": {
    "name": "ipython",
    "version": 3
   },
   "file_extension": ".py",
   "mimetype": "text/x-python",
   "name": "python",
   "nbconvert_exporter": "python",
   "pygments_lexer": "ipython3",
   "version": "3.9.22"
  }
 },
 "nbformat": 4,
 "nbformat_minor": 5
}
