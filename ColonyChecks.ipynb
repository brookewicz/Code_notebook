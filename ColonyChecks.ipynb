{
 "cells": [
  {
   "cell_type": "markdown",
   "id": "48e96e9e-9d77-4732-9cdf-0a93b1343fbd",
   "metadata": {},
   "source": [
    "# Colony Health Status Checks \n",
    "- making new spreadsheet to double check colony health statuses "
   ]
  },
  {
   "cell_type": "code",
   "execution_count": 1,
   "id": "4f707745-8761-4a2a-98a6-df8ffa2e3221",
   "metadata": {},
   "outputs": [
    {
     "name": "stderr",
     "output_type": "stream",
     "text": [
      "\n",
      "Attaching package: ‘dplyr’\n",
      "\n",
      "\n",
      "The following objects are masked from ‘package:stats’:\n",
      "\n",
      "    filter, lag\n",
      "\n",
      "\n",
      "The following objects are masked from ‘package:base’:\n",
      "\n",
      "    intersect, setdiff, setequal, union\n",
      "\n",
      "\n",
      "── \u001b[1mAttaching core tidyverse packages\u001b[22m ──────────────────────── tidyverse 2.0.0 ──\n",
      "\u001b[32m✔\u001b[39m \u001b[34mforcats  \u001b[39m 1.0.0     \u001b[32m✔\u001b[39m \u001b[34mreadr    \u001b[39m 2.1.5\n",
      "\u001b[32m✔\u001b[39m \u001b[34mggplot2  \u001b[39m 3.5.2     \u001b[32m✔\u001b[39m \u001b[34mstringr  \u001b[39m 1.5.1\n",
      "\u001b[32m✔\u001b[39m \u001b[34mlubridate\u001b[39m 1.9.4     \u001b[32m✔\u001b[39m \u001b[34mtibble   \u001b[39m 3.2.1\n",
      "\u001b[32m✔\u001b[39m \u001b[34mpurrr    \u001b[39m 1.0.4     \u001b[32m✔\u001b[39m \u001b[34mtidyr    \u001b[39m 1.3.1\n",
      "── \u001b[1mConflicts\u001b[22m ────────────────────────────────────────── tidyverse_conflicts() ──\n",
      "\u001b[31m✖\u001b[39m \u001b[34mdplyr\u001b[39m::\u001b[32mfilter()\u001b[39m masks \u001b[34mstats\u001b[39m::filter()\n",
      "\u001b[31m✖\u001b[39m \u001b[34mdplyr\u001b[39m::\u001b[32mlag()\u001b[39m    masks \u001b[34mstats\u001b[39m::lag()\n",
      "\u001b[36mℹ\u001b[39m Use the conflicted package (\u001b[3m\u001b[34m<http://conflicted.r-lib.org/>\u001b[39m\u001b[23m) to force all conflicts to become errors\n"
     ]
    }
   ],
   "source": [
    "library(dplyr)\n",
    "library(tidyverse)\n",
    "library(ggplot2)\n",
    "library(tidyr)\n",
    "library(purrr)\n",
    "library(stringr)"
   ]
  },
  {
   "cell_type": "code",
   "execution_count": 4,
   "id": "41b396ae-86e9-47a1-bf0c-459e3e48512d",
   "metadata": {},
   "outputs": [
    {
     "name": "stderr",
     "output_type": "stream",
     "text": [
      "\u001b[1m\u001b[22mNew names:\n",
      "\u001b[36m•\u001b[39m `` -> `...1`\n"
     ]
    }
   ],
   "source": [
    "# upload colony data and delete first empty col \n",
    "colony <- read_csv(\"/Users/brookesienkiewicz/Documents/sctld/SCTLD_samples/Sample_Data/CBC_ColonyData.csv\", show_col_types = FALSE)\n",
    "colony <- colony[, -1] "
   ]
  },
  {
   "cell_type": "code",
   "execution_count": 6,
   "id": "71a4f165-1fc3-44e3-a710-da84fecff83e",
   "metadata": {},
   "outputs": [
    {
     "data": {
      "text/html": [
       "<table class=\"dataframe\">\n",
       "<caption>A tibble: 6 × 55</caption>\n",
       "<thead>\n",
       "\t<tr><th scope=col>Date_InitialTag</th><th scope=col>Transect</th><th scope=col>TransectNum</th><th scope=col>OldTagNum</th><th scope=col>NewTagNum</th><th scope=col>Species</th><th scope=col>Meter</th><th scope=col>Meters_90</th><th scope=col>Direction</th><th scope=col>Size_Class</th><th scope=col>⋯</th><th scope=col>082024_Percentage</th><th scope=col>Notes_082024</th><th scope=col>122024_Condition</th><th scope=col>122024_Percentage</th><th scope=col>Notes_122024</th><th scope=col>062025_Condition</th><th scope=col>062025_Percentage</th><th scope=col>Notes_062025</th><th scope=col>immune_y/n</th><th scope=col>checked_colonies</th></tr>\n",
       "\t<tr><th scope=col>&lt;chr&gt;</th><th scope=col>&lt;chr&gt;</th><th scope=col>&lt;dbl&gt;</th><th scope=col>&lt;chr&gt;</th><th scope=col>&lt;chr&gt;</th><th scope=col>&lt;chr&gt;</th><th scope=col>&lt;dbl&gt;</th><th scope=col>&lt;dbl&gt;</th><th scope=col>&lt;chr&gt;</th><th scope=col>&lt;dbl&gt;</th><th scope=col>⋯</th><th scope=col>&lt;chr&gt;</th><th scope=col>&lt;chr&gt;</th><th scope=col>&lt;chr&gt;</th><th scope=col>&lt;chr&gt;</th><th scope=col>&lt;chr&gt;</th><th scope=col>&lt;chr&gt;</th><th scope=col>&lt;chr&gt;</th><th scope=col>&lt;chr&gt;</th><th scope=col>&lt;chr&gt;</th><th scope=col>&lt;chr&gt;</th></tr>\n",
       "</thead>\n",
       "<tbody>\n",
       "\t<tr><td>6/21/19 </td><td>CBC30N</td><td>1</td><td>349</td><td>1</td><td>SSID</td><td>1.5</td><td>0.50</td><td>right</td><td> 5</td><td>⋯</td><td>NA</td><td>NA                                                                       </td><td>Not_visited</td><td>NA </td><td>Diseased     </td><td>Diseased</td><td>NA</td><td>NA</td><td>n</td><td>x</td></tr>\n",
       "\t<tr><td>6/21/19 </td><td>CBC30N</td><td>1</td><td>334</td><td>2</td><td>PAST</td><td>1.4</td><td>0.10</td><td>left </td><td> 4</td><td>⋯</td><td>NA</td><td>sample lower colony (original colony); inc old mort; too small for immune</td><td>NA         </td><td>NA </td><td>NA           </td><td>Healthy </td><td>NA</td><td>NA</td><td>y</td><td>x</td></tr>\n",
       "\t<tr><td>6/21/19 </td><td>CBC30N</td><td>1</td><td>346</td><td>3</td><td>SSID</td><td>6.3</td><td>0.80</td><td>right</td><td> 5</td><td>⋯</td><td>NA</td><td>90% CLP; some discoloration                                              </td><td>DC         </td><td>10%</td><td>30% mortality</td><td>Diseased</td><td>NA</td><td>NA</td><td>y</td><td>x</td></tr>\n",
       "\t<tr><td>10/15/19</td><td>CBC30N</td><td>1</td><td>407</td><td>4</td><td>PSTR</td><td>6.5</td><td>0.50</td><td>right</td><td> 3</td><td>⋯</td><td>NA</td><td>NA                                                                       </td><td>Not_visited</td><td>NA </td><td>Dead         </td><td>NA      </td><td>NA</td><td>NA</td><td>n</td><td>x</td></tr>\n",
       "\t<tr><td>6/24/19 </td><td>CBC30N</td><td>1</td><td>394</td><td>5</td><td>SSID</td><td>4.3</td><td>1.20</td><td>left </td><td> 5</td><td>⋯</td><td>NA</td><td>NA                                                                       </td><td>DC         </td><td>10%</td><td>80% mortality</td><td>Diseased</td><td>NA</td><td>NA</td><td>n</td><td>x</td></tr>\n",
       "\t<tr><td>10/15/19</td><td>CBC30N</td><td>1</td><td>413</td><td>6</td><td>PSTR</td><td>8.3</td><td>1.75</td><td>left </td><td>NA</td><td>⋯</td><td>NA</td><td>NA                                                                       </td><td>Healthy    </td><td>NA </td><td>95% mortality</td><td>NA      </td><td>NA</td><td>NA</td><td>n</td><td>x</td></tr>\n",
       "</tbody>\n",
       "</table>\n"
      ],
      "text/latex": [
       "A tibble: 6 × 55\n",
       "\\begin{tabular}{lllllllllllllllllllll}\n",
       " Date\\_InitialTag & Transect & TransectNum & OldTagNum & NewTagNum & Species & Meter & Meters\\_90 & Direction & Size\\_Class & ⋯ & 082024\\_Percentage & Notes\\_082024 & 122024\\_Condition & 122024\\_Percentage & Notes\\_122024 & 062025\\_Condition & 062025\\_Percentage & Notes\\_062025 & immune\\_y/n & checked\\_colonies\\\\\n",
       " <chr> & <chr> & <dbl> & <chr> & <chr> & <chr> & <dbl> & <dbl> & <chr> & <dbl> & ⋯ & <chr> & <chr> & <chr> & <chr> & <chr> & <chr> & <chr> & <chr> & <chr> & <chr>\\\\\n",
       "\\hline\n",
       "\t 6/21/19  & CBC30N & 1 & 349 & 1 & SSID & 1.5 & 0.50 & right &  5 & ⋯ & NA & NA                                                                        & Not\\_visited & NA  & Diseased      & Diseased & NA & NA & n & x\\\\\n",
       "\t 6/21/19  & CBC30N & 1 & 334 & 2 & PAST & 1.4 & 0.10 & left  &  4 & ⋯ & NA & sample lower colony (original colony); inc old mort; too small for immune & NA          & NA  & NA            & Healthy  & NA & NA & y & x\\\\\n",
       "\t 6/21/19  & CBC30N & 1 & 346 & 3 & SSID & 6.3 & 0.80 & right &  5 & ⋯ & NA & 90\\% CLP; some discoloration                                               & DC          & 10\\% & 30\\% mortality & Diseased & NA & NA & y & x\\\\\n",
       "\t 10/15/19 & CBC30N & 1 & 407 & 4 & PSTR & 6.5 & 0.50 & right &  3 & ⋯ & NA & NA                                                                        & Not\\_visited & NA  & Dead          & NA       & NA & NA & n & x\\\\\n",
       "\t 6/24/19  & CBC30N & 1 & 394 & 5 & SSID & 4.3 & 1.20 & left  &  5 & ⋯ & NA & NA                                                                        & DC          & 10\\% & 80\\% mortality & Diseased & NA & NA & n & x\\\\\n",
       "\t 10/15/19 & CBC30N & 1 & 413 & 6 & PSTR & 8.3 & 1.75 & left  & NA & ⋯ & NA & NA                                                                        & Healthy     & NA  & 95\\% mortality & NA       & NA & NA & n & x\\\\\n",
       "\\end{tabular}\n"
      ],
      "text/markdown": [
       "\n",
       "A tibble: 6 × 55\n",
       "\n",
       "| Date_InitialTag &lt;chr&gt; | Transect &lt;chr&gt; | TransectNum &lt;dbl&gt; | OldTagNum &lt;chr&gt; | NewTagNum &lt;chr&gt; | Species &lt;chr&gt; | Meter &lt;dbl&gt; | Meters_90 &lt;dbl&gt; | Direction &lt;chr&gt; | Size_Class &lt;dbl&gt; | ⋯ ⋯ | 082024_Percentage &lt;chr&gt; | Notes_082024 &lt;chr&gt; | 122024_Condition &lt;chr&gt; | 122024_Percentage &lt;chr&gt; | Notes_122024 &lt;chr&gt; | 062025_Condition &lt;chr&gt; | 062025_Percentage &lt;chr&gt; | Notes_062025 &lt;chr&gt; | immune_y/n &lt;chr&gt; | checked_colonies &lt;chr&gt; |\n",
       "|---|---|---|---|---|---|---|---|---|---|---|---|---|---|---|---|---|---|---|---|---|\n",
       "| 6/21/19  | CBC30N | 1 | 349 | 1 | SSID | 1.5 | 0.50 | right |  5 | ⋯ | NA | NA                                                                        | Not_visited | NA  | Diseased      | Diseased | NA | NA | n | x |\n",
       "| 6/21/19  | CBC30N | 1 | 334 | 2 | PAST | 1.4 | 0.10 | left  |  4 | ⋯ | NA | sample lower colony (original colony); inc old mort; too small for immune | NA          | NA  | NA            | Healthy  | NA | NA | y | x |\n",
       "| 6/21/19  | CBC30N | 1 | 346 | 3 | SSID | 6.3 | 0.80 | right |  5 | ⋯ | NA | 90% CLP; some discoloration                                               | DC          | 10% | 30% mortality | Diseased | NA | NA | y | x |\n",
       "| 10/15/19 | CBC30N | 1 | 407 | 4 | PSTR | 6.5 | 0.50 | right |  3 | ⋯ | NA | NA                                                                        | Not_visited | NA  | Dead          | NA       | NA | NA | n | x |\n",
       "| 6/24/19  | CBC30N | 1 | 394 | 5 | SSID | 4.3 | 1.20 | left  |  5 | ⋯ | NA | NA                                                                        | DC          | 10% | 80% mortality | Diseased | NA | NA | n | x |\n",
       "| 10/15/19 | CBC30N | 1 | 413 | 6 | PSTR | 8.3 | 1.75 | left  | NA | ⋯ | NA | NA                                                                        | Healthy     | NA  | 95% mortality | NA       | NA | NA | n | x |\n",
       "\n"
      ],
      "text/plain": [
       "  Date_InitialTag Transect TransectNum OldTagNum NewTagNum Species Meter\n",
       "1 6/21/19         CBC30N   1           349       1         SSID    1.5  \n",
       "2 6/21/19         CBC30N   1           334       2         PAST    1.4  \n",
       "3 6/21/19         CBC30N   1           346       3         SSID    6.3  \n",
       "4 10/15/19        CBC30N   1           407       4         PSTR    6.5  \n",
       "5 6/24/19         CBC30N   1           394       5         SSID    4.3  \n",
       "6 10/15/19        CBC30N   1           413       6         PSTR    8.3  \n",
       "  Meters_90 Direction Size_Class ⋯ 082024_Percentage\n",
       "1 0.50      right      5         ⋯ NA               \n",
       "2 0.10      left       4         ⋯ NA               \n",
       "3 0.80      right      5         ⋯ NA               \n",
       "4 0.50      right      3         ⋯ NA               \n",
       "5 1.20      left       5         ⋯ NA               \n",
       "6 1.75      left      NA         ⋯ NA               \n",
       "  Notes_082024                                                             \n",
       "1 NA                                                                       \n",
       "2 sample lower colony (original colony); inc old mort; too small for immune\n",
       "3 90% CLP; some discoloration                                              \n",
       "4 NA                                                                       \n",
       "5 NA                                                                       \n",
       "6 NA                                                                       \n",
       "  122024_Condition 122024_Percentage Notes_122024  062025_Condition\n",
       "1 Not_visited      NA                Diseased      Diseased        \n",
       "2 NA               NA                NA            Healthy         \n",
       "3 DC               10%               30% mortality Diseased        \n",
       "4 Not_visited      NA                Dead          NA              \n",
       "5 DC               10%               80% mortality Diseased        \n",
       "6 Healthy          NA                95% mortality NA              \n",
       "  062025_Percentage Notes_062025 immune_y/n checked_colonies\n",
       "1 NA                NA           n          x               \n",
       "2 NA                NA           y          x               \n",
       "3 NA                NA           y          x               \n",
       "4 NA                NA           n          x               \n",
       "5 NA                NA           n          x               \n",
       "6 NA                NA           n          x               "
      ]
     },
     "metadata": {},
     "output_type": "display_data"
    }
   ],
   "source": [
    "head(colony)"
   ]
  },
  {
   "cell_type": "code",
   "execution_count": null,
   "id": "ba7c1ca1-50d6-4f73-b7a1-b60b37c1d92c",
   "metadata": {},
   "outputs": [],
   "source": [
    "# checking colony data \n",
    "#    pivot colonydata - each row is a colony’s health status at given date, \n",
    "# headers: Transect, Colony, Date, Health Status, Checked (initials)"
   ]
  },
  {
   "cell_type": "code",
   "execution_count": 17,
   "id": "974edd54-6eb1-4374-adaa-0717ba3346b0",
   "metadata": {},
   "outputs": [
    {
     "data": {
      "text/html": [
       "<table class=\"dataframe\">\n",
       "<caption>A tibble: 6 × 13</caption>\n",
       "<thead>\n",
       "\t<tr><th scope=col>Date_InitialTag</th><th scope=col>Transect</th><th scope=col>TransectNum</th><th scope=col>NewTagNum</th><th scope=col>Species</th><th scope=col>Date_DocumentedDisease</th><th scope=col>Date_DocumentedMortality</th><th scope=col>immune_y/n</th><th scope=col>check_condition_initials</th><th scope=col>Date</th><th scope=col>Condition</th><th scope=col>Percentage</th><th scope=col>check_condition_notes</th></tr>\n",
       "\t<tr><th scope=col>&lt;chr&gt;</th><th scope=col>&lt;chr&gt;</th><th scope=col>&lt;dbl&gt;</th><th scope=col>&lt;chr&gt;</th><th scope=col>&lt;chr&gt;</th><th scope=col>&lt;chr&gt;</th><th scope=col>&lt;chr&gt;</th><th scope=col>&lt;chr&gt;</th><th scope=col>&lt;chr&gt;</th><th scope=col>&lt;chr&gt;</th><th scope=col>&lt;chr&gt;</th><th scope=col>&lt;chr&gt;</th><th scope=col>&lt;lgl&gt;</th></tr>\n",
       "</thead>\n",
       "<tbody>\n",
       "\t<tr><td>6/21/19</td><td>CBC30N</td><td>1</td><td>1</td><td>SSID</td><td>5/21/22</td><td>Diseased</td><td>n</td><td>x</td><td>062019</td><td>Healthy    </td><td>NA</td><td>NA</td></tr>\n",
       "\t<tr><td>6/21/19</td><td>CBC30N</td><td>1</td><td>1</td><td>SSID</td><td>5/21/22</td><td>Diseased</td><td>n</td><td>x</td><td>052022</td><td>Diseased   </td><td>NA</td><td>NA</td></tr>\n",
       "\t<tr><td>6/21/19</td><td>CBC30N</td><td>1</td><td>1</td><td>SSID</td><td>5/21/22</td><td>Diseased</td><td>n</td><td>x</td><td>122022</td><td>Diseased   </td><td>NA</td><td>NA</td></tr>\n",
       "\t<tr><td>6/21/19</td><td>CBC30N</td><td>1</td><td>1</td><td>SSID</td><td>5/21/22</td><td>Diseased</td><td>n</td><td>x</td><td>092023</td><td>Diseased   </td><td>NA</td><td>NA</td></tr>\n",
       "\t<tr><td>6/21/19</td><td>CBC30N</td><td>1</td><td>1</td><td>SSID</td><td>5/21/22</td><td>Diseased</td><td>n</td><td>x</td><td>112023</td><td>Not_Visited</td><td>NA</td><td>NA</td></tr>\n",
       "\t<tr><td>6/21/19</td><td>CBC30N</td><td>1</td><td>1</td><td>SSID</td><td>5/21/22</td><td>Diseased</td><td>n</td><td>x</td><td>122023</td><td>Not_Visited</td><td>NA</td><td>NA</td></tr>\n",
       "</tbody>\n",
       "</table>\n"
      ],
      "text/latex": [
       "A tibble: 6 × 13\n",
       "\\begin{tabular}{lllllllllllll}\n",
       " Date\\_InitialTag & Transect & TransectNum & NewTagNum & Species & Date\\_DocumentedDisease & Date\\_DocumentedMortality & immune\\_y/n & check\\_condition\\_initials & Date & Condition & Percentage & check\\_condition\\_notes\\\\\n",
       " <chr> & <chr> & <dbl> & <chr> & <chr> & <chr> & <chr> & <chr> & <chr> & <chr> & <chr> & <chr> & <lgl>\\\\\n",
       "\\hline\n",
       "\t 6/21/19 & CBC30N & 1 & 1 & SSID & 5/21/22 & Diseased & n & x & 062019 & Healthy     & NA & NA\\\\\n",
       "\t 6/21/19 & CBC30N & 1 & 1 & SSID & 5/21/22 & Diseased & n & x & 052022 & Diseased    & NA & NA\\\\\n",
       "\t 6/21/19 & CBC30N & 1 & 1 & SSID & 5/21/22 & Diseased & n & x & 122022 & Diseased    & NA & NA\\\\\n",
       "\t 6/21/19 & CBC30N & 1 & 1 & SSID & 5/21/22 & Diseased & n & x & 092023 & Diseased    & NA & NA\\\\\n",
       "\t 6/21/19 & CBC30N & 1 & 1 & SSID & 5/21/22 & Diseased & n & x & 112023 & Not\\_Visited & NA & NA\\\\\n",
       "\t 6/21/19 & CBC30N & 1 & 1 & SSID & 5/21/22 & Diseased & n & x & 122023 & Not\\_Visited & NA & NA\\\\\n",
       "\\end{tabular}\n"
      ],
      "text/markdown": [
       "\n",
       "A tibble: 6 × 13\n",
       "\n",
       "| Date_InitialTag &lt;chr&gt; | Transect &lt;chr&gt; | TransectNum &lt;dbl&gt; | NewTagNum &lt;chr&gt; | Species &lt;chr&gt; | Date_DocumentedDisease &lt;chr&gt; | Date_DocumentedMortality &lt;chr&gt; | immune_y/n &lt;chr&gt; | check_condition_initials &lt;chr&gt; | Date &lt;chr&gt; | Condition &lt;chr&gt; | Percentage &lt;chr&gt; | check_condition_notes &lt;lgl&gt; |\n",
       "|---|---|---|---|---|---|---|---|---|---|---|---|---|\n",
       "| 6/21/19 | CBC30N | 1 | 1 | SSID | 5/21/22 | Diseased | n | x | 062019 | Healthy     | NA | NA |\n",
       "| 6/21/19 | CBC30N | 1 | 1 | SSID | 5/21/22 | Diseased | n | x | 052022 | Diseased    | NA | NA |\n",
       "| 6/21/19 | CBC30N | 1 | 1 | SSID | 5/21/22 | Diseased | n | x | 122022 | Diseased    | NA | NA |\n",
       "| 6/21/19 | CBC30N | 1 | 1 | SSID | 5/21/22 | Diseased | n | x | 092023 | Diseased    | NA | NA |\n",
       "| 6/21/19 | CBC30N | 1 | 1 | SSID | 5/21/22 | Diseased | n | x | 112023 | Not_Visited | NA | NA |\n",
       "| 6/21/19 | CBC30N | 1 | 1 | SSID | 5/21/22 | Diseased | n | x | 122023 | Not_Visited | NA | NA |\n",
       "\n"
      ],
      "text/plain": [
       "  Date_InitialTag Transect TransectNum NewTagNum Species Date_DocumentedDisease\n",
       "1 6/21/19         CBC30N   1           1         SSID    5/21/22               \n",
       "2 6/21/19         CBC30N   1           1         SSID    5/21/22               \n",
       "3 6/21/19         CBC30N   1           1         SSID    5/21/22               \n",
       "4 6/21/19         CBC30N   1           1         SSID    5/21/22               \n",
       "5 6/21/19         CBC30N   1           1         SSID    5/21/22               \n",
       "6 6/21/19         CBC30N   1           1         SSID    5/21/22               \n",
       "  Date_DocumentedMortality immune_y/n check_condition_initials Date  \n",
       "1 Diseased                 n          x                        062019\n",
       "2 Diseased                 n          x                        052022\n",
       "3 Diseased                 n          x                        122022\n",
       "4 Diseased                 n          x                        092023\n",
       "5 Diseased                 n          x                        112023\n",
       "6 Diseased                 n          x                        122023\n",
       "  Condition   Percentage check_condition_notes\n",
       "1 Healthy     NA         NA                   \n",
       "2 Diseased    NA         NA                   \n",
       "3 Diseased    NA         NA                   \n",
       "4 Diseased    NA         NA                   \n",
       "5 Not_Visited NA         NA                   \n",
       "6 Not_Visited NA         NA                   "
      ]
     },
     "metadata": {},
     "output_type": "display_data"
    }
   ],
   "source": [
    "# help from chatgpt to extract the date portion from condition & percentage columns \n",
    "colony_checks<-colony %>%\n",
    "# filter columns \n",
    "  select(-c(OldTagNum, Meter, Meters_90, Direction, Size_Class,\n",
    "            MaxDiameter, Height), \n",
    "         -matches(\"Notes\")) %>%\n",
    "  pivot_longer(\n",
    "      # select cols to pivot\n",
    "    cols = matches(\"\\\\d{6}_(Condition|Percentage)\"),\n",
    "      #selects part of the column name (date and condition/%) and makes it new cols\n",
    "    names_to = c(\"Date\", \".value\"),\n",
    "    names_pattern = \"(\\\\d{6})_(Condition|Percentage)\"\n",
    "  ) %>%\n",
    "# optional: change date to real date format \n",
    "#   mutate(Date = as.Date(paste0(substr(Date, 1, 2), \"/01/\", substr(Date, 3, 6)), format = \"%m/%d/%Y\"))\n",
    "    rename(check_condition_initials = checked_colonies) %>%\n",
    "# add new blank column \n",
    "    mutate(check_condition_notes= NA)\n",
    "\n",
    "head(colony_checks)"
   ]
  },
  {
   "cell_type": "code",
   "execution_count": null,
   "id": "6179b02c-e3ef-414f-8c86-1459bc00cea0",
   "metadata": {},
   "outputs": [],
   "source": []
  }
 ],
 "metadata": {
  "kernelspec": {
   "display_name": "R",
   "language": "R",
   "name": "ir"
  },
  "language_info": {
   "codemirror_mode": "r",
   "file_extension": ".r",
   "mimetype": "text/x-r-source",
   "name": "R",
   "pygments_lexer": "r",
   "version": "4.3.3"
  }
 },
 "nbformat": 4,
 "nbformat_minor": 5
}
